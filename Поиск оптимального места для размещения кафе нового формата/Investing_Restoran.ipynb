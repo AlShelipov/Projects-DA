{
 "cells": [
  {
   "cell_type": "markdown",
   "metadata": {},
   "source": [
    "# **Описание проекта**\n",
    "\n",
    "Мы решили открыть небольшое кафе в Москве. Оно оригинальное — гостей должны обслуживать роботы. Проект многообещающий, но дорогой. Вместе с партнёрами мы решились обратиться к инвесторам. Их интересует текущее положение дел на рынке — сможете ли вы снискать популярность на долгое время, когда все зеваки насмотрятся на роботов-официантов?\n",
    "\n",
    "\n",
    "Партнёры просят подготовить исследование рынка. У нас есть открытые данные о заведениях общественного питания в Москве.\n",
    "\n",
    "# **План выполнения проекта**\n",
    "\n",
    "1. **Загрузите данные и подготовьте их к анализу**\n",
    "\n",
    "Загрузить данные о заведениях общественного питания Москвы. Убедиться, что тип данных в каждой колонке — правильный, а также отсутствуют пропущенные значения и дубликаты. При необходимости обработать их.\n",
    "Путь к файлу: /datasets/rest_data.csv.\n",
    "\n",
    "2. **Анализ данных**\n",
    "- Исследовать соотношение видов объектов общественного питания по количеству. Построить график.\n",
    "- Исследовать соотношение сетевых и несетевых заведений по количеству. Построить график.\n",
    "- Для какого вида объекта общественного питания характерно сетевое распространение?\n",
    "- Что характерно для сетевых заведений: много заведений с небольшим числом посадочных мест в каждом или мало заведений с большим количеством посадочных мест?\n",
    "- Для каждого вида объекта общественного питания описать среднее количество посадочных мест. Какой вид предоставляет в среднем самое большое количество посадочных мест? Построить графики.\n",
    "- Выделить в отдельный столбец информацию об улице из столбца address .\n",
    "- Построить график топ-10 улиц по количеству объектов общественного питания. Воспользоваться внешней информацией и ответить на вопрос — в каких районах Москвы находятся эти улицы?\n",
    "- Найти число улиц с одним объектом общественного питания. Воспользоваться внешней информацией и ответить на вопрос — в каких районах Москвы находятся эти улицы?\n",
    "- Сделать общий вывод и дайте рекомендации о виде заведения, количестве посадочных мест, а также районе расположения. Прокомментировать возможность развития сети.\n",
    "\n",
    "3. **Подготовка презентации**\n",
    "\n",
    "Подготовить презентацию исследования для инвесторов. Для создания презентации использовать любой удобный инструмент, но отправить презентацию нужно обязательно в формате pdf. Приложить ссылку на презентацию в markdown-ячейке в формате.\n",
    "\n",
    "# Описание данных\n",
    "Таблица rest_data:\n",
    "- id — идентификатор объекта;\n",
    "- object_name — название объекта общественного питания;\n",
    "- chain — сетевой ресторан;\n",
    "- object_type — тип объекта общественного питания;\n",
    "- address — адрес;\n",
    "- number — количество посадочных мест."
   ]
  },
  {
   "cell_type": "markdown",
   "metadata": {},
   "source": [
    "## Загрузка и подготовка данных"
   ]
  },
  {
   "cell_type": "code",
   "execution_count": 1,
   "metadata": {},
   "outputs": [],
   "source": [
    "import pandas as pd\n",
    "import matplotlib.pyplot as plt\n",
    "\n",
    "import seaborn as sns\n",
    "sns.set(rc={'figure.figsize':(10, 8)})\n",
    "import requests\n",
    "\n",
    "import scipy.stats as stats\n",
    "from scipy import stats as st\n",
    "from pandas.io.json import json_normalize\n",
    "from pprint import pprint\n",
    "import json\n",
    "\n",
    "\n",
    "import math\n",
    "import numpy as np"
   ]
  },
  {
   "cell_type": "markdown",
   "metadata": {},
   "source": [
    "Первым делом получим сами данные."
   ]
  },
  {
   "cell_type": "code",
   "execution_count": 2,
   "metadata": {},
   "outputs": [],
   "source": [
    "df = pd.read_csv('/datasets/rest_data.csv')"
   ]
  },
  {
   "cell_type": "markdown",
   "metadata": {},
   "source": [
    "А теперь со всех сторон посмотрим на данные."
   ]
  },
  {
   "cell_type": "code",
   "execution_count": 3,
   "metadata": {},
   "outputs": [
    {
     "data": {
      "text/html": [
       "<div>\n",
       "<style scoped>\n",
       "    .dataframe tbody tr th:only-of-type {\n",
       "        vertical-align: middle;\n",
       "    }\n",
       "\n",
       "    .dataframe tbody tr th {\n",
       "        vertical-align: top;\n",
       "    }\n",
       "\n",
       "    .dataframe thead th {\n",
       "        text-align: right;\n",
       "    }\n",
       "</style>\n",
       "<table border=\"1\" class=\"dataframe\">\n",
       "  <thead>\n",
       "    <tr style=\"text-align: right;\">\n",
       "      <th></th>\n",
       "      <th>id</th>\n",
       "      <th>object_name</th>\n",
       "      <th>chain</th>\n",
       "      <th>object_type</th>\n",
       "      <th>address</th>\n",
       "      <th>number</th>\n",
       "    </tr>\n",
       "  </thead>\n",
       "  <tbody>\n",
       "    <tr>\n",
       "      <th>0</th>\n",
       "      <td>151635</td>\n",
       "      <td>СМЕТАНА</td>\n",
       "      <td>нет</td>\n",
       "      <td>кафе</td>\n",
       "      <td>город Москва, улица Егора Абакумова, дом 9</td>\n",
       "      <td>48</td>\n",
       "    </tr>\n",
       "    <tr>\n",
       "      <th>1</th>\n",
       "      <td>77874</td>\n",
       "      <td>Родник</td>\n",
       "      <td>нет</td>\n",
       "      <td>кафе</td>\n",
       "      <td>город Москва, улица Талалихина, дом 2/1, корпус 1</td>\n",
       "      <td>35</td>\n",
       "    </tr>\n",
       "    <tr>\n",
       "      <th>2</th>\n",
       "      <td>24309</td>\n",
       "      <td>Кафе «Академия»</td>\n",
       "      <td>нет</td>\n",
       "      <td>кафе</td>\n",
       "      <td>город Москва, Абельмановская улица, дом 6</td>\n",
       "      <td>95</td>\n",
       "    </tr>\n",
       "    <tr>\n",
       "      <th>3</th>\n",
       "      <td>21894</td>\n",
       "      <td>ПИЦЦЕТОРИЯ</td>\n",
       "      <td>да</td>\n",
       "      <td>кафе</td>\n",
       "      <td>город Москва, Абрамцевская улица, дом 1</td>\n",
       "      <td>40</td>\n",
       "    </tr>\n",
       "    <tr>\n",
       "      <th>4</th>\n",
       "      <td>119365</td>\n",
       "      <td>Кафе «Вишневая метель»</td>\n",
       "      <td>нет</td>\n",
       "      <td>кафе</td>\n",
       "      <td>город Москва, Абрамцевская улица, дом 9, корпус 1</td>\n",
       "      <td>50</td>\n",
       "    </tr>\n",
       "  </tbody>\n",
       "</table>\n",
       "</div>"
      ],
      "text/plain": [
       "       id             object_name chain object_type  \\\n",
       "0  151635                 СМЕТАНА   нет        кафе   \n",
       "1   77874                  Родник   нет        кафе   \n",
       "2   24309         Кафе «Академия»   нет        кафе   \n",
       "3   21894              ПИЦЦЕТОРИЯ    да        кафе   \n",
       "4  119365  Кафе «Вишневая метель»   нет        кафе   \n",
       "\n",
       "                                             address  number  \n",
       "0         город Москва, улица Егора Абакумова, дом 9      48  \n",
       "1  город Москва, улица Талалихина, дом 2/1, корпус 1      35  \n",
       "2          город Москва, Абельмановская улица, дом 6      95  \n",
       "3            город Москва, Абрамцевская улица, дом 1      40  \n",
       "4  город Москва, Абрамцевская улица, дом 9, корпус 1      50  "
      ]
     },
     "execution_count": 3,
     "metadata": {},
     "output_type": "execute_result"
    }
   ],
   "source": [
    "df.head()"
   ]
  },
  {
   "cell_type": "code",
   "execution_count": 4,
   "metadata": {},
   "outputs": [
    {
     "name": "stdout",
     "output_type": "stream",
     "text": [
      "<class 'pandas.core.frame.DataFrame'>\n",
      "RangeIndex: 15366 entries, 0 to 15365\n",
      "Data columns (total 6 columns):\n",
      " #   Column       Non-Null Count  Dtype \n",
      "---  ------       --------------  ----- \n",
      " 0   id           15366 non-null  int64 \n",
      " 1   object_name  15366 non-null  object\n",
      " 2   chain        15366 non-null  object\n",
      " 3   object_type  15366 non-null  object\n",
      " 4   address      15366 non-null  object\n",
      " 5   number       15366 non-null  int64 \n",
      "dtypes: int64(2), object(4)\n",
      "memory usage: 720.4+ KB\n"
     ]
    }
   ],
   "source": [
    "df.info()"
   ]
  },
  {
   "cell_type": "code",
   "execution_count": 5,
   "metadata": {
    "scrolled": true
   },
   "outputs": [
    {
     "data": {
      "text/plain": [
       "id             0\n",
       "object_name    0\n",
       "chain          0\n",
       "object_type    0\n",
       "address        0\n",
       "number         0\n",
       "dtype: int64"
      ]
     },
     "execution_count": 5,
     "metadata": {},
     "output_type": "execute_result"
    }
   ],
   "source": [
    "df.isna().sum()"
   ]
  },
  {
   "cell_type": "markdown",
   "metadata": {},
   "source": [
    "Нулевых значений нет."
   ]
  },
  {
   "cell_type": "markdown",
   "metadata": {},
   "source": [
    "Чтобы было более читаемо и понятно, выполним следующие действия:\n",
    "- переименуем столбец number, чтобы было сразу понятно, что это число посадочных мест.\n",
    "- приведём к нижнему регистру.\n",
    "- уберём знаки препинания в адресах, чтобы было проще с ними работать.\n",
    "- заменим в адресах \"ё\" на \"е\"."
   ]
  },
  {
   "cell_type": "code",
   "execution_count": 6,
   "metadata": {},
   "outputs": [],
   "source": [
    "df = df.rename(columns={'number':'number_of_seats'})"
   ]
  },
  {
   "cell_type": "code",
   "execution_count": 7,
   "metadata": {},
   "outputs": [],
   "source": [
    "df['object_name'] = df['object_name'].str.lower()\n",
    "df['object_type'] = df['object_type'].str.lower()\n",
    "df['address'] = df['address'].str.lower()"
   ]
  },
  {
   "cell_type": "code",
   "execution_count": 8,
   "metadata": {},
   "outputs": [
    {
     "name": "stderr",
     "output_type": "stream",
     "text": [
      "/tmp/ipykernel_882/1505276953.py:3: FutureWarning: The default value of regex will change from True to False in a future version. In addition, single character regular expressions will*not* be treated as literal strings when regex=True.\n",
      "  df['object_name'] = df['object_name'].str.replace(s, ' ')\n",
      "/tmp/ipykernel_882/1505276953.py:4: FutureWarning: The default value of regex will change from True to False in a future version. In addition, single character regular expressions will*not* be treated as literal strings when regex=True.\n",
      "  df['address'] = df['address'].str.replace(s, ' ')\n"
     ]
    }
   ],
   "source": [
    "symbols = [',', '«', '»', '(', ')', '\"', '  ']\n",
    "for s in symbols:\n",
    "    df['object_name'] = df['object_name'].str.replace(s, ' ')\n",
    "    df['address'] = df['address'].str.replace(s, ' ')"
   ]
  },
  {
   "cell_type": "code",
   "execution_count": 9,
   "metadata": {},
   "outputs": [],
   "source": [
    "df['address'] = df['address'].str.replace('ё','е')"
   ]
  },
  {
   "cell_type": "markdown",
   "metadata": {},
   "source": [
    "Удалим возможные дубли и проверим, остались ли такие. Проверяем по имени заведения, типу и адресу. Вряд ли ведь в однмо здании будет два одинаковых заведения."
   ]
  },
  {
   "cell_type": "code",
   "execution_count": 10,
   "metadata": {
    "scrolled": true
   },
   "outputs": [
    {
     "data": {
      "text/plain": [
       "184"
      ]
     },
     "execution_count": 10,
     "metadata": {},
     "output_type": "execute_result"
    }
   ],
   "source": [
    "df.duplicated(subset = ['object_name', 'object_type', 'address']).sum()"
   ]
  },
  {
   "cell_type": "code",
   "execution_count": 11,
   "metadata": {},
   "outputs": [
    {
     "data": {
      "text/plain": [
       "1.1974489131849537"
      ]
     },
     "execution_count": 11,
     "metadata": {},
     "output_type": "execute_result"
    }
   ],
   "source": [
    "184/15366 * 100"
   ]
  },
  {
   "cell_type": "markdown",
   "metadata": {},
   "source": [
    "Дублей чуть больше одного процента, скорее всего это ошибки базы или выгрузки. Можем удалить, их не боясь существенно изменить возможный результат исследования."
   ]
  },
  {
   "cell_type": "code",
   "execution_count": 12,
   "metadata": {},
   "outputs": [],
   "source": [
    "df = df.drop_duplicates(subset = ['object_name', 'object_type', 'address']).reset_index()"
   ]
  },
  {
   "cell_type": "code",
   "execution_count": 13,
   "metadata": {},
   "outputs": [
    {
     "data": {
      "text/plain": [
       "0"
      ]
     },
     "execution_count": 13,
     "metadata": {},
     "output_type": "execute_result"
    }
   ],
   "source": [
    "df.duplicated().sum()"
   ]
  },
  {
   "cell_type": "code",
   "execution_count": 14,
   "metadata": {},
   "outputs": [
    {
     "data": {
      "text/html": [
       "<div>\n",
       "<style scoped>\n",
       "    .dataframe tbody tr th:only-of-type {\n",
       "        vertical-align: middle;\n",
       "    }\n",
       "\n",
       "    .dataframe tbody tr th {\n",
       "        vertical-align: top;\n",
       "    }\n",
       "\n",
       "    .dataframe thead th {\n",
       "        text-align: right;\n",
       "    }\n",
       "</style>\n",
       "<table border=\"1\" class=\"dataframe\">\n",
       "  <thead>\n",
       "    <tr style=\"text-align: right;\">\n",
       "      <th></th>\n",
       "      <th>index</th>\n",
       "      <th>id</th>\n",
       "      <th>object_name</th>\n",
       "      <th>chain</th>\n",
       "      <th>object_type</th>\n",
       "      <th>address</th>\n",
       "      <th>number_of_seats</th>\n",
       "    </tr>\n",
       "  </thead>\n",
       "  <tbody>\n",
       "    <tr>\n",
       "      <th>0</th>\n",
       "      <td>0</td>\n",
       "      <td>151635</td>\n",
       "      <td>сметана</td>\n",
       "      <td>нет</td>\n",
       "      <td>кафе</td>\n",
       "      <td>город москва улица егора абакумова дом 9</td>\n",
       "      <td>48</td>\n",
       "    </tr>\n",
       "    <tr>\n",
       "      <th>1</th>\n",
       "      <td>1</td>\n",
       "      <td>77874</td>\n",
       "      <td>родник</td>\n",
       "      <td>нет</td>\n",
       "      <td>кафе</td>\n",
       "      <td>город москва улица талалихина дом 2/1 корпус 1</td>\n",
       "      <td>35</td>\n",
       "    </tr>\n",
       "    <tr>\n",
       "      <th>2</th>\n",
       "      <td>2</td>\n",
       "      <td>24309</td>\n",
       "      <td>кафе академия</td>\n",
       "      <td>нет</td>\n",
       "      <td>кафе</td>\n",
       "      <td>город москва абельмановская улица дом 6</td>\n",
       "      <td>95</td>\n",
       "    </tr>\n",
       "    <tr>\n",
       "      <th>3</th>\n",
       "      <td>3</td>\n",
       "      <td>21894</td>\n",
       "      <td>пиццетория</td>\n",
       "      <td>да</td>\n",
       "      <td>кафе</td>\n",
       "      <td>город москва абрамцевская улица дом 1</td>\n",
       "      <td>40</td>\n",
       "    </tr>\n",
       "    <tr>\n",
       "      <th>4</th>\n",
       "      <td>4</td>\n",
       "      <td>119365</td>\n",
       "      <td>кафе вишневая метель</td>\n",
       "      <td>нет</td>\n",
       "      <td>кафе</td>\n",
       "      <td>город москва абрамцевская улица дом 9 корпус 1</td>\n",
       "      <td>50</td>\n",
       "    </tr>\n",
       "    <tr>\n",
       "      <th>5</th>\n",
       "      <td>5</td>\n",
       "      <td>27429</td>\n",
       "      <td>стол. при гоу сош № 1051</td>\n",
       "      <td>нет</td>\n",
       "      <td>столовая</td>\n",
       "      <td>город москва абрамцевская улица дом 15 корпус 1</td>\n",
       "      <td>240</td>\n",
       "    </tr>\n",
       "    <tr>\n",
       "      <th>6</th>\n",
       "      <td>6</td>\n",
       "      <td>148815</td>\n",
       "      <td>брусника</td>\n",
       "      <td>да</td>\n",
       "      <td>кафе</td>\n",
       "      <td>город москва переулок сивцев вражек дом 6/2</td>\n",
       "      <td>10</td>\n",
       "    </tr>\n",
       "    <tr>\n",
       "      <th>7</th>\n",
       "      <td>7</td>\n",
       "      <td>20957</td>\n",
       "      <td>буфет мтуси</td>\n",
       "      <td>нет</td>\n",
       "      <td>столовая</td>\n",
       "      <td>город москва авиамоторная улица дом 8 строение 1</td>\n",
       "      <td>90</td>\n",
       "    </tr>\n",
       "    <tr>\n",
       "      <th>8</th>\n",
       "      <td>8</td>\n",
       "      <td>20958</td>\n",
       "      <td>кпф семья-1</td>\n",
       "      <td>нет</td>\n",
       "      <td>столовая</td>\n",
       "      <td>город москва авиамоторная улица дом 8 строение 1</td>\n",
       "      <td>150</td>\n",
       "    </tr>\n",
       "    <tr>\n",
       "      <th>9</th>\n",
       "      <td>9</td>\n",
       "      <td>28858</td>\n",
       "      <td>столовая мтуси</td>\n",
       "      <td>нет</td>\n",
       "      <td>столовая</td>\n",
       "      <td>город москва авиамоторная улица дом 8 строение 1</td>\n",
       "      <td>120</td>\n",
       "    </tr>\n",
       "  </tbody>\n",
       "</table>\n",
       "</div>"
      ],
      "text/plain": [
       "   index      id               object_name chain object_type  \\\n",
       "0      0  151635                   сметана   нет        кафе   \n",
       "1      1   77874                    родник   нет        кафе   \n",
       "2      2   24309            кафе академия    нет        кафе   \n",
       "3      3   21894                пиццетория    да        кафе   \n",
       "4      4  119365     кафе вишневая метель    нет        кафе   \n",
       "5      5   27429  стол. при гоу сош № 1051   нет    столовая   \n",
       "6      6  148815                  брусника    да        кафе   \n",
       "7      7   20957               буфет мтуси   нет    столовая   \n",
       "8      8   20958               кпф семья-1   нет    столовая   \n",
       "9      9   28858            столовая мтуси   нет    столовая   \n",
       "\n",
       "                                            address  number_of_seats  \n",
       "0          город москва улица егора абакумова дом 9               48  \n",
       "1    город москва улица талалихина дом 2/1 корпус 1               35  \n",
       "2           город москва абельмановская улица дом 6               95  \n",
       "3             город москва абрамцевская улица дом 1               40  \n",
       "4    город москва абрамцевская улица дом 9 корпус 1               50  \n",
       "5   город москва абрамцевская улица дом 15 корпус 1              240  \n",
       "6       город москва переулок сивцев вражек дом 6/2               10  \n",
       "7  город москва авиамоторная улица дом 8 строение 1               90  \n",
       "8  город москва авиамоторная улица дом 8 строение 1              150  \n",
       "9  город москва авиамоторная улица дом 8 строение 1              120  "
      ]
     },
     "execution_count": 14,
     "metadata": {},
     "output_type": "execute_result"
    }
   ],
   "source": [
    "df.head(10)"
   ]
  },
  {
   "cell_type": "code",
   "execution_count": 15,
   "metadata": {},
   "outputs": [
    {
     "name": "stdout",
     "output_type": "stream",
     "text": [
      "<class 'pandas.core.frame.DataFrame'>\n",
      "RangeIndex: 15182 entries, 0 to 15181\n",
      "Data columns (total 7 columns):\n",
      " #   Column           Non-Null Count  Dtype \n",
      "---  ------           --------------  ----- \n",
      " 0   index            15182 non-null  int64 \n",
      " 1   id               15182 non-null  int64 \n",
      " 2   object_name      15182 non-null  object\n",
      " 3   chain            15182 non-null  object\n",
      " 4   object_type      15182 non-null  object\n",
      " 5   address          15182 non-null  object\n",
      " 6   number_of_seats  15182 non-null  int64 \n",
      "dtypes: int64(3), object(4)\n",
      "memory usage: 830.4+ KB\n"
     ]
    }
   ],
   "source": [
    "df.info()"
   ]
  },
  {
   "cell_type": "markdown",
   "metadata": {},
   "source": [
    "Действительно, строк стало меньше, чем при первом просмотре. Видимо дубли всё-таки были."
   ]
  },
  {
   "cell_type": "markdown",
   "metadata": {},
   "source": [
    "## Анализ данных"
   ]
  },
  {
   "cell_type": "markdown",
   "metadata": {},
   "source": [
    "### Исследовать соотношение видов объектов общественного питания по количеству. Построить график."
   ]
  },
  {
   "cell_type": "code",
   "execution_count": 16,
   "metadata": {
    "scrolled": false
   },
   "outputs": [
    {
     "data": {
      "image/png": "[encoded data removed]",
      "text/plain": [
       "<Figure size 720x576 with 1 Axes>"
      ]
     },
     "metadata": {},
     "output_type": "display_data"
    }
   ],
   "source": [
    "ax = df.groupby('object_type')['object_name'].count().sort_values().plot(kind='barh')\n",
    "ax.set_xlabel('Кол-во объектов общественного питания в Москве')\n",
    "ax.set_ylabel('Тип объекта')\n",
    "ax.set_title('Количество объектов')\n",
    "plt.show()"
   ]
  },
  {
   "cell_type": "markdown",
   "metadata": {},
   "source": [
    "Очевидно, что кафе намного больше, чем других заведений. Много столовых (я честно думал, что их намного меньше). Также выделяются рестораны и предприятия быстрого обслуживания."
   ]
  },
  {
   "cell_type": "markdown",
   "metadata": {},
   "source": [
    "### Исследовать соотношение сетевых и несетевых заведений по количеству. Построить график."
   ]
  },
  {
   "cell_type": "code",
   "execution_count": 17,
   "metadata": {},
   "outputs": [
    {
     "data": {
      "text/plain": [
       "chain\n",
       "сетевое       2948\n",
       "несетевое    12234\n",
       "Name: object_name, dtype: int64"
      ]
     },
     "execution_count": 17,
     "metadata": {},
     "output_type": "execute_result"
    }
   ],
   "source": [
    "# заменим значения, чтобы удобнее было читать данные и графики\n",
    "df['chain'] = df['chain'].map({'нет':'несетевое','да':'сетевое'}) \n",
    "df.groupby('chain')['object_name'].count().sort_values()"
   ]
  },
  {
   "cell_type": "code",
   "execution_count": 18,
   "metadata": {},
   "outputs": [
    {
     "data": {
      "image/png": "[encoded data removed]",
      "text/plain": [
       "<Figure size 720x576 with 1 Axes>"
      ]
     },
     "metadata": {},
     "output_type": "display_data"
    }
   ],
   "source": [
    "ax = df.groupby('chain')['object_name'].count().sort_values().plot(kind='bar')\n",
    "ax.set_xlabel('Тип объекта')\n",
    "ax.set_ylabel('Количество объектов')\n",
    "ax.set_title('Кол-во сетевых и несетевых объектов общественного питания в Москве')\n",
    "plt.xticks(rotation=45)\n",
    "plt.show()"
   ]
  },
  {
   "cell_type": "markdown",
   "metadata": {},
   "source": [
    "Несетевых заведений в 4 с лишним раза больше сетевых. Всё-таки люди любят уникальный сервис и подход к обслуживанию, а не типовые заведения."
   ]
  },
  {
   "cell_type": "markdown",
   "metadata": {},
   "source": [
    "### Для какого вида объекта общественного питания характерно сетевое распространение?"
   ]
  },
  {
   "cell_type": "markdown",
   "metadata": {},
   "source": [
    "Посчитаем общее число заведений"
   ]
  },
  {
   "cell_type": "code",
   "execution_count": 19,
   "metadata": {},
   "outputs": [
    {
     "name": "stderr",
     "output_type": "stream",
     "text": [
      "/tmp/ipykernel_882/3407774019.py:1: FutureWarning: Indexing with multiple keys (implicitly converted to a tuple of keys) will be deprecated, use a list instead.\n",
      "  df_net = df.groupby(by='object_type')['chain','id'].count()#.plot(kind='bar')\n"
     ]
    },
    {
     "data": {
      "text/html": [
       "<div>\n",
       "<style scoped>\n",
       "    .dataframe tbody tr th:only-of-type {\n",
       "        vertical-align: middle;\n",
       "    }\n",
       "\n",
       "    .dataframe tbody tr th {\n",
       "        vertical-align: top;\n",
       "    }\n",
       "\n",
       "    .dataframe thead th {\n",
       "        text-align: right;\n",
       "    }\n",
       "</style>\n",
       "<table border=\"1\" class=\"dataframe\">\n",
       "  <thead>\n",
       "    <tr style=\"text-align: right;\">\n",
       "      <th></th>\n",
       "      <th>chain</th>\n",
       "      <th>id</th>\n",
       "    </tr>\n",
       "    <tr>\n",
       "      <th>object_type</th>\n",
       "      <th></th>\n",
       "      <th></th>\n",
       "    </tr>\n",
       "  </thead>\n",
       "  <tbody>\n",
       "    <tr>\n",
       "      <th>бар</th>\n",
       "      <td>853</td>\n",
       "      <td>853</td>\n",
       "    </tr>\n",
       "    <tr>\n",
       "      <th>буфет</th>\n",
       "      <td>570</td>\n",
       "      <td>570</td>\n",
       "    </tr>\n",
       "    <tr>\n",
       "      <th>закусочная</th>\n",
       "      <td>347</td>\n",
       "      <td>347</td>\n",
       "    </tr>\n",
       "    <tr>\n",
       "      <th>кафе</th>\n",
       "      <td>6008</td>\n",
       "      <td>6008</td>\n",
       "    </tr>\n",
       "    <tr>\n",
       "      <th>кафетерий</th>\n",
       "      <td>393</td>\n",
       "      <td>393</td>\n",
       "    </tr>\n",
       "    <tr>\n",
       "      <th>магазин (отдел кулинарии)</th>\n",
       "      <td>272</td>\n",
       "      <td>272</td>\n",
       "    </tr>\n",
       "    <tr>\n",
       "      <th>предприятие быстрого обслуживания</th>\n",
       "      <td>1890</td>\n",
       "      <td>1890</td>\n",
       "    </tr>\n",
       "    <tr>\n",
       "      <th>ресторан</th>\n",
       "      <td>2274</td>\n",
       "      <td>2274</td>\n",
       "    </tr>\n",
       "    <tr>\n",
       "      <th>столовая</th>\n",
       "      <td>2575</td>\n",
       "      <td>2575</td>\n",
       "    </tr>\n",
       "  </tbody>\n",
       "</table>\n",
       "</div>"
      ],
      "text/plain": [
       "                                   chain    id\n",
       "object_type                                   \n",
       "бар                                  853   853\n",
       "буфет                                570   570\n",
       "закусочная                           347   347\n",
       "кафе                                6008  6008\n",
       "кафетерий                            393   393\n",
       "магазин (отдел кулинарии)            272   272\n",
       "предприятие быстрого обслуживания   1890  1890\n",
       "ресторан                            2274  2274\n",
       "столовая                            2575  2575"
      ]
     },
     "execution_count": 19,
     "metadata": {},
     "output_type": "execute_result"
    }
   ],
   "source": [
    "df_net = df.groupby(by='object_type')['chain','id'].count()#.plot(kind='bar')\n",
    "df_net"
   ]
  },
  {
   "cell_type": "markdown",
   "metadata": {},
   "source": [
    "Выделим из них сетевые"
   ]
  },
  {
   "cell_type": "code",
   "execution_count": 20,
   "metadata": {},
   "outputs": [],
   "source": [
    "net = 'сетевое'\n",
    "temp = df.query('chain == @net')"
   ]
  },
  {
   "cell_type": "code",
   "execution_count": 21,
   "metadata": {},
   "outputs": [
    {
     "data": {
      "text/html": [
       "<div>\n",
       "<style scoped>\n",
       "    .dataframe tbody tr th:only-of-type {\n",
       "        vertical-align: middle;\n",
       "    }\n",
       "\n",
       "    .dataframe tbody tr th {\n",
       "        vertical-align: top;\n",
       "    }\n",
       "\n",
       "    .dataframe thead th {\n",
       "        text-align: right;\n",
       "    }\n",
       "</style>\n",
       "<table border=\"1\" class=\"dataframe\">\n",
       "  <thead>\n",
       "    <tr style=\"text-align: right;\">\n",
       "      <th></th>\n",
       "      <th>chain</th>\n",
       "      <th>id</th>\n",
       "      <th>net</th>\n",
       "    </tr>\n",
       "    <tr>\n",
       "      <th>object_type</th>\n",
       "      <th></th>\n",
       "      <th></th>\n",
       "      <th></th>\n",
       "    </tr>\n",
       "  </thead>\n",
       "  <tbody>\n",
       "    <tr>\n",
       "      <th>бар</th>\n",
       "      <td>853</td>\n",
       "      <td>853</td>\n",
       "      <td>37</td>\n",
       "    </tr>\n",
       "    <tr>\n",
       "      <th>буфет</th>\n",
       "      <td>570</td>\n",
       "      <td>570</td>\n",
       "      <td>11</td>\n",
       "    </tr>\n",
       "    <tr>\n",
       "      <th>закусочная</th>\n",
       "      <td>347</td>\n",
       "      <td>347</td>\n",
       "      <td>56</td>\n",
       "    </tr>\n",
       "    <tr>\n",
       "      <th>кафе</th>\n",
       "      <td>6008</td>\n",
       "      <td>6008</td>\n",
       "      <td>1387</td>\n",
       "    </tr>\n",
       "    <tr>\n",
       "      <th>кафетерий</th>\n",
       "      <td>393</td>\n",
       "      <td>393</td>\n",
       "      <td>51</td>\n",
       "    </tr>\n",
       "    <tr>\n",
       "      <th>магазин (отдел кулинарии)</th>\n",
       "      <td>272</td>\n",
       "      <td>272</td>\n",
       "      <td>78</td>\n",
       "    </tr>\n",
       "    <tr>\n",
       "      <th>предприятие быстрого обслуживания</th>\n",
       "      <td>1890</td>\n",
       "      <td>1890</td>\n",
       "      <td>784</td>\n",
       "    </tr>\n",
       "    <tr>\n",
       "      <th>ресторан</th>\n",
       "      <td>2274</td>\n",
       "      <td>2274</td>\n",
       "      <td>541</td>\n",
       "    </tr>\n",
       "    <tr>\n",
       "      <th>столовая</th>\n",
       "      <td>2575</td>\n",
       "      <td>2575</td>\n",
       "      <td>3</td>\n",
       "    </tr>\n",
       "  </tbody>\n",
       "</table>\n",
       "</div>"
      ],
      "text/plain": [
       "                                   chain    id   net\n",
       "object_type                                         \n",
       "бар                                  853   853    37\n",
       "буфет                                570   570    11\n",
       "закусочная                           347   347    56\n",
       "кафе                                6008  6008  1387\n",
       "кафетерий                            393   393    51\n",
       "магазин (отдел кулинарии)            272   272    78\n",
       "предприятие быстрого обслуживания   1890  1890   784\n",
       "ресторан                            2274  2274   541\n",
       "столовая                            2575  2575     3"
      ]
     },
     "execution_count": 21,
     "metadata": {},
     "output_type": "execute_result"
    }
   ],
   "source": [
    "df_net['net'] = temp.groupby('object_type')['id'].count()\n",
    "df_net"
   ]
  },
  {
   "cell_type": "markdown",
   "metadata": {},
   "source": [
    "Рассчитаем процент сетевых и отсортируем по убыванию"
   ]
  },
  {
   "cell_type": "code",
   "execution_count": 22,
   "metadata": {
    "scrolled": true
   },
   "outputs": [
    {
     "data": {
      "text/html": [
       "<div>\n",
       "<style scoped>\n",
       "    .dataframe tbody tr th:only-of-type {\n",
       "        vertical-align: middle;\n",
       "    }\n",
       "\n",
       "    .dataframe tbody tr th {\n",
       "        vertical-align: top;\n",
       "    }\n",
       "\n",
       "    .dataframe thead th {\n",
       "        text-align: right;\n",
       "    }\n",
       "</style>\n",
       "<table border=\"1\" class=\"dataframe\">\n",
       "  <thead>\n",
       "    <tr style=\"text-align: right;\">\n",
       "      <th></th>\n",
       "      <th>chain</th>\n",
       "      <th>id</th>\n",
       "      <th>net</th>\n",
       "      <th>net_procent</th>\n",
       "    </tr>\n",
       "    <tr>\n",
       "      <th>object_type</th>\n",
       "      <th></th>\n",
       "      <th></th>\n",
       "      <th></th>\n",
       "      <th></th>\n",
       "    </tr>\n",
       "  </thead>\n",
       "  <tbody>\n",
       "    <tr>\n",
       "      <th>предприятие быстрого обслуживания</th>\n",
       "      <td>1890</td>\n",
       "      <td>1890</td>\n",
       "      <td>784</td>\n",
       "      <td>41.48</td>\n",
       "    </tr>\n",
       "    <tr>\n",
       "      <th>магазин (отдел кулинарии)</th>\n",
       "      <td>272</td>\n",
       "      <td>272</td>\n",
       "      <td>78</td>\n",
       "      <td>28.68</td>\n",
       "    </tr>\n",
       "    <tr>\n",
       "      <th>ресторан</th>\n",
       "      <td>2274</td>\n",
       "      <td>2274</td>\n",
       "      <td>541</td>\n",
       "      <td>23.79</td>\n",
       "    </tr>\n",
       "    <tr>\n",
       "      <th>кафе</th>\n",
       "      <td>6008</td>\n",
       "      <td>6008</td>\n",
       "      <td>1387</td>\n",
       "      <td>23.09</td>\n",
       "    </tr>\n",
       "    <tr>\n",
       "      <th>закусочная</th>\n",
       "      <td>347</td>\n",
       "      <td>347</td>\n",
       "      <td>56</td>\n",
       "      <td>16.14</td>\n",
       "    </tr>\n",
       "    <tr>\n",
       "      <th>кафетерий</th>\n",
       "      <td>393</td>\n",
       "      <td>393</td>\n",
       "      <td>51</td>\n",
       "      <td>12.98</td>\n",
       "    </tr>\n",
       "    <tr>\n",
       "      <th>бар</th>\n",
       "      <td>853</td>\n",
       "      <td>853</td>\n",
       "      <td>37</td>\n",
       "      <td>4.34</td>\n",
       "    </tr>\n",
       "    <tr>\n",
       "      <th>буфет</th>\n",
       "      <td>570</td>\n",
       "      <td>570</td>\n",
       "      <td>11</td>\n",
       "      <td>1.93</td>\n",
       "    </tr>\n",
       "    <tr>\n",
       "      <th>столовая</th>\n",
       "      <td>2575</td>\n",
       "      <td>2575</td>\n",
       "      <td>3</td>\n",
       "      <td>0.12</td>\n",
       "    </tr>\n",
       "  </tbody>\n",
       "</table>\n",
       "</div>"
      ],
      "text/plain": [
       "                                   chain    id   net  net_procent\n",
       "object_type                                                      \n",
       "предприятие быстрого обслуживания   1890  1890   784        41.48\n",
       "магазин (отдел кулинарии)            272   272    78        28.68\n",
       "ресторан                            2274  2274   541        23.79\n",
       "кафе                                6008  6008  1387        23.09\n",
       "закусочная                           347   347    56        16.14\n",
       "кафетерий                            393   393    51        12.98\n",
       "бар                                  853   853    37         4.34\n",
       "буфет                                570   570    11         1.93\n",
       "столовая                            2575  2575     3         0.12"
      ]
     },
     "execution_count": 22,
     "metadata": {},
     "output_type": "execute_result"
    }
   ],
   "source": [
    "df_net['net_procent'] = round(df_net['net']/df_net['chain']*100, 2)\n",
    "df_net.sort_values(by='net_procent', ascending=False)"
   ]
  },
  {
   "cell_type": "code",
   "execution_count": 23,
   "metadata": {},
   "outputs": [
    {
     "data": {
      "text/plain": [
       "object_type\n",
       "предприятие быстрого обслуживания    41.48\n",
       "магазин (отдел кулинарии)            28.68\n",
       "ресторан                             23.79\n",
       "кафе                                 23.09\n",
       "закусочная                           16.14\n",
       "кафетерий                            12.98\n",
       "бар                                   4.34\n",
       "буфет                                 1.93\n",
       "столовая                              0.12\n",
       "Name: net_procent, dtype: float64"
      ]
     },
     "execution_count": 23,
     "metadata": {},
     "output_type": "execute_result"
    }
   ],
   "source": [
    "df_net.sort_values(by='net_procent', ascending=False)['net_procent']"
   ]
  },
  {
   "cell_type": "markdown",
   "metadata": {},
   "source": [
    "Видно, что наибольший процент сетевых заведений у предприятий быстрого обслуживания (кто бы мог подумать, ага). С отрывом от фаст-фуда расположились кулинарные магазины, рестораны и кафе.\n",
    "\n",
    "Самый маленький процент сетевых заведеий у буфетов и столовых."
   ]
  },
  {
   "cell_type": "markdown",
   "metadata": {},
   "source": [
    "### Что характерно для сетевых заведений: много заведений с небольшим числом посадочных мест в каждом или мало заведений с большим количеством посадочных мест?"
   ]
  },
  {
   "cell_type": "code",
   "execution_count": 24,
   "metadata": {},
   "outputs": [
    {
     "data": {
      "text/html": [
       "<div>\n",
       "<style scoped>\n",
       "    .dataframe tbody tr th:only-of-type {\n",
       "        vertical-align: middle;\n",
       "    }\n",
       "\n",
       "    .dataframe tbody tr th {\n",
       "        vertical-align: top;\n",
       "    }\n",
       "\n",
       "    .dataframe thead th {\n",
       "        text-align: right;\n",
       "    }\n",
       "</style>\n",
       "<table border=\"1\" class=\"dataframe\">\n",
       "  <thead>\n",
       "    <tr style=\"text-align: right;\">\n",
       "      <th></th>\n",
       "      <th>object_name</th>\n",
       "      <th>number_of_seats</th>\n",
       "    </tr>\n",
       "    <tr>\n",
       "      <th>object_name</th>\n",
       "      <th></th>\n",
       "      <th></th>\n",
       "    </tr>\n",
       "  </thead>\n",
       "  <tbody>\n",
       "    <tr>\n",
       "      <th>кафе кулинарная лавка братьев караваевых</th>\n",
       "      <td>2</td>\n",
       "      <td>9.0</td>\n",
       "    </tr>\n",
       "    <tr>\n",
       "      <th>beverly hills diner</th>\n",
       "      <td>1</td>\n",
       "      <td>88.0</td>\n",
       "    </tr>\n",
       "    <tr>\n",
       "      <th>bierloga</th>\n",
       "      <td>1</td>\n",
       "      <td>75.0</td>\n",
       "    </tr>\n",
       "    <tr>\n",
       "      <th>black &amp; white</th>\n",
       "      <td>1</td>\n",
       "      <td>40.0</td>\n",
       "    </tr>\n",
       "    <tr>\n",
       "      <th>bocconcino</th>\n",
       "      <td>3</td>\n",
       "      <td>68.0</td>\n",
       "    </tr>\n",
       "    <tr>\n",
       "      <th>...</th>\n",
       "      <td>...</td>\n",
       "      <td>...</td>\n",
       "    </tr>\n",
       "    <tr>\n",
       "      <th>ямми микс</th>\n",
       "      <td>1</td>\n",
       "      <td>2.0</td>\n",
       "    </tr>\n",
       "    <tr>\n",
       "      <th>ян примус</th>\n",
       "      <td>1</td>\n",
       "      <td>300.0</td>\n",
       "    </tr>\n",
       "    <tr>\n",
       "      <th>японский ресторан ваби-саби</th>\n",
       "      <td>1</td>\n",
       "      <td>155.0</td>\n",
       "    </tr>\n",
       "    <tr>\n",
       "      <th>япоша</th>\n",
       "      <td>2</td>\n",
       "      <td>105.0</td>\n",
       "    </tr>\n",
       "    <tr>\n",
       "      <th>ёрш</th>\n",
       "      <td>4</td>\n",
       "      <td>104.0</td>\n",
       "    </tr>\n",
       "  </tbody>\n",
       "</table>\n",
       "<p>572 rows × 2 columns</p>\n",
       "</div>"
      ],
      "text/plain": [
       "                                            object_name  number_of_seats\n",
       "object_name                                                             \n",
       " кафе кулинарная лавка братьев караваевых             2              9.0\n",
       "beverly hills diner                                   1             88.0\n",
       "bierloga                                              1             75.0\n",
       "black & white                                         1             40.0\n",
       "bocconcino                                            3             68.0\n",
       "...                                                 ...              ...\n",
       "ямми микс                                             1              2.0\n",
       "ян примус                                             1            300.0\n",
       "японский ресторан ваби-саби                           1            155.0\n",
       "япоша                                                 2            105.0\n",
       "ёрш                                                   4            104.0\n",
       "\n",
       "[572 rows x 2 columns]"
      ]
     },
     "execution_count": 24,
     "metadata": {},
     "output_type": "execute_result"
    }
   ],
   "source": [
    "net_chain = temp.groupby('object_name').agg({'object_name':'count', 'number_of_seats':'median'})\n",
    "net_chain"
   ]
  },
  {
   "cell_type": "code",
   "execution_count": 25,
   "metadata": {},
   "outputs": [],
   "source": [
    "x = net_chain['number_of_seats']\n",
    "y = net_chain['object_name']"
   ]
  },
  {
   "cell_type": "code",
   "execution_count": 26,
   "metadata": {
    "scrolled": false
   },
   "outputs": [
    {
     "data": {
      "image/png": "[encoded data removed]",
      "text/plain": [
       "<Figure size 720x576 with 1 Axes>"
      ]
     },
     "metadata": {},
     "output_type": "display_data"
    }
   ],
   "source": [
    "plt.scatter(x, y, alpha = 0.3)\n",
    "plt.xlabel('Медианное кол-во посадочных мест')\n",
    "plt.ylabel('Кол-во объектов в сети')\n",
    "plt.title('Совместное распределение количества сетевых заведений \\nи их медианного количества посадочных мест', fontsize=13)\n",
    "plt.show()"
   ]
  },
  {
   "cell_type": "markdown",
   "metadata": {},
   "source": [
    "Хорошо видно, что большинство сетей включают в себя небольшое число точек (до 20) и предназначены для обслуживания до 100 гостей заведения.\n",
    "\n",
    "Число сетей с большим числом точек невелико. Это логично, реально большие сети можно по пальцам пересчитать. Также мало количество заведений с числом посадочных мест более 150."
   ]
  },
  {
   "cell_type": "code",
   "execution_count": 27,
   "metadata": {},
   "outputs": [
    {
     "data": {
      "text/plain": [
       "count    2948.000000\n",
       "mean       53.001018\n",
       "std        57.229347\n",
       "min         0.000000\n",
       "25%        15.000000\n",
       "50%        40.000000\n",
       "75%        72.000000\n",
       "max       580.000000\n",
       "Name: number_of_seats, dtype: float64"
      ]
     },
     "execution_count": 27,
     "metadata": {},
     "output_type": "execute_result"
    }
   ],
   "source": [
    "temp['number_of_seats'].describe()"
   ]
  },
  {
   "cell_type": "markdown",
   "metadata": {},
   "source": [
    "Есть нулевые значения. Скорее всего это заведения работающие на вынос. Не будем их трогать."
   ]
  },
  {
   "cell_type": "code",
   "execution_count": 28,
   "metadata": {},
   "outputs": [
    {
     "data": {
      "image/png": "[encoded data removed]",
      "text/plain": [
       "<Figure size 720x576 with 1 Axes>"
      ]
     },
     "metadata": {},
     "output_type": "display_data"
    }
   ],
   "source": [
    "ax = temp['number_of_seats'].hist(bins=100)\n",
    "ax.set_xlabel('Количество посадочных мест')\n",
    "ax.set_ylabel('Количество объектов')\n",
    "ax.set_title('Кол-во посадочных мест в сетевых заведениях')\n",
    "plt.show()"
   ]
  },
  {
   "cell_type": "code",
   "execution_count": 29,
   "metadata": {
    "scrolled": false
   },
   "outputs": [
    {
     "data": {
      "image/png": "[encoded data removed]",
      "text/plain": [
       "<Figure size 720x576 with 1 Axes>"
      ]
     },
     "metadata": {},
     "output_type": "display_data"
    }
   ],
   "source": [
    "ax = sns.boxplot(x=temp['number_of_seats'])"
   ]
  },
  {
   "cell_type": "markdown",
   "metadata": {},
   "source": [
    "Видим, что больше всего маленьких заведений с средним число посетителей. Но есть и выбросы на 400+ посадочных мест. Подозреваю, что это те самые сетевые столовые. Как правило заведения именн такого типа склонны к большому размеру. Но большинство точек сосредоточены в пределах 60 посадочных мест."
   ]
  },
  {
   "cell_type": "markdown",
   "metadata": {},
   "source": [
    "### Для каждого вида объекта общественного питания описать среднее количество посадочных мест. Какой вид предоставляет в среднем самое большое количество посадочных мест? Построить графики."
   ]
  },
  {
   "cell_type": "code",
   "execution_count": 30,
   "metadata": {},
   "outputs": [
    {
     "data": {
      "text/plain": [
       "Index(['столовая', 'ресторан', 'бар', 'буфет', 'кафе', 'кафетерий',\n",
       "       'предприятие быстрого обслуживания', 'закусочная',\n",
       "       'магазин (отдел кулинарии)'],\n",
       "      dtype='object', name='object_type')"
      ]
     },
     "execution_count": 30,
     "metadata": {},
     "output_type": "execute_result"
    }
   ],
   "source": [
    "my_order = df.groupby(by=[\"object_type\"])[\"number_of_seats\"].median().sort_values(ascending = False).index\n",
    "my_order"
   ]
  },
  {
   "cell_type": "code",
   "execution_count": 31,
   "metadata": {},
   "outputs": [
    {
     "data": {
      "image/png": "[encoded data removed]",
      "text/plain": [
       "<Figure size 720x576 with 1 Axes>"
      ]
     },
     "metadata": {},
     "output_type": "display_data"
    }
   ],
   "source": [
    "ax = sns.boxplot(x='number_of_seats', y='object_type', data=df,  palette=\"Set3\", order = my_order)\n",
    "ax.set_xlim(-10,400)\n",
    "\n",
    "ax.set_title('Распределение количества посадочных мест в пределах каждой категории')\n",
    "ax.set_xlabel('Среднее количество посадочных мест')\n",
    "ax.set_ylabel('Категории заведений')\n",
    "plt.show()"
   ]
  },
  {
   "cell_type": "markdown",
   "metadata": {},
   "source": [
    "График показывает, что столовые и рестораны явно отдичаются от других типов заведений по среднему числу посадочных мест. Оно и понятно, такие заведения как правило и рассчитаны на большое число одновременных посетителей."
   ]
  },
  {
   "cell_type": "markdown",
   "metadata": {},
   "source": [
    "### Выделить в отдельный столбец информацию об улице из столбца address ."
   ]
  },
  {
   "cell_type": "markdown",
   "metadata": {},
   "source": [
    "Получим общий список улиц."
   ]
  },
  {
   "cell_type": "code",
   "execution_count": 32,
   "metadata": {
    "scrolled": true
   },
   "outputs": [],
   "source": [
    "streets = df['address'].to_list()"
   ]
  },
  {
   "cell_type": "markdown",
   "metadata": {},
   "source": [
    "Искомое название улицы находится аакурат между \"москва\" и \"дом\". Вытащим эти названия в отдельный список. И добавим отдельным столбцом в наш датафрейм."
   ]
  },
  {
   "cell_type": "code",
   "execution_count": 33,
   "metadata": {},
   "outputs": [],
   "source": [
    "streets_only = []\n",
    "for street in streets:  \n",
    "    start = street.find('город москва')\n",
    "    end = street.find('дом ')\n",
    "    streets_only.append(street[start+12:end-1])"
   ]
  },
  {
   "cell_type": "code",
   "execution_count": 34,
   "metadata": {},
   "outputs": [
    {
     "data": {
      "text/html": [
       "<div>\n",
       "<style scoped>\n",
       "    .dataframe tbody tr th:only-of-type {\n",
       "        vertical-align: middle;\n",
       "    }\n",
       "\n",
       "    .dataframe tbody tr th {\n",
       "        vertical-align: top;\n",
       "    }\n",
       "\n",
       "    .dataframe thead th {\n",
       "        text-align: right;\n",
       "    }\n",
       "</style>\n",
       "<table border=\"1\" class=\"dataframe\">\n",
       "  <thead>\n",
       "    <tr style=\"text-align: right;\">\n",
       "      <th></th>\n",
       "      <th>index</th>\n",
       "      <th>id</th>\n",
       "      <th>object_name</th>\n",
       "      <th>chain</th>\n",
       "      <th>object_type</th>\n",
       "      <th>address</th>\n",
       "      <th>number_of_seats</th>\n",
       "      <th>street_name</th>\n",
       "    </tr>\n",
       "  </thead>\n",
       "  <tbody>\n",
       "    <tr>\n",
       "      <th>0</th>\n",
       "      <td>0</td>\n",
       "      <td>151635</td>\n",
       "      <td>сметана</td>\n",
       "      <td>несетевое</td>\n",
       "      <td>кафе</td>\n",
       "      <td>город москва улица егора абакумова дом 9</td>\n",
       "      <td>48</td>\n",
       "      <td>улица егора абакумова</td>\n",
       "    </tr>\n",
       "    <tr>\n",
       "      <th>1</th>\n",
       "      <td>1</td>\n",
       "      <td>77874</td>\n",
       "      <td>родник</td>\n",
       "      <td>несетевое</td>\n",
       "      <td>кафе</td>\n",
       "      <td>город москва улица талалихина дом 2/1 корпус 1</td>\n",
       "      <td>35</td>\n",
       "      <td>улица талалихина</td>\n",
       "    </tr>\n",
       "    <tr>\n",
       "      <th>2</th>\n",
       "      <td>2</td>\n",
       "      <td>24309</td>\n",
       "      <td>кафе академия</td>\n",
       "      <td>несетевое</td>\n",
       "      <td>кафе</td>\n",
       "      <td>город москва абельмановская улица дом 6</td>\n",
       "      <td>95</td>\n",
       "      <td>абельмановская улица</td>\n",
       "    </tr>\n",
       "    <tr>\n",
       "      <th>3</th>\n",
       "      <td>3</td>\n",
       "      <td>21894</td>\n",
       "      <td>пиццетория</td>\n",
       "      <td>сетевое</td>\n",
       "      <td>кафе</td>\n",
       "      <td>город москва абрамцевская улица дом 1</td>\n",
       "      <td>40</td>\n",
       "      <td>абрамцевская улица</td>\n",
       "    </tr>\n",
       "    <tr>\n",
       "      <th>4</th>\n",
       "      <td>4</td>\n",
       "      <td>119365</td>\n",
       "      <td>кафе вишневая метель</td>\n",
       "      <td>несетевое</td>\n",
       "      <td>кафе</td>\n",
       "      <td>город москва абрамцевская улица дом 9 корпус 1</td>\n",
       "      <td>50</td>\n",
       "      <td>абрамцевская улица</td>\n",
       "    </tr>\n",
       "    <tr>\n",
       "      <th>5</th>\n",
       "      <td>5</td>\n",
       "      <td>27429</td>\n",
       "      <td>стол. при гоу сош № 1051</td>\n",
       "      <td>несетевое</td>\n",
       "      <td>столовая</td>\n",
       "      <td>город москва абрамцевская улица дом 15 корпус 1</td>\n",
       "      <td>240</td>\n",
       "      <td>абрамцевская улица</td>\n",
       "    </tr>\n",
       "    <tr>\n",
       "      <th>6</th>\n",
       "      <td>6</td>\n",
       "      <td>148815</td>\n",
       "      <td>брусника</td>\n",
       "      <td>сетевое</td>\n",
       "      <td>кафе</td>\n",
       "      <td>город москва переулок сивцев вражек дом 6/2</td>\n",
       "      <td>10</td>\n",
       "      <td>переулок сивцев вражек</td>\n",
       "    </tr>\n",
       "    <tr>\n",
       "      <th>7</th>\n",
       "      <td>7</td>\n",
       "      <td>20957</td>\n",
       "      <td>буфет мтуси</td>\n",
       "      <td>несетевое</td>\n",
       "      <td>столовая</td>\n",
       "      <td>город москва авиамоторная улица дом 8 строение 1</td>\n",
       "      <td>90</td>\n",
       "      <td>авиамоторная улица</td>\n",
       "    </tr>\n",
       "    <tr>\n",
       "      <th>8</th>\n",
       "      <td>8</td>\n",
       "      <td>20958</td>\n",
       "      <td>кпф семья-1</td>\n",
       "      <td>несетевое</td>\n",
       "      <td>столовая</td>\n",
       "      <td>город москва авиамоторная улица дом 8 строение 1</td>\n",
       "      <td>150</td>\n",
       "      <td>авиамоторная улица</td>\n",
       "    </tr>\n",
       "    <tr>\n",
       "      <th>9</th>\n",
       "      <td>9</td>\n",
       "      <td>28858</td>\n",
       "      <td>столовая мтуси</td>\n",
       "      <td>несетевое</td>\n",
       "      <td>столовая</td>\n",
       "      <td>город москва авиамоторная улица дом 8 строение 1</td>\n",
       "      <td>120</td>\n",
       "      <td>авиамоторная улица</td>\n",
       "    </tr>\n",
       "  </tbody>\n",
       "</table>\n",
       "</div>"
      ],
      "text/plain": [
       "   index      id               object_name      chain object_type  \\\n",
       "0      0  151635                   сметана  несетевое        кафе   \n",
       "1      1   77874                    родник  несетевое        кафе   \n",
       "2      2   24309            кафе академия   несетевое        кафе   \n",
       "3      3   21894                пиццетория    сетевое        кафе   \n",
       "4      4  119365     кафе вишневая метель   несетевое        кафе   \n",
       "5      5   27429  стол. при гоу сош № 1051  несетевое    столовая   \n",
       "6      6  148815                  брусника    сетевое        кафе   \n",
       "7      7   20957               буфет мтуси  несетевое    столовая   \n",
       "8      8   20958               кпф семья-1  несетевое    столовая   \n",
       "9      9   28858            столовая мтуси  несетевое    столовая   \n",
       "\n",
       "                                            address  number_of_seats  \\\n",
       "0          город москва улица егора абакумова дом 9               48   \n",
       "1    город москва улица талалихина дом 2/1 корпус 1               35   \n",
       "2           город москва абельмановская улица дом 6               95   \n",
       "3             город москва абрамцевская улица дом 1               40   \n",
       "4    город москва абрамцевская улица дом 9 корпус 1               50   \n",
       "5   город москва абрамцевская улица дом 15 корпус 1              240   \n",
       "6       город москва переулок сивцев вражек дом 6/2               10   \n",
       "7  город москва авиамоторная улица дом 8 строение 1               90   \n",
       "8  город москва авиамоторная улица дом 8 строение 1              150   \n",
       "9  город москва авиамоторная улица дом 8 строение 1              120   \n",
       "\n",
       "               street_name  \n",
       "0    улица егора абакумова  \n",
       "1         улица талалихина  \n",
       "2     абельмановская улица  \n",
       "3       абрамцевская улица  \n",
       "4       абрамцевская улица  \n",
       "5       абрамцевская улица  \n",
       "6   переулок сивцев вражек  \n",
       "7       авиамоторная улица  \n",
       "8       авиамоторная улица  \n",
       "9       авиамоторная улица  "
      ]
     },
     "execution_count": 34,
     "metadata": {},
     "output_type": "execute_result"
    }
   ],
   "source": [
    "df['street_name'] = streets_only\n",
    "df.head(10)"
   ]
  },
  {
   "cell_type": "markdown",
   "metadata": {},
   "source": [
    "Проверим, не потерялись ли какие-то адреса."
   ]
  },
  {
   "cell_type": "code",
   "execution_count": 35,
   "metadata": {},
   "outputs": [
    {
     "data": {
      "text/plain": [
       "index              0\n",
       "id                 0\n",
       "object_name        0\n",
       "chain              0\n",
       "object_type        0\n",
       "address            0\n",
       "number_of_seats    0\n",
       "street_name        0\n",
       "dtype: int64"
      ]
     },
     "execution_count": 35,
     "metadata": {},
     "output_type": "execute_result"
    }
   ],
   "source": [
    "df[df['street_name'] == ''].count()"
   ]
  },
  {
   "cell_type": "markdown",
   "metadata": {},
   "source": [
    "Отлично, никто не забыт, ничто не забыто."
   ]
  },
  {
   "cell_type": "markdown",
   "metadata": {},
   "source": [
    "Очень странно. По идее в наш наблон они попадают, но по какой-то причине на обработались корректно. Пойдём дальше, но галочку себе на будущее поставим."
   ]
  },
  {
   "cell_type": "markdown",
   "metadata": {},
   "source": [
    "### Постройте график топ-10 улиц по количеству объектов общественного питания. Воспользуйтесь внешней информацией и ответьте на вопрос — в каких районах Москвы находятся эти улицы?"
   ]
  },
  {
   "cell_type": "code",
   "execution_count": 36,
   "metadata": {},
   "outputs": [
    {
     "data": {
      "text/html": [
       "<div>\n",
       "<style scoped>\n",
       "    .dataframe tbody tr th:only-of-type {\n",
       "        vertical-align: middle;\n",
       "    }\n",
       "\n",
       "    .dataframe tbody tr th {\n",
       "        vertical-align: top;\n",
       "    }\n",
       "\n",
       "    .dataframe thead th {\n",
       "        text-align: right;\n",
       "    }\n",
       "</style>\n",
       "<table border=\"1\" class=\"dataframe\">\n",
       "  <thead>\n",
       "    <tr style=\"text-align: right;\">\n",
       "      <th></th>\n",
       "      <th>street_name</th>\n",
       "      <th>object_type</th>\n",
       "    </tr>\n",
       "  </thead>\n",
       "  <tbody>\n",
       "    <tr>\n",
       "      <th>0</th>\n",
       "      <td>проспект мира</td>\n",
       "      <td>196</td>\n",
       "    </tr>\n",
       "    <tr>\n",
       "      <th>1</th>\n",
       "      <td>профсоюзная улица</td>\n",
       "      <td>180</td>\n",
       "    </tr>\n",
       "    <tr>\n",
       "      <th>2</th>\n",
       "      <td>ленинградский проспект</td>\n",
       "      <td>169</td>\n",
       "    </tr>\n",
       "    <tr>\n",
       "      <th>3</th>\n",
       "      <td>пресненская набережная</td>\n",
       "      <td>165</td>\n",
       "    </tr>\n",
       "    <tr>\n",
       "      <th>4</th>\n",
       "      <td>варшавское шоссе</td>\n",
       "      <td>153</td>\n",
       "    </tr>\n",
       "    <tr>\n",
       "      <th>5</th>\n",
       "      <td>ленинский проспект</td>\n",
       "      <td>147</td>\n",
       "    </tr>\n",
       "    <tr>\n",
       "      <th>6</th>\n",
       "      <td>проспект вернадского</td>\n",
       "      <td>125</td>\n",
       "    </tr>\n",
       "    <tr>\n",
       "      <th>7</th>\n",
       "      <td>кутузовский проспект</td>\n",
       "      <td>114</td>\n",
       "    </tr>\n",
       "    <tr>\n",
       "      <th>8</th>\n",
       "      <td>каширское шоссе</td>\n",
       "      <td>102</td>\n",
       "    </tr>\n",
       "    <tr>\n",
       "      <th>9</th>\n",
       "      <td>кировоградская улица</td>\n",
       "      <td>101</td>\n",
       "    </tr>\n",
       "  </tbody>\n",
       "</table>\n",
       "</div>"
      ],
      "text/plain": [
       "               street_name  object_type\n",
       "0            проспект мира          196\n",
       "1        профсоюзная улица          180\n",
       "2   ленинградский проспект          169\n",
       "3   пресненская набережная          165\n",
       "4         варшавское шоссе          153\n",
       "5       ленинский проспект          147\n",
       "6     проспект вернадского          125\n",
       "7     кутузовский проспект          114\n",
       "8          каширское шоссе          102\n",
       "9     кировоградская улица          101"
      ]
     },
     "execution_count": 36,
     "metadata": {},
     "output_type": "execute_result"
    }
   ],
   "source": [
    "temp = df.groupby('street_name').agg({'object_type':'count'}).sort_values(by='object_type', ascending=False).head(10).reset_index()\n",
    "top_10 = list(temp['street_name'])\n",
    "temp"
   ]
  },
  {
   "cell_type": "code",
   "execution_count": 37,
   "metadata": {},
   "outputs": [
    {
     "data": {
      "text/plain": [
       "[' проспект мира',\n",
       " ' профсоюзная улица',\n",
       " ' ленинградский проспект',\n",
       " ' пресненская набережная',\n",
       " ' варшавское шоссе',\n",
       " ' ленинский проспект',\n",
       " ' проспект вернадского',\n",
       " ' кутузовский проспект',\n",
       " ' каширское шоссе',\n",
       " ' кировоградская улица']"
      ]
     },
     "execution_count": 37,
     "metadata": {},
     "output_type": "execute_result"
    }
   ],
   "source": [
    "top_10"
   ]
  },
  {
   "cell_type": "code",
   "execution_count": 38,
   "metadata": {},
   "outputs": [
    {
     "data": {
      "image/png": "[encoded data removed]",
      "text/plain": [
       "<Figure size 720x576 with 1 Axes>"
      ]
     },
     "metadata": {},
     "output_type": "display_data"
    }
   ],
   "source": [
    "ax = sns.barplot(x='object_type', y='street_name', data=temp)\n",
    "ax.set_xlabel('Количество объектов')\n",
    "ax.set_ylabel('Название улицы')\n",
    "ax.set_title('Топ-10 улиц по количеству объектов общественного питания')\n",
    "plt.show()"
   ]
  },
  {
   "cell_type": "markdown",
   "metadata": {},
   "source": [
    "Загрузим данные о районах в отдельную таблицу"
   ]
  },
  {
   "cell_type": "code",
   "execution_count": 39,
   "metadata": {},
   "outputs": [],
   "source": [
    "area = pd.read_csv('https://frs.noosphere.ru/xmlui/bitstream/handle/20.500.11925/714058/mosgaz-streets.csv?sequence=1&isAllowed=y')"
   ]
  },
  {
   "cell_type": "markdown",
   "metadata": {},
   "source": [
    "Чтобы корректно сравнить внешние данные с нашими, переименуем столбец с названием улицы и приведём данные к нижнему регистру."
   ]
  },
  {
   "cell_type": "code",
   "execution_count": 40,
   "metadata": {},
   "outputs": [
    {
     "data": {
      "text/html": [
       "<div>\n",
       "<style scoped>\n",
       "    .dataframe tbody tr th:only-of-type {\n",
       "        vertical-align: middle;\n",
       "    }\n",
       "\n",
       "    .dataframe tbody tr th {\n",
       "        vertical-align: top;\n",
       "    }\n",
       "\n",
       "    .dataframe thead th {\n",
       "        text-align: right;\n",
       "    }\n",
       "</style>\n",
       "<table border=\"1\" class=\"dataframe\">\n",
       "  <thead>\n",
       "    <tr style=\"text-align: right;\">\n",
       "      <th></th>\n",
       "      <th>street_name</th>\n",
       "      <th>areaid</th>\n",
       "      <th>okrug</th>\n",
       "      <th>area</th>\n",
       "    </tr>\n",
       "  </thead>\n",
       "  <tbody>\n",
       "    <tr>\n",
       "      <th>0</th>\n",
       "      <td>выставочный переулок</td>\n",
       "      <td>17</td>\n",
       "      <td>ЦАО</td>\n",
       "      <td>Пресненский район</td>\n",
       "    </tr>\n",
       "    <tr>\n",
       "      <th>1</th>\n",
       "      <td>улица гашека</td>\n",
       "      <td>17</td>\n",
       "      <td>ЦАО</td>\n",
       "      <td>Пресненский район</td>\n",
       "    </tr>\n",
       "    <tr>\n",
       "      <th>2</th>\n",
       "      <td>большая никитская улица</td>\n",
       "      <td>17</td>\n",
       "      <td>ЦАО</td>\n",
       "      <td>Пресненский район</td>\n",
       "    </tr>\n",
       "    <tr>\n",
       "      <th>3</th>\n",
       "      <td>глубокий переулок</td>\n",
       "      <td>17</td>\n",
       "      <td>ЦАО</td>\n",
       "      <td>Пресненский район</td>\n",
       "    </tr>\n",
       "    <tr>\n",
       "      <th>4</th>\n",
       "      <td>большой гнездниковский переулок</td>\n",
       "      <td>17</td>\n",
       "      <td>ЦАО</td>\n",
       "      <td>Пресненский район</td>\n",
       "    </tr>\n",
       "  </tbody>\n",
       "</table>\n",
       "</div>"
      ],
      "text/plain": [
       "                       street_name  areaid okrug               area\n",
       "0             выставочный переулок      17   ЦАО  Пресненский район\n",
       "1                     улица гашека      17   ЦАО  Пресненский район\n",
       "2          большая никитская улица      17   ЦАО  Пресненский район\n",
       "3                глубокий переулок      17   ЦАО  Пресненский район\n",
       "4  большой гнездниковский переулок      17   ЦАО  Пресненский район"
      ]
     },
     "execution_count": 40,
     "metadata": {},
     "output_type": "execute_result"
    }
   ],
   "source": [
    "area = area.rename(columns={'streetname':'street_name'})\n",
    "area['street_name'] = area['street_name'].str.lower()\n",
    "area.head()"
   ]
  },
  {
   "cell_type": "markdown",
   "metadata": {},
   "source": [
    "Создадим новую таблицу с улицами из нашего топ-10."
   ]
  },
  {
   "cell_type": "code",
   "execution_count": 41,
   "metadata": {},
   "outputs": [
    {
     "data": {
      "text/html": [
       "<div>\n",
       "<style scoped>\n",
       "    .dataframe tbody tr th:only-of-type {\n",
       "        vertical-align: middle;\n",
       "    }\n",
       "\n",
       "    .dataframe tbody tr th {\n",
       "        vertical-align: top;\n",
       "    }\n",
       "\n",
       "    .dataframe thead th {\n",
       "        text-align: right;\n",
       "    }\n",
       "</style>\n",
       "<table border=\"1\" class=\"dataframe\">\n",
       "  <thead>\n",
       "    <tr style=\"text-align: right;\">\n",
       "      <th></th>\n",
       "      <th>street_name</th>\n",
       "    </tr>\n",
       "  </thead>\n",
       "  <tbody>\n",
       "    <tr>\n",
       "      <th>0</th>\n",
       "      <td>проспект мира</td>\n",
       "    </tr>\n",
       "    <tr>\n",
       "      <th>1</th>\n",
       "      <td>профсоюзная улица</td>\n",
       "    </tr>\n",
       "    <tr>\n",
       "      <th>2</th>\n",
       "      <td>ленинградский проспект</td>\n",
       "    </tr>\n",
       "    <tr>\n",
       "      <th>3</th>\n",
       "      <td>пресненская набережная</td>\n",
       "    </tr>\n",
       "    <tr>\n",
       "      <th>4</th>\n",
       "      <td>варшавское шоссе</td>\n",
       "    </tr>\n",
       "    <tr>\n",
       "      <th>5</th>\n",
       "      <td>ленинский проспект</td>\n",
       "    </tr>\n",
       "    <tr>\n",
       "      <th>6</th>\n",
       "      <td>проспект вернадского</td>\n",
       "    </tr>\n",
       "    <tr>\n",
       "      <th>7</th>\n",
       "      <td>кутузовский проспект</td>\n",
       "    </tr>\n",
       "    <tr>\n",
       "      <th>8</th>\n",
       "      <td>каширское шоссе</td>\n",
       "    </tr>\n",
       "    <tr>\n",
       "      <th>9</th>\n",
       "      <td>кировоградская улица</td>\n",
       "    </tr>\n",
       "  </tbody>\n",
       "</table>\n",
       "</div>"
      ],
      "text/plain": [
       "              street_name\n",
       "0           проспект мира\n",
       "1       профсоюзная улица\n",
       "2  ленинградский проспект\n",
       "3  пресненская набережная\n",
       "4        варшавское шоссе\n",
       "5      ленинский проспект\n",
       "6    проспект вернадского\n",
       "7    кутузовский проспект\n",
       "8         каширское шоссе\n",
       "9    кировоградская улица"
      ]
     },
     "execution_count": 41,
     "metadata": {},
     "output_type": "execute_result"
    }
   ],
   "source": [
    "temp_street = pd.DataFrame(top_10, columns=['street_name'])\n",
    "temp_street['street_name'] = temp_street['street_name'].str.strip()\n",
    "temp_street"
   ]
  },
  {
   "cell_type": "markdown",
   "metadata": {},
   "source": [
    "Присоединим сюда данные из таблицы с районами. В качестве ключа для объединения используем название улицы."
   ]
  },
  {
   "cell_type": "code",
   "execution_count": 42,
   "metadata": {},
   "outputs": [
    {
     "data": {
      "text/html": [
       "<div>\n",
       "<style scoped>\n",
       "    .dataframe tbody tr th:only-of-type {\n",
       "        vertical-align: middle;\n",
       "    }\n",
       "\n",
       "    .dataframe tbody tr th {\n",
       "        vertical-align: top;\n",
       "    }\n",
       "\n",
       "    .dataframe thead th {\n",
       "        text-align: right;\n",
       "    }\n",
       "</style>\n",
       "<table border=\"1\" class=\"dataframe\">\n",
       "  <thead>\n",
       "    <tr style=\"text-align: right;\">\n",
       "      <th></th>\n",
       "      <th>street_name</th>\n",
       "      <th>areaid</th>\n",
       "      <th>okrug</th>\n",
       "      <th>area</th>\n",
       "    </tr>\n",
       "  </thead>\n",
       "  <tbody>\n",
       "    <tr>\n",
       "      <th>0</th>\n",
       "      <td>проспект мира</td>\n",
       "      <td>70</td>\n",
       "      <td>СВАО</td>\n",
       "      <td>Алексеевский район</td>\n",
       "    </tr>\n",
       "    <tr>\n",
       "      <th>1</th>\n",
       "      <td>проспект мира</td>\n",
       "      <td>86</td>\n",
       "      <td>СВАО</td>\n",
       "      <td>Ярославский Район</td>\n",
       "    </tr>\n",
       "    <tr>\n",
       "      <th>2</th>\n",
       "      <td>проспект мира</td>\n",
       "      <td>78</td>\n",
       "      <td>СВАО</td>\n",
       "      <td>Район Марьина роща</td>\n",
       "    </tr>\n",
       "    <tr>\n",
       "      <th>3</th>\n",
       "      <td>проспект мира</td>\n",
       "      <td>79</td>\n",
       "      <td>СВАО</td>\n",
       "      <td>Останкинский район</td>\n",
       "    </tr>\n",
       "    <tr>\n",
       "      <th>4</th>\n",
       "      <td>проспект мира</td>\n",
       "      <td>81</td>\n",
       "      <td>СВАО</td>\n",
       "      <td>Район Ростокино</td>\n",
       "    </tr>\n",
       "    <tr>\n",
       "      <th>5</th>\n",
       "      <td>проспект мира</td>\n",
       "      <td>82</td>\n",
       "      <td>СВАО</td>\n",
       "      <td>Район Свиблово</td>\n",
       "    </tr>\n",
       "    <tr>\n",
       "      <th>6</th>\n",
       "      <td>проспект мира</td>\n",
       "      <td>16</td>\n",
       "      <td>ЦАО</td>\n",
       "      <td>Мещанский район</td>\n",
       "    </tr>\n",
       "    <tr>\n",
       "      <th>7</th>\n",
       "      <td>профсоюзная улица</td>\n",
       "      <td>123</td>\n",
       "      <td>ЮЗАО</td>\n",
       "      <td>Академический район</td>\n",
       "    </tr>\n",
       "    <tr>\n",
       "      <th>8</th>\n",
       "      <td>профсоюзная улица</td>\n",
       "      <td>132</td>\n",
       "      <td>ЮЗАО</td>\n",
       "      <td>Район Черемушки</td>\n",
       "    </tr>\n",
       "    <tr>\n",
       "      <th>9</th>\n",
       "      <td>профсоюзная улица</td>\n",
       "      <td>134</td>\n",
       "      <td>ЮЗАО</td>\n",
       "      <td>Район Ясенево</td>\n",
       "    </tr>\n",
       "    <tr>\n",
       "      <th>10</th>\n",
       "      <td>профсоюзная улица</td>\n",
       "      <td>126</td>\n",
       "      <td>ЮЗАО</td>\n",
       "      <td>Район Коньково</td>\n",
       "    </tr>\n",
       "    <tr>\n",
       "      <th>11</th>\n",
       "      <td>профсоюзная улица</td>\n",
       "      <td>129</td>\n",
       "      <td>ЮЗАО</td>\n",
       "      <td>Обручевский район</td>\n",
       "    </tr>\n",
       "    <tr>\n",
       "      <th>12</th>\n",
       "      <td>профсоюзная улица</td>\n",
       "      <td>131</td>\n",
       "      <td>ЮЗАО</td>\n",
       "      <td>Район Теплый Стан</td>\n",
       "    </tr>\n",
       "    <tr>\n",
       "      <th>13</th>\n",
       "      <td>ленинградский проспект</td>\n",
       "      <td>54</td>\n",
       "      <td>САО</td>\n",
       "      <td>Район Аэропорт</td>\n",
       "    </tr>\n",
       "    <tr>\n",
       "      <th>14</th>\n",
       "      <td>ленинградский проспект</td>\n",
       "      <td>55</td>\n",
       "      <td>САО</td>\n",
       "      <td>Район Беговой</td>\n",
       "    </tr>\n",
       "    <tr>\n",
       "      <th>15</th>\n",
       "      <td>ленинградский проспект</td>\n",
       "      <td>69</td>\n",
       "      <td>САО</td>\n",
       "      <td>Хорошевский район</td>\n",
       "    </tr>\n",
       "    <tr>\n",
       "      <th>16</th>\n",
       "      <td>ленинградский проспект</td>\n",
       "      <td>66</td>\n",
       "      <td>САО</td>\n",
       "      <td>Район Сокол</td>\n",
       "    </tr>\n",
       "    <tr>\n",
       "      <th>17</th>\n",
       "      <td>пресненская набережная</td>\n",
       "      <td>17</td>\n",
       "      <td>ЦАО</td>\n",
       "      <td>Пресненский район</td>\n",
       "    </tr>\n",
       "    <tr>\n",
       "      <th>18</th>\n",
       "      <td>варшавское шоссе</td>\n",
       "      <td>109</td>\n",
       "      <td>ЮАО</td>\n",
       "      <td>Район Чертаново Центральное</td>\n",
       "    </tr>\n",
       "    <tr>\n",
       "      <th>19</th>\n",
       "      <td>варшавское шоссе</td>\n",
       "      <td>108</td>\n",
       "      <td>ЮАО</td>\n",
       "      <td>Район Чертаново Северное</td>\n",
       "    </tr>\n",
       "    <tr>\n",
       "      <th>20</th>\n",
       "      <td>варшавское шоссе</td>\n",
       "      <td>110</td>\n",
       "      <td>ЮАО</td>\n",
       "      <td>Район Чертаново Южное</td>\n",
       "    </tr>\n",
       "    <tr>\n",
       "      <th>21</th>\n",
       "      <td>варшавское шоссе</td>\n",
       "      <td>99</td>\n",
       "      <td>ЮАО</td>\n",
       "      <td>Донской район</td>\n",
       "    </tr>\n",
       "    <tr>\n",
       "      <th>22</th>\n",
       "      <td>варшавское шоссе</td>\n",
       "      <td>102</td>\n",
       "      <td>ЮАО</td>\n",
       "      <td>Район Нагатино-Садовники</td>\n",
       "    </tr>\n",
       "    <tr>\n",
       "      <th>23</th>\n",
       "      <td>варшавское шоссе</td>\n",
       "      <td>104</td>\n",
       "      <td>ЮАО</td>\n",
       "      <td>Нагорный район</td>\n",
       "    </tr>\n",
       "    <tr>\n",
       "      <th>24</th>\n",
       "      <td>варшавское шоссе</td>\n",
       "      <td>130</td>\n",
       "      <td>ЮЗАО</td>\n",
       "      <td>Район Северное Бутово</td>\n",
       "    </tr>\n",
       "    <tr>\n",
       "      <th>25</th>\n",
       "      <td>варшавское шоссе</td>\n",
       "      <td>133</td>\n",
       "      <td>ЮЗАО</td>\n",
       "      <td>Район Южное Бутово</td>\n",
       "    </tr>\n",
       "    <tr>\n",
       "      <th>26</th>\n",
       "      <td>ленинский проспект</td>\n",
       "      <td>44</td>\n",
       "      <td>ЗАО</td>\n",
       "      <td>Район Проспект Вернадского</td>\n",
       "    </tr>\n",
       "    <tr>\n",
       "      <th>27</th>\n",
       "      <td>ленинский проспект</td>\n",
       "      <td>47</td>\n",
       "      <td>ЗАО</td>\n",
       "      <td>Район Тропарево-Никулино</td>\n",
       "    </tr>\n",
       "    <tr>\n",
       "      <th>28</th>\n",
       "      <td>ленинский проспект</td>\n",
       "      <td>99</td>\n",
       "      <td>ЮАО</td>\n",
       "      <td>Донской район</td>\n",
       "    </tr>\n",
       "    <tr>\n",
       "      <th>29</th>\n",
       "      <td>ленинский проспект</td>\n",
       "      <td>124</td>\n",
       "      <td>ЮЗАО</td>\n",
       "      <td>Район Гагаринский</td>\n",
       "    </tr>\n",
       "    <tr>\n",
       "      <th>30</th>\n",
       "      <td>ленинский проспект</td>\n",
       "      <td>128</td>\n",
       "      <td>ЮЗАО</td>\n",
       "      <td>Ломоносовский район</td>\n",
       "    </tr>\n",
       "    <tr>\n",
       "      <th>31</th>\n",
       "      <td>ленинский проспект</td>\n",
       "      <td>129</td>\n",
       "      <td>ЮЗАО</td>\n",
       "      <td>Обручевский район</td>\n",
       "    </tr>\n",
       "    <tr>\n",
       "      <th>32</th>\n",
       "      <td>ленинский проспект</td>\n",
       "      <td>131</td>\n",
       "      <td>ЮЗАО</td>\n",
       "      <td>Район Теплый Стан</td>\n",
       "    </tr>\n",
       "    <tr>\n",
       "      <th>33</th>\n",
       "      <td>ленинский проспект</td>\n",
       "      <td>21</td>\n",
       "      <td>ЦАО</td>\n",
       "      <td>Район Якиманка</td>\n",
       "    </tr>\n",
       "    <tr>\n",
       "      <th>34</th>\n",
       "      <td>проспект вернадского</td>\n",
       "      <td>44</td>\n",
       "      <td>ЗАО</td>\n",
       "      <td>Район Проспект Вернадского</td>\n",
       "    </tr>\n",
       "    <tr>\n",
       "      <th>35</th>\n",
       "      <td>проспект вернадского</td>\n",
       "      <td>45</td>\n",
       "      <td>ЗАО</td>\n",
       "      <td>Район Раменки</td>\n",
       "    </tr>\n",
       "    <tr>\n",
       "      <th>36</th>\n",
       "      <td>проспект вернадского</td>\n",
       "      <td>47</td>\n",
       "      <td>ЗАО</td>\n",
       "      <td>Район Тропарево-Никулино</td>\n",
       "    </tr>\n",
       "    <tr>\n",
       "      <th>37</th>\n",
       "      <td>проспект вернадского</td>\n",
       "      <td>124</td>\n",
       "      <td>ЮЗАО</td>\n",
       "      <td>Район Гагаринский</td>\n",
       "    </tr>\n",
       "    <tr>\n",
       "      <th>38</th>\n",
       "      <td>проспект вернадского</td>\n",
       "      <td>128</td>\n",
       "      <td>ЮЗАО</td>\n",
       "      <td>Ломоносовский район</td>\n",
       "    </tr>\n",
       "    <tr>\n",
       "      <th>39</th>\n",
       "      <td>кутузовский проспект</td>\n",
       "      <td>38</td>\n",
       "      <td>ЗАО</td>\n",
       "      <td>Район Дорогомилово</td>\n",
       "    </tr>\n",
       "    <tr>\n",
       "      <th>40</th>\n",
       "      <td>кутузовский проспект</td>\n",
       "      <td>49</td>\n",
       "      <td>ЗАО</td>\n",
       "      <td>Район Фили-Давыдково</td>\n",
       "    </tr>\n",
       "    <tr>\n",
       "      <th>41</th>\n",
       "      <td>каширское шоссе</td>\n",
       "      <td>101</td>\n",
       "      <td>ЮАО</td>\n",
       "      <td>Район Москворечье-Сабурово</td>\n",
       "    </tr>\n",
       "    <tr>\n",
       "      <th>42</th>\n",
       "      <td>каширское шоссе</td>\n",
       "      <td>102</td>\n",
       "      <td>ЮАО</td>\n",
       "      <td>Район Нагатино-Садовники</td>\n",
       "    </tr>\n",
       "    <tr>\n",
       "      <th>43</th>\n",
       "      <td>каширское шоссе</td>\n",
       "      <td>106</td>\n",
       "      <td>ЮАО</td>\n",
       "      <td>Район Орехово-Борисово Южное</td>\n",
       "    </tr>\n",
       "    <tr>\n",
       "      <th>44</th>\n",
       "      <td>каширское шоссе</td>\n",
       "      <td>105</td>\n",
       "      <td>ЮАО</td>\n",
       "      <td>Район Орехово-Борисово Северное</td>\n",
       "    </tr>\n",
       "    <tr>\n",
       "      <th>45</th>\n",
       "      <td>кировоградская улица</td>\n",
       "      <td>109</td>\n",
       "      <td>ЮАО</td>\n",
       "      <td>Район Чертаново Центральное</td>\n",
       "    </tr>\n",
       "    <tr>\n",
       "      <th>46</th>\n",
       "      <td>кировоградская улица</td>\n",
       "      <td>108</td>\n",
       "      <td>ЮАО</td>\n",
       "      <td>Район Чертаново Северное</td>\n",
       "    </tr>\n",
       "    <tr>\n",
       "      <th>47</th>\n",
       "      <td>кировоградская улица</td>\n",
       "      <td>110</td>\n",
       "      <td>ЮАО</td>\n",
       "      <td>Район Чертаново Южное</td>\n",
       "    </tr>\n",
       "  </tbody>\n",
       "</table>\n",
       "</div>"
      ],
      "text/plain": [
       "               street_name  areaid okrug                             area\n",
       "0            проспект мира      70  СВАО               Алексеевский район\n",
       "1            проспект мира      86  СВАО                Ярославский Район\n",
       "2            проспект мира      78  СВАО               Район Марьина роща\n",
       "3            проспект мира      79  СВАО               Останкинский район\n",
       "4            проспект мира      81  СВАО                  Район Ростокино\n",
       "5            проспект мира      82  СВАО                   Район Свиблово\n",
       "6            проспект мира      16   ЦАО                  Мещанский район\n",
       "7        профсоюзная улица     123  ЮЗАО              Академический район\n",
       "8        профсоюзная улица     132  ЮЗАО                  Район Черемушки\n",
       "9        профсоюзная улица     134  ЮЗАО                    Район Ясенево\n",
       "10       профсоюзная улица     126  ЮЗАО                   Район Коньково\n",
       "11       профсоюзная улица     129  ЮЗАО                Обручевский район\n",
       "12       профсоюзная улица     131  ЮЗАО                Район Теплый Стан\n",
       "13  ленинградский проспект      54   САО                   Район Аэропорт\n",
       "14  ленинградский проспект      55   САО                    Район Беговой\n",
       "15  ленинградский проспект      69   САО                Хорошевский район\n",
       "16  ленинградский проспект      66   САО                      Район Сокол\n",
       "17  пресненская набережная      17   ЦАО                Пресненский район\n",
       "18        варшавское шоссе     109   ЮАО      Район Чертаново Центральное\n",
       "19        варшавское шоссе     108   ЮАО         Район Чертаново Северное\n",
       "20        варшавское шоссе     110   ЮАО            Район Чертаново Южное\n",
       "21        варшавское шоссе      99   ЮАО                    Донской район\n",
       "22        варшавское шоссе     102   ЮАО         Район Нагатино-Садовники\n",
       "23        варшавское шоссе     104   ЮАО                   Нагорный район\n",
       "24        варшавское шоссе     130  ЮЗАО            Район Северное Бутово\n",
       "25        варшавское шоссе     133  ЮЗАО               Район Южное Бутово\n",
       "26      ленинский проспект      44   ЗАО       Район Проспект Вернадского\n",
       "27      ленинский проспект      47   ЗАО         Район Тропарево-Никулино\n",
       "28      ленинский проспект      99   ЮАО                    Донской район\n",
       "29      ленинский проспект     124  ЮЗАО                Район Гагаринский\n",
       "30      ленинский проспект     128  ЮЗАО              Ломоносовский район\n",
       "31      ленинский проспект     129  ЮЗАО                Обручевский район\n",
       "32      ленинский проспект     131  ЮЗАО                Район Теплый Стан\n",
       "33      ленинский проспект      21   ЦАО                   Район Якиманка\n",
       "34    проспект вернадского      44   ЗАО       Район Проспект Вернадского\n",
       "35    проспект вернадского      45   ЗАО                    Район Раменки\n",
       "36    проспект вернадского      47   ЗАО         Район Тропарево-Никулино\n",
       "37    проспект вернадского     124  ЮЗАО                Район Гагаринский\n",
       "38    проспект вернадского     128  ЮЗАО              Ломоносовский район\n",
       "39    кутузовский проспект      38   ЗАО               Район Дорогомилово\n",
       "40    кутузовский проспект      49   ЗАО             Район Фили-Давыдково\n",
       "41         каширское шоссе     101   ЮАО       Район Москворечье-Сабурово\n",
       "42         каширское шоссе     102   ЮАО         Район Нагатино-Садовники\n",
       "43         каширское шоссе     106   ЮАО     Район Орехово-Борисово Южное\n",
       "44         каширское шоссе     105   ЮАО  Район Орехово-Борисово Северное\n",
       "45    кировоградская улица     109   ЮАО      Район Чертаново Центральное\n",
       "46    кировоградская улица     108   ЮАО         Район Чертаново Северное\n",
       "47    кировоградская улица     110   ЮАО            Район Чертаново Южное"
      ]
     },
     "execution_count": 42,
     "metadata": {},
     "output_type": "execute_result"
    }
   ],
   "source": [
    "pd.merge(temp_street, area, on='street_name', how='inner')\n"
   ]
  },
  {
   "cell_type": "markdown",
   "metadata": {},
   "source": [
    "Практически все улицы расположены сразу в нескольких районах. Неудивительно, ведь это одни из самых протяженных улиц в Москве. Логично, что именно на них расположено больше всего заведений."
   ]
  },
  {
   "cell_type": "markdown",
   "metadata": {},
   "source": [
    "### Найти число улиц с одним объектом общественного питания. Воспользоваться внешней информацией и ответить на вопрос — в каких районах Москвы находятся эти улицы?"
   ]
  },
  {
   "cell_type": "markdown",
   "metadata": {},
   "source": [
    "Для начала посмотрим, много ли у нас улиц, на которых всего одно заведение."
   ]
  },
  {
   "cell_type": "code",
   "execution_count": 43,
   "metadata": {},
   "outputs": [
    {
     "data": {
      "text/plain": [
       "829"
      ]
     },
     "execution_count": 43,
     "metadata": {},
     "output_type": "execute_result"
    }
   ],
   "source": [
    "temp = df.groupby('street_name').count()\n",
    "len(temp.query('id == 1'))"
   ]
  },
  {
   "cell_type": "markdown",
   "metadata": {},
   "source": [
    "Оставим в нашей временной таблице только нужные нам данные."
   ]
  },
  {
   "cell_type": "code",
   "execution_count": 44,
   "metadata": {},
   "outputs": [],
   "source": [
    "temp = temp.query('id == 1')\n",
    "temp = temp.reset_index()"
   ]
  },
  {
   "cell_type": "markdown",
   "metadata": {},
   "source": [
    "Сделаем список нужных нам улиц."
   ]
  },
  {
   "cell_type": "code",
   "execution_count": 45,
   "metadata": {
    "scrolled": true
   },
   "outputs": [],
   "source": [
    "street_list = list(temp['street_name'])"
   ]
  },
  {
   "cell_type": "markdown",
   "metadata": {},
   "source": [
    "А теперь оставим в нашем исходном датафрейме только записи с нужными нам улицами."
   ]
  },
  {
   "cell_type": "code",
   "execution_count": 46,
   "metadata": {},
   "outputs": [
    {
     "name": "stderr",
     "output_type": "stream",
     "text": [
      "/tmp/ipykernel_882/2838441440.py:2: SettingWithCopyWarning: \n",
      "A value is trying to be set on a copy of a slice from a DataFrame.\n",
      "Try using .loc[row_indexer,col_indexer] = value instead\n",
      "\n",
      "See the caveats in the documentation: https://pandas.pydata.org/pandas-docs/stable/user_guide/indexing.html#returning-a-view-versus-a-copy\n",
      "  street_list['street_name'] = street_list['street_name'].str.strip()\n"
     ]
    },
    {
     "data": {
      "text/html": [
       "<div>\n",
       "<style scoped>\n",
       "    .dataframe tbody tr th:only-of-type {\n",
       "        vertical-align: middle;\n",
       "    }\n",
       "\n",
       "    .dataframe tbody tr th {\n",
       "        vertical-align: top;\n",
       "    }\n",
       "\n",
       "    .dataframe thead th {\n",
       "        text-align: right;\n",
       "    }\n",
       "</style>\n",
       "<table border=\"1\" class=\"dataframe\">\n",
       "  <thead>\n",
       "    <tr style=\"text-align: right;\">\n",
       "      <th></th>\n",
       "      <th>index</th>\n",
       "      <th>id</th>\n",
       "      <th>object_name</th>\n",
       "      <th>chain</th>\n",
       "      <th>object_type</th>\n",
       "      <th>address</th>\n",
       "      <th>number_of_seats</th>\n",
       "      <th>street_name</th>\n",
       "    </tr>\n",
       "  </thead>\n",
       "  <tbody>\n",
       "    <tr>\n",
       "      <th>19</th>\n",
       "      <td>19</td>\n",
       "      <td>153644</td>\n",
       "      <td>американская лаборатория десертов</td>\n",
       "      <td>несетевое</td>\n",
       "      <td>кафе</td>\n",
       "      <td>город москва филипповский переулок дом 15/5</td>\n",
       "      <td>20</td>\n",
       "      <td>филипповский переулок</td>\n",
       "    </tr>\n",
       "    <tr>\n",
       "      <th>61</th>\n",
       "      <td>61</td>\n",
       "      <td>21214</td>\n",
       "      <td>столовая</td>\n",
       "      <td>несетевое</td>\n",
       "      <td>столовая</td>\n",
       "      <td>город москва бабаевская улица дом 3</td>\n",
       "      <td>90</td>\n",
       "      <td>бабаевская улица</td>\n",
       "    </tr>\n",
       "    <tr>\n",
       "      <th>69</th>\n",
       "      <td>69</td>\n",
       "      <td>22139</td>\n",
       "      <td>хуанхэ</td>\n",
       "      <td>несетевое</td>\n",
       "      <td>ресторан</td>\n",
       "      <td>город москва 1-й балтийский переулок дом 3/25</td>\n",
       "      <td>60</td>\n",
       "      <td>1-й балтийский переулок</td>\n",
       "    </tr>\n",
       "    <tr>\n",
       "      <th>81</th>\n",
       "      <td>81</td>\n",
       "      <td>25833</td>\n",
       "      <td>азербайджан</td>\n",
       "      <td>несетевое</td>\n",
       "      <td>ресторан</td>\n",
       "      <td>город москва улица демьяна бедного дом 4</td>\n",
       "      <td>180</td>\n",
       "      <td>улица демьяна бедного</td>\n",
       "    </tr>\n",
       "    <tr>\n",
       "      <th>130</th>\n",
       "      <td>131</td>\n",
       "      <td>150881</td>\n",
       "      <td>вгик</td>\n",
       "      <td>несетевое</td>\n",
       "      <td>столовая</td>\n",
       "      <td>город москва будайская улица дом 3</td>\n",
       "      <td>45</td>\n",
       "      <td>будайская улица</td>\n",
       "    </tr>\n",
       "    <tr>\n",
       "      <th>...</th>\n",
       "      <td>...</td>\n",
       "      <td>...</td>\n",
       "      <td>...</td>\n",
       "      <td>...</td>\n",
       "      <td>...</td>\n",
       "      <td>...</td>\n",
       "      <td>...</td>\n",
       "      <td>...</td>\n",
       "    </tr>\n",
       "    <tr>\n",
       "      <th>14837</th>\n",
       "      <td>15016</td>\n",
       "      <td>221225</td>\n",
       "      <td>пекарня есть поесть</td>\n",
       "      <td>несетевое</td>\n",
       "      <td>кафе</td>\n",
       "      <td>город москва поселение сосенское поселок комму...</td>\n",
       "      <td>16</td>\n",
       "      <td>поселение сосенское поселок коммунарка улица л...</td>\n",
       "    </tr>\n",
       "    <tr>\n",
       "      <th>14838</th>\n",
       "      <td>15017</td>\n",
       "      <td>205588</td>\n",
       "      <td>кофейня</td>\n",
       "      <td>несетевое</td>\n",
       "      <td>кафетерий</td>\n",
       "      <td>город москва поселение щаповское улица евгения...</td>\n",
       "      <td>16</td>\n",
       "      <td>поселение щаповское улица евгения родионова вл...</td>\n",
       "    </tr>\n",
       "    <tr>\n",
       "      <th>14848</th>\n",
       "      <td>15027</td>\n",
       "      <td>208936</td>\n",
       "      <td>кафе гурман</td>\n",
       "      <td>несетевое</td>\n",
       "      <td>кафе</td>\n",
       "      <td>город москва поселение первомайское деревня фо...</td>\n",
       "      <td>40</td>\n",
       "      <td>поселение первомайское деревня фоминское лесна...</td>\n",
       "    </tr>\n",
       "    <tr>\n",
       "      <th>14858</th>\n",
       "      <td>15037</td>\n",
       "      <td>220765</td>\n",
       "      <td>газпромнефтьцентр</td>\n",
       "      <td>сетевое</td>\n",
       "      <td>кафетерий</td>\n",
       "      <td>город москва каширское шоссе владение 57а</td>\n",
       "      <td>17</td>\n",
       "      <td>каширское шоссе владение 5</td>\n",
       "    </tr>\n",
       "    <tr>\n",
       "      <th>15048</th>\n",
       "      <td>15230</td>\n",
       "      <td>205826</td>\n",
       "      <td>kfc</td>\n",
       "      <td>сетевое</td>\n",
       "      <td>ресторан</td>\n",
       "      <td>город москва улица марьинский парк домовладени...</td>\n",
       "      <td>15</td>\n",
       "      <td>улица марьинский парк домовладение</td>\n",
       "    </tr>\n",
       "  </tbody>\n",
       "</table>\n",
       "<p>829 rows × 8 columns</p>\n",
       "</div>"
      ],
      "text/plain": [
       "       index      id                        object_name      chain  \\\n",
       "19        19  153644  американская лаборатория десертов  несетевое   \n",
       "61        61   21214                           столовая  несетевое   \n",
       "69        69   22139                             хуанхэ  несетевое   \n",
       "81        81   25833                        азербайджан  несетевое   \n",
       "130      131  150881                               вгик  несетевое   \n",
       "...      ...     ...                                ...        ...   \n",
       "14837  15016  221225               пекарня есть поесть   несетевое   \n",
       "14838  15017  205588                            кофейня  несетевое   \n",
       "14848  15027  208936                        кафе гурман  несетевое   \n",
       "14858  15037  220765                  газпромнефтьцентр    сетевое   \n",
       "15048  15230  205826                                kfc    сетевое   \n",
       "\n",
       "      object_type                                            address  \\\n",
       "19           кафе        город москва филипповский переулок дом 15/5   \n",
       "61       столовая                город москва бабаевская улица дом 3   \n",
       "69       ресторан      город москва 1-й балтийский переулок дом 3/25   \n",
       "81       ресторан           город москва улица демьяна бедного дом 4   \n",
       "130      столовая                 город москва будайская улица дом 3   \n",
       "...           ...                                                ...   \n",
       "14837        кафе  город москва поселение сосенское поселок комму...   \n",
       "14838   кафетерий  город москва поселение щаповское улица евгения...   \n",
       "14848        кафе  город москва поселение первомайское деревня фо...   \n",
       "14858   кафетерий          город москва каширское шоссе владение 57а   \n",
       "15048    ресторан  город москва улица марьинский парк домовладени...   \n",
       "\n",
       "       number_of_seats                                        street_name  \n",
       "19                  20                              филипповский переулок  \n",
       "61                  90                                   бабаевская улица  \n",
       "69                  60                            1-й балтийский переулок  \n",
       "81                 180                              улица демьяна бедного  \n",
       "130                 45                                    будайская улица  \n",
       "...                ...                                                ...  \n",
       "14837               16  поселение сосенское поселок коммунарка улица л...  \n",
       "14838               16  поселение щаповское улица евгения родионова вл...  \n",
       "14848               40  поселение первомайское деревня фоминское лесна...  \n",
       "14858               17                         каширское шоссе владение 5  \n",
       "15048               15                 улица марьинский парк домовладение  \n",
       "\n",
       "[829 rows x 8 columns]"
      ]
     },
     "execution_count": 46,
     "metadata": {},
     "output_type": "execute_result"
    }
   ],
   "source": [
    "street_list = df[df['street_name'].isin(street_list)]\n",
    "street_list['street_name'] = street_list['street_name'].str.strip()\n",
    "street_list"
   ]
  },
  {
   "cell_type": "markdown",
   "metadata": {},
   "source": [
    "Одним действием прикрутим к очищенным данным таблицу с районами и выведем список районов, в кторых есть улицы с одинокими заведениями."
   ]
  },
  {
   "cell_type": "code",
   "execution_count": 47,
   "metadata": {},
   "outputs": [
    {
     "data": {
      "text/plain": [
       "array(['Район Арбат', 'Район Сокольники', 'Район Аэропорт',\n",
       "       'Район Хорошево-Мневники', 'Район Ростокино', nan,\n",
       "       'Мещанский район', 'Район Беговой', 'Район Хамовники',\n",
       "       'Тверской район', 'Район Марьина роща', 'Можайский Район',\n",
       "       'Район Богородское', 'Район Преображенское', 'Район Дорогомилово',\n",
       "       'Басманный район', 'Район Кунцево', 'Район Лефортово',\n",
       "       'Савеловский район', 'Донской район', 'Район Котловка',\n",
       "       'Район Замоскворечье', 'Район Гольяново', 'Район Фили-Давыдково',\n",
       "       'Район Раменки', 'Район Люблино', 'Район Свиблово',\n",
       "       'Таганский район', 'Красносельский район', 'Район Якиманка',\n",
       "       'Рязанский район', 'Район Покровское-Стрешнево',\n",
       "       'Головинский район', 'Лосиноостровский район',\n",
       "       'Останкинский район', 'Район Коптево', 'Пресненский район',\n",
       "       'Район Косино-Ухтомский', 'Район Ивановское', 'Бутырский район',\n",
       "       'Район Метрогородок', 'Район Щукино', 'Район Внуково',\n",
       "       'Район Чертаново Южное', 'Район Ясенево', 'Район Зюзино',\n",
       "       'Алтуфьевский район', 'Тимирязевский Район', 'Дмитровский район',\n",
       "       'Бескудниковский Район', 'Район Сокол', 'Район Левобережный',\n",
       "       'Молжаниновский район', 'Район Солнцево', 'Район Южное Бутово',\n",
       "       'Нагорный район', 'Район Южное Тушино', 'Район Измайлово',\n",
       "       'Район Соколиная Гора', 'Район Северное Измайлово',\n",
       "       'Район Восточное Измайлово', 'Хорошевский район',\n",
       "       'Даниловский район', 'Район Новогиреево', 'Район Перово',\n",
       "       'Район Нагатино-Садовники', 'Южнопортовый Район',\n",
       "       'Бабушкинский район', 'Ярославский Район', 'Алексеевский район',\n",
       "       'Район Выхино-Жулебино', 'Нижегородский район',\n",
       "       'Район Текстильщики', 'Район Марьино', 'Район Печатники',\n",
       "       'Район Северное Бутово', 'Войковский Район',\n",
       "       'Район Южное Медведково', 'Район Северное Медведково',\n",
       "       'Район Лианозово', 'Район Отрадное', 'Район Восточный',\n",
       "       'Район Кузьминки', 'Район Черемушки', 'Район Коньково',\n",
       "       'Обручевский район', 'Район Очаково-Матвеевское', 'Район Митино',\n",
       "       'Район Куркино', 'Район Матушкино-Савелки', 'Район Строгино',\n",
       "       'Район Бирюлево Восточное', 'Район Москворечье-Сабурово',\n",
       "       'Район Ново-Переделкино', 'Район Северный',\n",
       "       'Район Западное Дегунино', 'Район Марфино', 'Район Царицыно',\n",
       "       'Район Чертаново Северное'], dtype=object)"
      ]
     },
     "execution_count": 47,
     "metadata": {},
     "output_type": "execute_result"
    }
   ],
   "source": [
    "district = pd.merge(street_list, area, on = 'street_name', how = 'left')\n",
    "district['area'].unique()"
   ]
  },
  {
   "cell_type": "markdown",
   "metadata": {},
   "source": [
    "Такое, чувство, что это вся Москва. То есть в каждом районе есть улицы, на которых есть всего одно заведение.\n"
   ]
  },
  {
   "cell_type": "markdown",
   "metadata": {},
   "source": [
    "Выведем ТОП-10 районов, в которых больше всего улиц с одним заведением."
   ]
  },
  {
   "cell_type": "code",
   "execution_count": 48,
   "metadata": {},
   "outputs": [
    {
     "data": {
      "text/plain": [
       "area\n",
       "Таганский район        27\n",
       "Район Хамовники        24\n",
       "Басманный район        21\n",
       "Тверской район         20\n",
       "Пресненский район      19\n",
       "Район Марьина роща     17\n",
       "Район Арбат            17\n",
       "Мещанский район        16\n",
       "Район Сокольники       15\n",
       "Район Замоскворечье    14\n",
       "Name: index, dtype: int64"
      ]
     },
     "execution_count": 48,
     "metadata": {},
     "output_type": "execute_result"
    }
   ],
   "source": [
    "district.groupby('area').count().sort_values(by = 'id', ascending = False)['index'].head(10)"
   ]
  },
  {
   "cell_type": "markdown",
   "metadata": {},
   "source": [
    "Ага, есть районы в центре города, где есть улицы всего с одним заведением. Есть смысл обратить внимание на эти районы при подборе места для нашего кафе."
   ]
  },
  {
   "cell_type": "markdown",
   "metadata": {},
   "source": [
    "**Итого**\n",
    "\n",
    "В Москве 828 улиц, на которых есть всего одно заведение общественного питания. Эти улицы разбросаны по всей Москве судя по списку районов. Но есть ряд районов, в которых таких улиц больше всего. Самые интересные для нас это районы центре: Таганский, Хамовники, Басманный, Тверской."
   ]
  },
  {
   "cell_type": "markdown",
   "metadata": {},
   "source": [
    "### Общий вывод"
   ]
  },
  {
   "cell_type": "markdown",
   "metadata": {},
   "source": [
    "Рынок общественного питания в г. Москва уже очень перегружен, это факт. В нашем сегменте **кафе** есть примерно **6 тысяч** заведений. Порядка **80%** из них **несетевые**. Чтобы занять здесь своё место, нужно что-то действительно новое, что сможет заинтересовать клиентов и приводить их к нам регулярно на протяжении долгого времени. Фишка с роботами может сработать на первом этапе для рекламы, но в дальнейшем нужно развиваться и придумывать что-то новое.\n",
    "\n",
    "Среди сетевых заведений преобладают предприятия быстрого питания (фаст-фуд). Среди них **41%** сетевых заведений. Среди наших потенциальных конкурентов-кафе только **23%** сетевых. Мы собираемся открывать сразу только одно кафе, поэтому сравнить себя с большими сетями преждевременно.\n",
    "\n",
    "Большая часть кафе предназначена для обслуживания до **50 гостей**. Этот диапазон является оптимальным, а поэтому самым востребованным в городе.\n",
    "\n",
    "Для оценки возможных мест расположения нашего кафе мы нашли 10 улиц с максимальной загруженностью заведениями. С одной стороны там будет очень серьёзная конкуренция, с другой стороны такое количество заведений говорит о высокой проходимости и большом количестве потенциальных клиентов. Это следующие улицы:\n",
    "- Проспект мира\n",
    "- Профсоюзная улица\n",
    "- Ленинградский проспект\n",
    "- Пресненская набережная\n",
    "- Варшавское шоссе\n",
    "- Ленинский проспект\n",
    "- Проспект вернадского\n",
    "- Кутузовский проспект\n",
    "- Каширское шоссе\n",
    "- Кировоградская улица\n",
    "\n",
    "При этом есть районы, в который много улиц всего с одним заведением. Среди них можно выделить районы в центре, где самый большой трафик клиентов:\n",
    "- Таганский район\n",
    "- Район Хамовники\n",
    "- Басманный район\n",
    "- Тверской район\n",
    "\n",
    "Опять же специфика нашего робо-кафе такова, что целевой аудиторией будут скорее всего молодые люди, которые на \"ты\" с новыми технологиями. Поэтому имеет смысл внимательнее изучить районы вокруг крупных бизнес-центров, в которых располагаются офисы крупных технолгических компаний. У их сотрудников наверняка возникнет интерес к кафе с роботами. Такие люди могут и сами часто посещать наше заведение и рассказать о нас своим друзьям, знакомым и подписчикам в социальных сетях.\n",
    "\n",
    "**Рекомендации** \n",
    "\n",
    "1. Оптимальным количеством посетителей для кафе следует принять цифру до 50 человек. Точнее можно будет рассчитать только после выбора конкретного помещения.\n",
    "2. Искать помещения в первую очередь стоит в районах: Таганский, Хамовники, Басманный, Тверской.\n",
    "3. Больше внимания уделить изучению целевой аудитории кафе и оценить, в каких районах города наибольшее сосредоточение наших потенциальных клиентов.\n",
    "4. Делать выводы о потенциале развития сети можно не раньше 3-6 месяцев работы первого кафе. Если будет спрос и проходимость кафе не упадёт после начального этапе на фоне рекламной компании к открытию, можно искать место для новых точек будущей сети на основании тех же критериев, что были для первой точки."
   ]
  },
  {
   "cell_type": "markdown",
   "metadata": {},
   "source": [
    "## Презентация"
   ]
  },
  {
   "cell_type": "markdown",
   "metadata": {},
   "source": [
    "Презентация: https://disk.yandex.ru/i/6UF3KgMZ6YxL5w"
   ]
  }
 ],
 "metadata": {
  "ExecuteTimeLog": [
   {
    "duration": 1389,
    "start_time": "2022-07-14T12:37:43.050Z"
   },
   {
    "duration": 561,
    "start_time": "2022-07-14T12:38:21.767Z"
   },
   {
    "duration": 14,
    "start_time": "2022-07-14T12:38:40.853Z"
   },
   {
    "duration": 22,
    "start_time": "2022-07-14T12:38:48.651Z"
   },
   {
    "duration": 8,
    "start_time": "2022-07-14T12:39:06.120Z"
   },
   {
    "duration": 19,
    "start_time": "2022-07-14T12:39:20.646Z"
   },
   {
    "duration": 5,
    "start_time": "2022-07-14T13:15:35.578Z"
   },
   {
    "duration": 30,
    "start_time": "2022-07-14T13:15:53.072Z"
   },
   {
    "duration": 119,
    "start_time": "2022-07-14T13:16:12.156Z"
   },
   {
    "duration": 10,
    "start_time": "2022-07-14T13:16:30.733Z"
   },
   {
    "duration": 11,
    "start_time": "2022-07-14T13:17:35.862Z"
   },
   {
    "duration": 6,
    "start_time": "2022-07-14T13:18:04.147Z"
   },
   {
    "duration": 11,
    "start_time": "2022-07-14T13:18:39.281Z"
   },
   {
    "duration": 231,
    "start_time": "2022-07-14T13:26:23.373Z"
   },
   {
    "duration": 226,
    "start_time": "2022-07-14T13:28:04.244Z"
   },
   {
    "duration": 130,
    "start_time": "2022-07-14T13:28:46.200Z"
   },
   {
    "duration": 236,
    "start_time": "2022-07-14T13:29:04.269Z"
   },
   {
    "duration": 10,
    "start_time": "2022-07-14T13:30:00.763Z"
   },
   {
    "duration": 187,
    "start_time": "2022-07-14T13:30:08.056Z"
   },
   {
    "duration": 8,
    "start_time": "2022-07-14T13:30:30.439Z"
   },
   {
    "duration": 194,
    "start_time": "2022-07-14T13:31:05.156Z"
   },
   {
    "duration": 8,
    "start_time": "2022-07-14T14:40:57.907Z"
   },
   {
    "duration": 8,
    "start_time": "2022-07-14T14:41:11.088Z"
   },
   {
    "duration": 12,
    "start_time": "2022-07-14T14:41:24.223Z"
   },
   {
    "duration": 11,
    "start_time": "2022-07-14T14:41:30.394Z"
   },
   {
    "duration": 6,
    "start_time": "2022-07-14T14:41:44.781Z"
   },
   {
    "duration": 6,
    "start_time": "2022-07-14T14:42:15.338Z"
   },
   {
    "duration": 6,
    "start_time": "2022-07-14T14:42:20.524Z"
   },
   {
    "duration": 10,
    "start_time": "2022-07-14T14:42:27.596Z"
   },
   {
    "duration": 1227,
    "start_time": "2022-07-14T14:43:54.093Z"
   },
   {
    "duration": 68,
    "start_time": "2022-07-14T14:43:55.322Z"
   },
   {
    "duration": 12,
    "start_time": "2022-07-14T14:43:55.391Z"
   },
   {
    "duration": 15,
    "start_time": "2022-07-14T14:43:55.406Z"
   },
   {
    "duration": 11,
    "start_time": "2022-07-14T14:43:55.423Z"
   },
   {
    "duration": 22,
    "start_time": "2022-07-14T14:43:55.436Z"
   },
   {
    "duration": 4,
    "start_time": "2022-07-14T14:43:55.459Z"
   },
   {
    "duration": 37,
    "start_time": "2022-07-14T14:43:55.464Z"
   },
   {
    "duration": 110,
    "start_time": "2022-07-14T14:43:55.502Z"
   },
   {
    "duration": 10,
    "start_time": "2022-07-14T14:43:55.624Z"
   },
   {
    "duration": 16,
    "start_time": "2022-07-14T14:43:55.636Z"
   },
   {
    "duration": 237,
    "start_time": "2022-07-14T14:43:55.653Z"
   },
   {
    "duration": 118,
    "start_time": "2022-07-14T14:43:55.892Z"
   },
   {
    "duration": 49,
    "start_time": "2022-07-14T14:44:19.040Z"
   },
   {
    "duration": 12,
    "start_time": "2022-07-14T14:44:34.407Z"
   },
   {
    "duration": 12,
    "start_time": "2022-07-14T14:44:40.391Z"
   },
   {
    "duration": 3,
    "start_time": "2022-07-14T14:44:49.893Z"
   },
   {
    "duration": 5,
    "start_time": "2022-07-14T14:44:54.856Z"
   },
   {
    "duration": 6,
    "start_time": "2022-07-14T14:45:04.391Z"
   },
   {
    "duration": 12,
    "start_time": "2022-07-14T14:45:09.641Z"
   },
   {
    "duration": 1335,
    "start_time": "2022-07-14T22:12:01.686Z"
   },
   {
    "duration": 241,
    "start_time": "2022-07-14T22:12:03.023Z"
   },
   {
    "duration": 18,
    "start_time": "2022-07-14T22:12:03.265Z"
   },
   {
    "duration": 16,
    "start_time": "2022-07-14T22:12:03.286Z"
   },
   {
    "duration": 19,
    "start_time": "2022-07-14T22:12:03.303Z"
   },
   {
    "duration": 21,
    "start_time": "2022-07-14T22:12:03.324Z"
   },
   {
    "duration": 4,
    "start_time": "2022-07-14T22:12:03.347Z"
   },
   {
    "duration": 64,
    "start_time": "2022-07-14T22:12:03.353Z"
   },
   {
    "duration": 141,
    "start_time": "2022-07-14T22:12:03.420Z"
   },
   {
    "duration": 10,
    "start_time": "2022-07-14T22:12:03.564Z"
   },
   {
    "duration": 29,
    "start_time": "2022-07-14T22:12:03.575Z"
   },
   {
    "duration": 294,
    "start_time": "2022-07-14T22:12:03.605Z"
   },
   {
    "duration": 10,
    "start_time": "2022-07-14T22:12:03.900Z"
   },
   {
    "duration": 242,
    "start_time": "2022-07-14T22:12:15.437Z"
   },
   {
    "duration": 214,
    "start_time": "2022-07-14T22:12:40.219Z"
   },
   {
    "duration": 1256,
    "start_time": "2022-07-15T10:22:03.280Z"
   },
   {
    "duration": 270,
    "start_time": "2022-07-15T10:22:05.950Z"
   },
   {
    "duration": 16,
    "start_time": "2022-07-15T10:22:07.823Z"
   },
   {
    "duration": 17,
    "start_time": "2022-07-15T10:22:08.484Z"
   },
   {
    "duration": 9,
    "start_time": "2022-07-15T10:22:08.956Z"
   },
   {
    "duration": 19,
    "start_time": "2022-07-15T10:22:10.015Z"
   },
   {
    "duration": 4,
    "start_time": "2022-07-15T10:22:11.644Z"
   },
   {
    "duration": 28,
    "start_time": "2022-07-15T10:22:12.196Z"
   },
   {
    "duration": 101,
    "start_time": "2022-07-15T10:22:12.717Z"
   },
   {
    "duration": 16,
    "start_time": "2022-07-15T10:22:13.366Z"
   },
   {
    "duration": 11,
    "start_time": "2022-07-15T10:22:14.071Z"
   },
   {
    "duration": 8,
    "start_time": "2022-07-15T10:23:16.095Z"
   },
   {
    "duration": 11,
    "start_time": "2022-07-15T10:24:01.965Z"
   },
   {
    "duration": 11,
    "start_time": "2022-07-15T10:24:49.242Z"
   },
   {
    "duration": 1070,
    "start_time": "2022-07-15T10:24:59.879Z"
   },
   {
    "duration": 120,
    "start_time": "2022-07-15T10:25:00.950Z"
   },
   {
    "duration": 13,
    "start_time": "2022-07-15T10:25:01.072Z"
   },
   {
    "duration": 54,
    "start_time": "2022-07-15T10:25:01.087Z"
   },
   {
    "duration": 31,
    "start_time": "2022-07-15T10:25:01.143Z"
   },
   {
    "duration": 42,
    "start_time": "2022-07-15T10:25:01.175Z"
   },
   {
    "duration": 14,
    "start_time": "2022-07-15T10:25:01.219Z"
   },
   {
    "duration": 48,
    "start_time": "2022-07-15T10:25:01.234Z"
   },
   {
    "duration": 123,
    "start_time": "2022-07-15T10:25:01.284Z"
   },
   {
    "duration": 18,
    "start_time": "2022-07-15T10:25:01.410Z"
   },
   {
    "duration": 57,
    "start_time": "2022-07-15T10:25:01.430Z"
   },
   {
    "duration": 287,
    "start_time": "2022-07-15T10:25:01.489Z"
   },
   {
    "duration": 11,
    "start_time": "2022-07-15T10:25:01.778Z"
   },
   {
    "duration": 140,
    "start_time": "2022-07-15T10:34:29.985Z"
   },
   {
    "duration": 11,
    "start_time": "2022-07-15T10:38:35.533Z"
   },
   {
    "duration": 134,
    "start_time": "2022-07-15T10:56:57.210Z"
   },
   {
    "duration": 12,
    "start_time": "2022-07-15T10:57:15.037Z"
   },
   {
    "duration": 11,
    "start_time": "2022-07-15T10:57:21.871Z"
   },
   {
    "duration": 4,
    "start_time": "2022-07-15T10:57:39.864Z"
   },
   {
    "duration": 4,
    "start_time": "2022-07-15T10:57:56.939Z"
   },
   {
    "duration": 195,
    "start_time": "2022-07-15T10:58:00.396Z"
   },
   {
    "duration": 8,
    "start_time": "2022-07-15T10:58:09.770Z"
   },
   {
    "duration": 11,
    "start_time": "2022-07-15T10:58:17.014Z"
   },
   {
    "duration": 8,
    "start_time": "2022-07-15T10:58:25.047Z"
   },
   {
    "duration": 11,
    "start_time": "2022-07-15T10:58:36.263Z"
   },
   {
    "duration": 13,
    "start_time": "2022-07-15T10:58:42.377Z"
   },
   {
    "duration": 17,
    "start_time": "2022-07-15T10:58:55.973Z"
   },
   {
    "duration": 4,
    "start_time": "2022-07-15T11:00:13.954Z"
   },
   {
    "duration": 4,
    "start_time": "2022-07-15T11:00:27.796Z"
   },
   {
    "duration": 4,
    "start_time": "2022-07-15T11:00:45.315Z"
   },
   {
    "duration": 4,
    "start_time": "2022-07-15T11:00:57.191Z"
   },
   {
    "duration": 14,
    "start_time": "2022-07-15T11:01:03.850Z"
   },
   {
    "duration": 12,
    "start_time": "2022-07-15T11:01:13.549Z"
   },
   {
    "duration": 12,
    "start_time": "2022-07-15T11:01:30.155Z"
   },
   {
    "duration": 23,
    "start_time": "2022-07-15T11:01:40.233Z"
   },
   {
    "duration": 11,
    "start_time": "2022-07-15T11:01:50.088Z"
   },
   {
    "duration": 13,
    "start_time": "2022-07-15T11:02:36.170Z"
   },
   {
    "duration": 51,
    "start_time": "2022-07-15T11:03:12.030Z"
   },
   {
    "duration": 16,
    "start_time": "2022-07-15T11:03:23.489Z"
   },
   {
    "duration": 13,
    "start_time": "2022-07-15T11:03:29.644Z"
   },
   {
    "duration": 8,
    "start_time": "2022-07-15T11:03:58.206Z"
   },
   {
    "duration": 15,
    "start_time": "2022-07-15T11:05:17.465Z"
   },
   {
    "duration": 10,
    "start_time": "2022-07-15T11:06:00.260Z"
   },
   {
    "duration": 17,
    "start_time": "2022-07-15T11:06:14.981Z"
   },
   {
    "duration": 12,
    "start_time": "2022-07-15T11:06:30.982Z"
   },
   {
    "duration": 9,
    "start_time": "2022-07-15T11:07:28.697Z"
   },
   {
    "duration": 16,
    "start_time": "2022-07-15T11:07:40.302Z"
   },
   {
    "duration": 5,
    "start_time": "2022-07-15T11:07:49.999Z"
   },
   {
    "duration": 13,
    "start_time": "2022-07-15T11:08:14.750Z"
   },
   {
    "duration": 7,
    "start_time": "2022-07-15T11:08:18.391Z"
   },
   {
    "duration": 8,
    "start_time": "2022-07-15T11:08:39.051Z"
   },
   {
    "duration": 112,
    "start_time": "2022-07-15T11:10:23.715Z"
   },
   {
    "duration": 10,
    "start_time": "2022-07-15T11:10:29.040Z"
   },
   {
    "duration": 11,
    "start_time": "2022-07-15T11:10:47.579Z"
   },
   {
    "duration": 64,
    "start_time": "2022-07-15T11:13:04.233Z"
   },
   {
    "duration": 16,
    "start_time": "2022-07-15T11:13:26.082Z"
   },
   {
    "duration": 61,
    "start_time": "2022-07-15T11:13:38.295Z"
   },
   {
    "duration": 12,
    "start_time": "2022-07-15T11:15:38.334Z"
   },
   {
    "duration": 9,
    "start_time": "2022-07-15T11:15:52.895Z"
   },
   {
    "duration": 6,
    "start_time": "2022-07-15T11:16:25.262Z"
   },
   {
    "duration": 7,
    "start_time": "2022-07-15T11:16:30.169Z"
   },
   {
    "duration": 11,
    "start_time": "2022-07-15T11:17:01.004Z"
   },
   {
    "duration": 8,
    "start_time": "2022-07-15T11:17:35.006Z"
   },
   {
    "duration": 7,
    "start_time": "2022-07-15T11:17:36.633Z"
   },
   {
    "duration": 5,
    "start_time": "2022-07-15T11:18:08.734Z"
   },
   {
    "duration": 11,
    "start_time": "2022-07-15T11:18:15.328Z"
   },
   {
    "duration": 8,
    "start_time": "2022-07-15T11:18:47.240Z"
   },
   {
    "duration": 8,
    "start_time": "2022-07-15T11:19:17.957Z"
   },
   {
    "duration": 12,
    "start_time": "2022-07-15T11:20:41.088Z"
   },
   {
    "duration": 10,
    "start_time": "2022-07-15T11:20:45.152Z"
   },
   {
    "duration": 12,
    "start_time": "2022-07-15T11:22:03.076Z"
   },
   {
    "duration": 9,
    "start_time": "2022-07-15T11:22:43.334Z"
   },
   {
    "duration": 9,
    "start_time": "2022-07-15T11:23:00.722Z"
   },
   {
    "duration": 11,
    "start_time": "2022-07-15T11:23:12.488Z"
   },
   {
    "duration": 1151,
    "start_time": "2022-07-15T11:24:08.003Z"
   },
   {
    "duration": 66,
    "start_time": "2022-07-15T11:24:09.156Z"
   },
   {
    "duration": 11,
    "start_time": "2022-07-15T11:24:09.224Z"
   },
   {
    "duration": 14,
    "start_time": "2022-07-15T11:24:09.237Z"
   },
   {
    "duration": 9,
    "start_time": "2022-07-15T11:24:09.252Z"
   },
   {
    "duration": 20,
    "start_time": "2022-07-15T11:24:09.262Z"
   },
   {
    "duration": 4,
    "start_time": "2022-07-15T11:24:09.283Z"
   },
   {
    "duration": 62,
    "start_time": "2022-07-15T11:24:09.288Z"
   },
   {
    "duration": 113,
    "start_time": "2022-07-15T11:24:09.352Z"
   },
   {
    "duration": 10,
    "start_time": "2022-07-15T11:24:09.467Z"
   },
   {
    "duration": 12,
    "start_time": "2022-07-15T11:24:09.479Z"
   },
   {
    "duration": 236,
    "start_time": "2022-07-15T11:24:09.493Z"
   },
   {
    "duration": 11,
    "start_time": "2022-07-15T11:24:09.730Z"
   },
   {
    "duration": 159,
    "start_time": "2022-07-15T11:24:09.742Z"
   },
   {
    "duration": 11,
    "start_time": "2022-07-15T11:24:09.903Z"
   },
   {
    "duration": 107,
    "start_time": "2022-07-15T11:24:09.924Z"
   },
   {
    "duration": 0,
    "start_time": "2022-07-15T11:24:10.033Z"
   },
   {
    "duration": 10,
    "start_time": "2022-07-15T11:24:50.238Z"
   },
   {
    "duration": 11,
    "start_time": "2022-07-15T11:24:59.232Z"
   },
   {
    "duration": 7,
    "start_time": "2022-07-15T11:25:26.518Z"
   },
   {
    "duration": 13,
    "start_time": "2022-07-15T11:25:32.129Z"
   },
   {
    "duration": 11,
    "start_time": "2022-07-15T11:25:37.559Z"
   },
   {
    "duration": 11,
    "start_time": "2022-07-15T11:25:45.062Z"
   },
   {
    "duration": 10,
    "start_time": "2022-07-15T11:30:36.827Z"
   },
   {
    "duration": 1243,
    "start_time": "2022-07-15T11:30:49.516Z"
   },
   {
    "duration": 73,
    "start_time": "2022-07-15T11:30:50.761Z"
   },
   {
    "duration": 12,
    "start_time": "2022-07-15T11:30:50.836Z"
   },
   {
    "duration": 18,
    "start_time": "2022-07-15T11:30:50.850Z"
   },
   {
    "duration": 8,
    "start_time": "2022-07-15T11:30:50.869Z"
   },
   {
    "duration": 22,
    "start_time": "2022-07-15T11:30:50.879Z"
   },
   {
    "duration": 4,
    "start_time": "2022-07-15T11:30:50.924Z"
   },
   {
    "duration": 37,
    "start_time": "2022-07-15T11:30:50.930Z"
   },
   {
    "duration": 114,
    "start_time": "2022-07-15T11:30:50.969Z"
   },
   {
    "duration": 9,
    "start_time": "2022-07-15T11:30:51.085Z"
   },
   {
    "duration": 28,
    "start_time": "2022-07-15T11:30:51.096Z"
   },
   {
    "duration": 230,
    "start_time": "2022-07-15T11:30:51.126Z"
   },
   {
    "duration": 10,
    "start_time": "2022-07-15T11:30:51.358Z"
   },
   {
    "duration": 167,
    "start_time": "2022-07-15T11:30:51.369Z"
   },
   {
    "duration": 12,
    "start_time": "2022-07-15T11:30:51.537Z"
   },
   {
    "duration": 6,
    "start_time": "2022-07-15T11:30:51.551Z"
   },
   {
    "duration": 11,
    "start_time": "2022-07-15T11:30:51.559Z"
   },
   {
    "duration": 10,
    "start_time": "2022-07-15T11:30:51.572Z"
   },
   {
    "duration": 176,
    "start_time": "2022-07-15T11:56:06.914Z"
   },
   {
    "duration": 103,
    "start_time": "2022-07-15T11:56:27.679Z"
   },
   {
    "duration": 7,
    "start_time": "2022-07-15T11:58:17.002Z"
   },
   {
    "duration": 103,
    "start_time": "2022-07-15T12:00:21.735Z"
   },
   {
    "duration": 109,
    "start_time": "2022-07-15T12:01:54.711Z"
   },
   {
    "duration": 5,
    "start_time": "2022-07-15T12:02:37.788Z"
   },
   {
    "duration": 18,
    "start_time": "2022-07-15T12:03:05.671Z"
   },
   {
    "duration": 10,
    "start_time": "2022-07-15T12:03:17.839Z"
   },
   {
    "duration": 6,
    "start_time": "2022-07-15T12:05:53.504Z"
   },
   {
    "duration": 4,
    "start_time": "2022-07-15T12:06:30.553Z"
   },
   {
    "duration": 5,
    "start_time": "2022-07-15T12:06:41.324Z"
   },
   {
    "duration": 5,
    "start_time": "2022-07-15T12:06:46.137Z"
   },
   {
    "duration": 971,
    "start_time": "2022-07-15T12:06:59.551Z"
   },
   {
    "duration": 19,
    "start_time": "2022-07-15T12:07:23.459Z"
   },
   {
    "duration": 17,
    "start_time": "2022-07-15T12:07:38.030Z"
   },
   {
    "duration": 11,
    "start_time": "2022-07-15T12:07:45.648Z"
   },
   {
    "duration": 10,
    "start_time": "2022-07-15T12:11:55.696Z"
   },
   {
    "duration": 109,
    "start_time": "2022-07-15T12:12:08.296Z"
   },
   {
    "duration": 166,
    "start_time": "2022-07-15T12:12:21.900Z"
   },
   {
    "duration": 285,
    "start_time": "2022-07-15T12:12:32.286Z"
   },
   {
    "duration": 131,
    "start_time": "2022-07-15T12:12:41.545Z"
   },
   {
    "duration": 302,
    "start_time": "2022-07-15T12:14:08.711Z"
   },
   {
    "duration": 276,
    "start_time": "2022-07-15T12:30:50.848Z"
   },
   {
    "duration": 267,
    "start_time": "2022-07-15T12:30:56.352Z"
   },
   {
    "duration": 300,
    "start_time": "2022-07-15T12:31:45.644Z"
   },
   {
    "duration": 271,
    "start_time": "2022-07-15T12:31:50.304Z"
   },
   {
    "duration": 388,
    "start_time": "2022-07-15T12:31:55.835Z"
   },
   {
    "duration": 437,
    "start_time": "2022-07-15T12:34:33.781Z"
   },
   {
    "duration": 436,
    "start_time": "2022-07-15T12:36:02.493Z"
   },
   {
    "duration": 454,
    "start_time": "2022-07-15T12:36:13.258Z"
   },
   {
    "duration": 444,
    "start_time": "2022-07-15T12:36:23.049Z"
   },
   {
    "duration": 454,
    "start_time": "2022-07-15T12:36:28.519Z"
   },
   {
    "duration": 279,
    "start_time": "2022-07-15T12:37:10.111Z"
   },
   {
    "duration": 264,
    "start_time": "2022-07-15T12:37:22.209Z"
   },
   {
    "duration": 61,
    "start_time": "2022-07-15T12:45:01.181Z"
   },
   {
    "duration": 4,
    "start_time": "2022-07-15T12:45:03.856Z"
   },
   {
    "duration": 40,
    "start_time": "2022-07-15T12:45:10.341Z"
   },
   {
    "duration": 4,
    "start_time": "2022-07-15T12:46:22.013Z"
   },
   {
    "duration": 21,
    "start_time": "2022-07-15T12:46:37.279Z"
   },
   {
    "duration": 12,
    "start_time": "2022-07-15T12:47:43.513Z"
   },
   {
    "duration": 6,
    "start_time": "2022-07-15T12:48:01.286Z"
   },
   {
    "duration": 13,
    "start_time": "2022-07-15T12:48:33.473Z"
   },
   {
    "duration": 21,
    "start_time": "2022-07-15T12:48:40.309Z"
   },
   {
    "duration": 13,
    "start_time": "2022-07-15T12:54:10.903Z"
   },
   {
    "duration": 14,
    "start_time": "2022-07-15T12:55:11.676Z"
   },
   {
    "duration": 12,
    "start_time": "2022-07-15T12:56:06.852Z"
   },
   {
    "duration": 23,
    "start_time": "2022-07-15T13:04:04.092Z"
   },
   {
    "duration": 331,
    "start_time": "2022-07-15T13:04:21.211Z"
   },
   {
    "duration": 245,
    "start_time": "2022-07-15T13:04:27.661Z"
   },
   {
    "duration": 241,
    "start_time": "2022-07-15T13:04:42.366Z"
   },
   {
    "duration": 1279,
    "start_time": "2022-07-15T22:19:26.860Z"
   },
   {
    "duration": 266,
    "start_time": "2022-07-15T22:19:28.141Z"
   },
   {
    "duration": 12,
    "start_time": "2022-07-15T22:19:28.409Z"
   },
   {
    "duration": 14,
    "start_time": "2022-07-15T22:19:28.423Z"
   },
   {
    "duration": 8,
    "start_time": "2022-07-15T22:19:28.439Z"
   },
   {
    "duration": 20,
    "start_time": "2022-07-15T22:19:28.449Z"
   },
   {
    "duration": 3,
    "start_time": "2022-07-15T22:19:28.470Z"
   },
   {
    "duration": 51,
    "start_time": "2022-07-15T22:19:28.475Z"
   },
   {
    "duration": 109,
    "start_time": "2022-07-15T22:19:28.527Z"
   },
   {
    "duration": 9,
    "start_time": "2022-07-15T22:19:28.638Z"
   },
   {
    "duration": 20,
    "start_time": "2022-07-15T22:19:28.649Z"
   },
   {
    "duration": 222,
    "start_time": "2022-07-15T22:19:28.670Z"
   },
   {
    "duration": 16,
    "start_time": "2022-07-15T22:19:28.894Z"
   },
   {
    "duration": 149,
    "start_time": "2022-07-15T22:19:28.912Z"
   },
   {
    "duration": 11,
    "start_time": "2022-07-15T22:19:29.063Z"
   },
   {
    "duration": 10,
    "start_time": "2022-07-15T22:19:29.075Z"
   },
   {
    "duration": 22,
    "start_time": "2022-07-15T22:19:29.087Z"
   },
   {
    "duration": 11,
    "start_time": "2022-07-15T22:19:29.111Z"
   },
   {
    "duration": 185,
    "start_time": "2022-07-15T22:19:29.123Z"
   },
   {
    "duration": 7,
    "start_time": "2022-07-15T22:19:29.310Z"
   },
   {
    "duration": 12,
    "start_time": "2022-07-15T22:19:29.319Z"
   },
   {
    "duration": 10,
    "start_time": "2022-07-15T22:19:29.332Z"
   },
   {
    "duration": 271,
    "start_time": "2022-07-15T22:19:29.344Z"
   },
   {
    "duration": 134,
    "start_time": "2022-07-15T22:19:29.617Z"
   },
   {
    "duration": 373,
    "start_time": "2022-07-15T22:19:29.753Z"
   },
   {
    "duration": 461,
    "start_time": "2022-07-15T22:19:30.128Z"
   },
   {
    "duration": 3,
    "start_time": "2022-07-15T22:19:30.591Z"
   },
   {
    "duration": 26,
    "start_time": "2022-07-15T22:19:30.597Z"
   },
   {
    "duration": 35,
    "start_time": "2022-07-15T22:19:30.625Z"
   },
   {
    "duration": 35,
    "start_time": "2022-07-15T22:19:30.662Z"
   },
   {
    "duration": 20,
    "start_time": "2022-07-15T22:19:30.698Z"
   },
   {
    "duration": 37,
    "start_time": "2022-07-15T22:19:30.719Z"
   },
   {
    "duration": 236,
    "start_time": "2022-07-15T22:19:30.757Z"
   },
   {
    "duration": 68,
    "start_time": "2022-07-16T13:28:39.876Z"
   },
   {
    "duration": 1676,
    "start_time": "2022-07-16T13:28:45.670Z"
   },
   {
    "duration": 256,
    "start_time": "2022-07-16T13:28:47.348Z"
   },
   {
    "duration": 21,
    "start_time": "2022-07-16T13:28:47.606Z"
   },
   {
    "duration": 19,
    "start_time": "2022-07-16T13:28:47.630Z"
   },
   {
    "duration": 14,
    "start_time": "2022-07-16T13:28:47.650Z"
   },
   {
    "duration": 45,
    "start_time": "2022-07-16T13:28:47.667Z"
   },
   {
    "duration": 5,
    "start_time": "2022-07-16T13:28:47.714Z"
   },
   {
    "duration": 59,
    "start_time": "2022-07-16T13:28:47.721Z"
   },
   {
    "duration": 199,
    "start_time": "2022-07-16T13:28:47.781Z"
   },
   {
    "duration": 25,
    "start_time": "2022-07-16T13:28:47.984Z"
   },
   {
    "duration": 13,
    "start_time": "2022-07-16T13:28:48.011Z"
   },
   {
    "duration": 254,
    "start_time": "2022-07-16T13:28:48.026Z"
   },
   {
    "duration": 19,
    "start_time": "2022-07-16T13:28:48.282Z"
   },
   {
    "duration": 163,
    "start_time": "2022-07-16T13:28:48.303Z"
   },
   {
    "duration": 17,
    "start_time": "2022-07-16T13:28:48.467Z"
   },
   {
    "duration": 19,
    "start_time": "2022-07-16T13:28:48.486Z"
   },
   {
    "duration": 16,
    "start_time": "2022-07-16T13:28:48.507Z"
   },
   {
    "duration": 27,
    "start_time": "2022-07-16T13:28:48.525Z"
   },
   {
    "duration": 203,
    "start_time": "2022-07-16T13:28:48.554Z"
   },
   {
    "duration": 11,
    "start_time": "2022-07-16T13:28:48.760Z"
   },
   {
    "duration": 30,
    "start_time": "2022-07-16T13:28:48.772Z"
   },
   {
    "duration": 17,
    "start_time": "2022-07-16T13:28:48.804Z"
   },
   {
    "duration": 318,
    "start_time": "2022-07-16T13:28:48.823Z"
   },
   {
    "duration": 152,
    "start_time": "2022-07-16T13:28:49.143Z"
   },
   {
    "duration": 415,
    "start_time": "2022-07-16T13:28:49.297Z"
   },
   {
    "duration": 648,
    "start_time": "2022-07-16T13:28:49.714Z"
   },
   {
    "duration": 4,
    "start_time": "2022-07-16T13:28:50.364Z"
   },
   {
    "duration": 22,
    "start_time": "2022-07-16T13:28:50.372Z"
   },
   {
    "duration": 23,
    "start_time": "2022-07-16T13:28:50.396Z"
   },
   {
    "duration": 16,
    "start_time": "2022-07-16T13:28:50.421Z"
   },
   {
    "duration": 25,
    "start_time": "2022-07-16T13:28:50.439Z"
   },
   {
    "duration": 48,
    "start_time": "2022-07-16T13:28:50.466Z"
   },
   {
    "duration": 367,
    "start_time": "2022-07-16T13:28:50.516Z"
   },
   {
    "duration": 29,
    "start_time": "2022-07-16T13:28:50.885Z"
   },
   {
    "duration": 13,
    "start_time": "2022-07-16T13:29:09.683Z"
   },
   {
    "duration": 898,
    "start_time": "2022-07-16T13:29:29.992Z"
   },
   {
    "duration": 14,
    "start_time": "2022-07-16T13:29:46.617Z"
   },
   {
    "duration": 13,
    "start_time": "2022-07-16T13:30:40.406Z"
   },
   {
    "duration": 273,
    "start_time": "2022-07-16T13:33:42.201Z"
   },
   {
    "duration": 11,
    "start_time": "2022-07-16T13:33:51.047Z"
   },
   {
    "duration": 48,
    "start_time": "2022-07-16T13:34:30.441Z"
   },
   {
    "duration": 17,
    "start_time": "2022-07-16T13:36:18.869Z"
   },
   {
    "duration": 12,
    "start_time": "2022-07-16T13:37:15.977Z"
   },
   {
    "duration": 4,
    "start_time": "2022-07-16T13:37:24.346Z"
   },
   {
    "duration": 4,
    "start_time": "2022-07-16T13:37:31.271Z"
   },
   {
    "duration": 8,
    "start_time": "2022-07-16T13:37:38.076Z"
   },
   {
    "duration": 9,
    "start_time": "2022-07-16T13:40:36.247Z"
   },
   {
    "duration": 4,
    "start_time": "2022-07-16T13:40:47.796Z"
   },
   {
    "duration": 8,
    "start_time": "2022-07-16T13:40:57.704Z"
   },
   {
    "duration": 22,
    "start_time": "2022-07-16T13:41:16.668Z"
   },
   {
    "duration": 10,
    "start_time": "2022-07-16T13:42:01.681Z"
   },
   {
    "duration": 4,
    "start_time": "2022-07-16T13:42:09.396Z"
   },
   {
    "duration": 8,
    "start_time": "2022-07-16T13:42:20.841Z"
   },
   {
    "duration": 3,
    "start_time": "2022-07-16T13:42:27.688Z"
   },
   {
    "duration": 5,
    "start_time": "2022-07-16T13:43:18.450Z"
   },
   {
    "duration": 21,
    "start_time": "2022-07-16T13:43:31.322Z"
   },
   {
    "duration": 8,
    "start_time": "2022-07-16T13:43:36.477Z"
   },
   {
    "duration": 12,
    "start_time": "2022-07-16T13:43:41.050Z"
   },
   {
    "duration": 22,
    "start_time": "2022-07-16T13:44:02.074Z"
   },
   {
    "duration": 12,
    "start_time": "2022-07-16T13:45:29.560Z"
   },
   {
    "duration": 11,
    "start_time": "2022-07-16T13:45:47.111Z"
   },
   {
    "duration": 30,
    "start_time": "2022-07-16T13:45:57.962Z"
   },
   {
    "duration": 261,
    "start_time": "2022-07-16T13:46:01.349Z"
   },
   {
    "duration": 193,
    "start_time": "2022-07-16T13:46:04.028Z"
   },
   {
    "duration": 12,
    "start_time": "2022-07-16T13:46:06.405Z"
   },
   {
    "duration": 5,
    "start_time": "2022-07-16T13:46:08.859Z"
   },
   {
    "duration": 8,
    "start_time": "2022-07-16T13:46:11.859Z"
   },
   {
    "duration": 14,
    "start_time": "2022-07-16T13:46:15.974Z"
   },
   {
    "duration": 14,
    "start_time": "2022-07-16T13:47:28.887Z"
   },
   {
    "duration": 15,
    "start_time": "2022-07-16T13:47:40.111Z"
   },
   {
    "duration": 47,
    "start_time": "2022-07-16T13:47:44.673Z"
   },
   {
    "duration": 45,
    "start_time": "2022-07-16T13:47:49.275Z"
   },
   {
    "duration": 14,
    "start_time": "2022-07-16T13:48:16.063Z"
   },
   {
    "duration": 14,
    "start_time": "2022-07-16T13:48:46.440Z"
   },
   {
    "duration": 13,
    "start_time": "2022-07-16T13:51:01.477Z"
   },
   {
    "duration": 18,
    "start_time": "2022-07-16T13:53:52.713Z"
   },
   {
    "duration": 7,
    "start_time": "2022-07-16T13:54:02.942Z"
   },
   {
    "duration": 13,
    "start_time": "2022-07-16T13:54:05.333Z"
   },
   {
    "duration": 11,
    "start_time": "2022-07-16T13:55:37.912Z"
   },
   {
    "duration": 10,
    "start_time": "2022-07-16T13:55:41.342Z"
   },
   {
    "duration": 12,
    "start_time": "2022-07-16T13:55:43.270Z"
   },
   {
    "duration": 21,
    "start_time": "2022-07-16T13:56:01.675Z"
   },
   {
    "duration": 19,
    "start_time": "2022-07-16T13:56:10.841Z"
   },
   {
    "duration": 6,
    "start_time": "2022-07-16T13:57:18.190Z"
   },
   {
    "duration": 17,
    "start_time": "2022-07-16T13:57:21.046Z"
   },
   {
    "duration": 7,
    "start_time": "2022-07-16T13:57:38.875Z"
   },
   {
    "duration": 12,
    "start_time": "2022-07-16T13:57:50.021Z"
   },
   {
    "duration": 55,
    "start_time": "2022-07-16T14:00:15.220Z"
   },
   {
    "duration": 4,
    "start_time": "2022-07-16T14:00:22.837Z"
   },
   {
    "duration": 5,
    "start_time": "2022-07-16T14:00:54.377Z"
   },
   {
    "duration": 5,
    "start_time": "2022-07-16T14:01:09.033Z"
   },
   {
    "duration": 9,
    "start_time": "2022-07-16T14:56:51.800Z"
   },
   {
    "duration": 28,
    "start_time": "2022-07-16T14:57:02.454Z"
   },
   {
    "duration": 8,
    "start_time": "2022-07-16T14:57:11.462Z"
   },
   {
    "duration": 25,
    "start_time": "2022-07-16T14:57:30.342Z"
   },
   {
    "duration": 9,
    "start_time": "2022-07-16T14:57:39.003Z"
   },
   {
    "duration": 11,
    "start_time": "2022-07-16T14:58:01.286Z"
   },
   {
    "duration": 10,
    "start_time": "2022-07-16T14:58:09.496Z"
   },
   {
    "duration": 7,
    "start_time": "2022-07-16T15:00:32.650Z"
   },
   {
    "duration": 13,
    "start_time": "2022-07-16T15:00:35.682Z"
   },
   {
    "duration": 19,
    "start_time": "2022-07-16T15:01:24.254Z"
   },
   {
    "duration": 22,
    "start_time": "2022-07-16T15:01:32.056Z"
   },
   {
    "duration": 15,
    "start_time": "2022-07-16T15:01:39.558Z"
   },
   {
    "duration": 47,
    "start_time": "2022-07-16T15:01:45.975Z"
   },
   {
    "duration": 3740,
    "start_time": "2022-07-16T15:02:52.268Z"
   },
   {
    "duration": 52,
    "start_time": "2022-07-16T15:03:25.243Z"
   },
   {
    "duration": 1236,
    "start_time": "2022-07-16T15:03:31.838Z"
   },
   {
    "duration": 259,
    "start_time": "2022-07-16T15:03:33.076Z"
   },
   {
    "duration": 11,
    "start_time": "2022-07-16T15:03:33.337Z"
   },
   {
    "duration": 13,
    "start_time": "2022-07-16T15:03:33.350Z"
   },
   {
    "duration": 15,
    "start_time": "2022-07-16T15:03:33.364Z"
   },
   {
    "duration": 21,
    "start_time": "2022-07-16T15:03:33.381Z"
   },
   {
    "duration": 3,
    "start_time": "2022-07-16T15:03:33.404Z"
   },
   {
    "duration": 36,
    "start_time": "2022-07-16T15:03:33.409Z"
   },
   {
    "duration": 102,
    "start_time": "2022-07-16T15:03:33.446Z"
   },
   {
    "duration": 9,
    "start_time": "2022-07-16T15:03:33.550Z"
   },
   {
    "duration": 12,
    "start_time": "2022-07-16T15:03:33.560Z"
   },
   {
    "duration": 239,
    "start_time": "2022-07-16T15:03:33.573Z"
   },
   {
    "duration": 10,
    "start_time": "2022-07-16T15:03:33.814Z"
   },
   {
    "duration": 176,
    "start_time": "2022-07-16T15:03:33.826Z"
   },
   {
    "duration": 14,
    "start_time": "2022-07-16T15:03:34.004Z"
   },
   {
    "duration": 11,
    "start_time": "2022-07-16T15:03:34.020Z"
   },
   {
    "duration": 8,
    "start_time": "2022-07-16T15:03:34.032Z"
   },
   {
    "duration": 16,
    "start_time": "2022-07-16T15:03:34.042Z"
   },
   {
    "duration": 191,
    "start_time": "2022-07-16T15:03:34.060Z"
   },
   {
    "duration": 8,
    "start_time": "2022-07-16T15:03:34.253Z"
   },
   {
    "duration": 8,
    "start_time": "2022-07-16T15:03:34.262Z"
   },
   {
    "duration": 15,
    "start_time": "2022-07-16T15:03:34.271Z"
   },
   {
    "duration": 284,
    "start_time": "2022-07-16T15:03:34.288Z"
   },
   {
    "duration": 136,
    "start_time": "2022-07-16T15:03:34.573Z"
   },
   {
    "duration": 360,
    "start_time": "2022-07-16T15:03:34.711Z"
   },
   {
    "duration": 522,
    "start_time": "2022-07-16T15:03:35.072Z"
   },
   {
    "duration": 2,
    "start_time": "2022-07-16T15:03:35.601Z"
   },
   {
    "duration": 14,
    "start_time": "2022-07-16T15:03:35.606Z"
   },
   {
    "duration": 19,
    "start_time": "2022-07-16T15:03:35.622Z"
   },
   {
    "duration": 18,
    "start_time": "2022-07-16T15:03:35.642Z"
   },
   {
    "duration": 18,
    "start_time": "2022-07-16T15:03:35.661Z"
   },
   {
    "duration": 33,
    "start_time": "2022-07-16T15:03:35.680Z"
   },
   {
    "duration": 227,
    "start_time": "2022-07-16T15:03:35.715Z"
   },
   {
    "duration": 243,
    "start_time": "2022-07-16T15:03:35.945Z"
   },
   {
    "duration": 13,
    "start_time": "2022-07-16T15:03:36.190Z"
   },
   {
    "duration": 32,
    "start_time": "2022-07-16T15:03:36.204Z"
   },
   {
    "duration": 42,
    "start_time": "2022-07-16T15:03:36.237Z"
   },
   {
    "duration": 10,
    "start_time": "2022-07-16T15:03:36.281Z"
   },
   {
    "duration": 20,
    "start_time": "2022-07-16T15:03:36.293Z"
   },
   {
    "duration": 9,
    "start_time": "2022-07-16T15:03:36.314Z"
   },
   {
    "duration": 11,
    "start_time": "2022-07-16T15:04:00.196Z"
   },
   {
    "duration": 110,
    "start_time": "2022-07-16T15:04:56.498Z"
   },
   {
    "duration": 9,
    "start_time": "2022-07-16T15:05:02.209Z"
   },
   {
    "duration": 9,
    "start_time": "2022-07-16T15:05:05.549Z"
   },
   {
    "duration": 11,
    "start_time": "2022-07-16T15:05:10.449Z"
   },
   {
    "duration": 7,
    "start_time": "2022-07-16T15:05:14.655Z"
   },
   {
    "duration": 10,
    "start_time": "2022-07-16T15:05:16.382Z"
   },
   {
    "duration": 10,
    "start_time": "2022-07-16T15:06:52.910Z"
   },
   {
    "duration": 10,
    "start_time": "2022-07-16T15:09:27.049Z"
   },
   {
    "duration": 12,
    "start_time": "2022-07-16T15:09:45.189Z"
   },
   {
    "duration": 16,
    "start_time": "2022-07-16T15:09:50.995Z"
   },
   {
    "duration": 21,
    "start_time": "2022-07-16T15:09:59.911Z"
   },
   {
    "duration": 14,
    "start_time": "2022-07-16T15:10:04.643Z"
   },
   {
    "duration": 9,
    "start_time": "2022-07-16T15:42:08.658Z"
   },
   {
    "duration": 11,
    "start_time": "2022-07-16T15:42:11.502Z"
   },
   {
    "duration": 11,
    "start_time": "2022-07-16T15:43:15.372Z"
   },
   {
    "duration": 8,
    "start_time": "2022-07-16T15:43:21.662Z"
   },
   {
    "duration": 8,
    "start_time": "2022-07-16T15:43:25.600Z"
   },
   {
    "duration": 8,
    "start_time": "2022-07-16T15:43:27.863Z"
   },
   {
    "duration": 10,
    "start_time": "2022-07-16T15:43:31.969Z"
   },
   {
    "duration": 7,
    "start_time": "2022-07-16T15:43:47.666Z"
   },
   {
    "duration": 13,
    "start_time": "2022-07-16T15:45:14.317Z"
   },
   {
    "duration": 12,
    "start_time": "2022-07-16T15:45:48.054Z"
   },
   {
    "duration": 11,
    "start_time": "2022-07-16T15:46:49.417Z"
   },
   {
    "duration": 9,
    "start_time": "2022-07-16T15:47:01.708Z"
   },
   {
    "duration": 2,
    "start_time": "2022-07-16T15:48:28.893Z"
   },
   {
    "duration": 5,
    "start_time": "2022-07-16T15:48:37.210Z"
   },
   {
    "duration": 5,
    "start_time": "2022-07-16T15:50:40.415Z"
   },
   {
    "duration": 5,
    "start_time": "2022-07-16T15:50:53.217Z"
   },
   {
    "duration": 4,
    "start_time": "2022-07-16T15:53:41.500Z"
   },
   {
    "duration": 5,
    "start_time": "2022-07-16T15:56:38.555Z"
   },
   {
    "duration": 5,
    "start_time": "2022-07-16T15:56:47.400Z"
   },
   {
    "duration": 21,
    "start_time": "2022-07-16T15:57:20.664Z"
   },
   {
    "duration": 5,
    "start_time": "2022-07-16T15:57:27.862Z"
   },
   {
    "duration": 8,
    "start_time": "2022-07-16T15:58:34.060Z"
   },
   {
    "duration": 1172,
    "start_time": "2022-07-16T15:59:17.460Z"
   },
   {
    "duration": 67,
    "start_time": "2022-07-16T15:59:18.634Z"
   },
   {
    "duration": 13,
    "start_time": "2022-07-16T15:59:18.703Z"
   },
   {
    "duration": 15,
    "start_time": "2022-07-16T15:59:18.718Z"
   },
   {
    "duration": 13,
    "start_time": "2022-07-16T15:59:18.734Z"
   },
   {
    "duration": 27,
    "start_time": "2022-07-16T15:59:18.749Z"
   },
   {
    "duration": 26,
    "start_time": "2022-07-16T15:59:18.778Z"
   },
   {
    "duration": 52,
    "start_time": "2022-07-16T15:59:18.806Z"
   },
   {
    "duration": 119,
    "start_time": "2022-07-16T15:59:18.859Z"
   },
   {
    "duration": 25,
    "start_time": "2022-07-16T15:59:18.982Z"
   },
   {
    "duration": 17,
    "start_time": "2022-07-16T15:59:19.008Z"
   },
   {
    "duration": 239,
    "start_time": "2022-07-16T15:59:19.026Z"
   },
   {
    "duration": 11,
    "start_time": "2022-07-16T15:59:19.267Z"
   },
   {
    "duration": 182,
    "start_time": "2022-07-16T15:59:19.280Z"
   },
   {
    "duration": 13,
    "start_time": "2022-07-16T15:59:19.463Z"
   },
   {
    "duration": 26,
    "start_time": "2022-07-16T15:59:19.478Z"
   },
   {
    "duration": 13,
    "start_time": "2022-07-16T15:59:19.506Z"
   },
   {
    "duration": 14,
    "start_time": "2022-07-16T15:59:19.520Z"
   },
   {
    "duration": 203,
    "start_time": "2022-07-16T15:59:19.536Z"
   },
   {
    "duration": 8,
    "start_time": "2022-07-16T15:59:19.740Z"
   },
   {
    "duration": 16,
    "start_time": "2022-07-16T15:59:19.750Z"
   },
   {
    "duration": 13,
    "start_time": "2022-07-16T15:59:19.768Z"
   },
   {
    "duration": 286,
    "start_time": "2022-07-16T15:59:19.783Z"
   },
   {
    "duration": 150,
    "start_time": "2022-07-16T15:59:20.071Z"
   },
   {
    "duration": 372,
    "start_time": "2022-07-16T15:59:20.222Z"
   },
   {
    "duration": 473,
    "start_time": "2022-07-16T15:59:20.600Z"
   },
   {
    "duration": 3,
    "start_time": "2022-07-16T15:59:21.075Z"
   },
   {
    "duration": 22,
    "start_time": "2022-07-16T15:59:21.081Z"
   },
   {
    "duration": 27,
    "start_time": "2022-07-16T15:59:21.104Z"
   },
   {
    "duration": 12,
    "start_time": "2022-07-16T15:59:21.133Z"
   },
   {
    "duration": 17,
    "start_time": "2022-07-16T15:59:21.146Z"
   },
   {
    "duration": 22,
    "start_time": "2022-07-16T15:59:21.165Z"
   },
   {
    "duration": 4,
    "start_time": "2022-07-16T15:59:21.189Z"
   },
   {
    "duration": 235,
    "start_time": "2022-07-16T15:59:21.200Z"
   },
   {
    "duration": 173,
    "start_time": "2022-07-16T15:59:21.436Z"
   },
   {
    "duration": 12,
    "start_time": "2022-07-16T15:59:21.611Z"
   },
   {
    "duration": 103,
    "start_time": "2022-07-16T15:59:21.625Z"
   },
   {
    "duration": 0,
    "start_time": "2022-07-16T15:59:21.730Z"
   },
   {
    "duration": 0,
    "start_time": "2022-07-16T15:59:21.731Z"
   },
   {
    "duration": 0,
    "start_time": "2022-07-16T15:59:21.732Z"
   },
   {
    "duration": 0,
    "start_time": "2022-07-16T15:59:21.733Z"
   },
   {
    "duration": 0,
    "start_time": "2022-07-16T15:59:21.734Z"
   },
   {
    "duration": 13,
    "start_time": "2022-07-16T16:00:20.594Z"
   },
   {
    "duration": 8,
    "start_time": "2022-07-16T16:00:30.647Z"
   },
   {
    "duration": 15,
    "start_time": "2022-07-16T16:00:35.660Z"
   },
   {
    "duration": 1277,
    "start_time": "2022-07-16T16:02:21.249Z"
   },
   {
    "duration": 551,
    "start_time": "2022-07-16T16:02:31.956Z"
   },
   {
    "duration": 15,
    "start_time": "2022-07-16T16:02:36.864Z"
   },
   {
    "duration": 740,
    "start_time": "2022-07-16T16:03:10.182Z"
   },
   {
    "duration": 624,
    "start_time": "2022-07-16T16:03:23.660Z"
   },
   {
    "duration": 15,
    "start_time": "2022-07-16T16:03:30.816Z"
   },
   {
    "duration": 18,
    "start_time": "2022-07-16T16:16:46.918Z"
   },
   {
    "duration": 8,
    "start_time": "2022-07-16T16:16:48.860Z"
   },
   {
    "duration": 1369,
    "start_time": "2022-07-17T15:44:36.425Z"
   },
   {
    "duration": 262,
    "start_time": "2022-07-17T15:44:42.785Z"
   },
   {
    "duration": 12,
    "start_time": "2022-07-17T15:44:43.628Z"
   },
   {
    "duration": 20,
    "start_time": "2022-07-17T15:44:43.828Z"
   },
   {
    "duration": 13,
    "start_time": "2022-07-17T15:44:44.014Z"
   },
   {
    "duration": 31,
    "start_time": "2022-07-17T15:44:44.980Z"
   },
   {
    "duration": 4,
    "start_time": "2022-07-17T15:44:45.780Z"
   },
   {
    "duration": 29,
    "start_time": "2022-07-17T15:44:46.091Z"
   },
   {
    "duration": 135,
    "start_time": "2022-07-17T15:44:46.447Z"
   },
   {
    "duration": 13,
    "start_time": "2022-07-17T15:44:46.724Z"
   },
   {
    "duration": 16,
    "start_time": "2022-07-17T15:44:47.091Z"
   },
   {
    "duration": 266,
    "start_time": "2022-07-17T15:44:48.420Z"
   },
   {
    "duration": 10,
    "start_time": "2022-07-17T15:44:49.375Z"
   },
   {
    "duration": 158,
    "start_time": "2022-07-17T15:44:49.680Z"
   },
   {
    "duration": 13,
    "start_time": "2022-07-17T15:44:50.802Z"
   },
   {
    "duration": 8,
    "start_time": "2022-07-17T15:44:51.492Z"
   },
   {
    "duration": 9,
    "start_time": "2022-07-17T15:44:51.808Z"
   },
   {
    "duration": 12,
    "start_time": "2022-07-17T15:44:52.487Z"
   },
   {
    "duration": 173,
    "start_time": "2022-07-17T15:44:53.574Z"
   },
   {
    "duration": 8,
    "start_time": "2022-07-17T15:44:53.915Z"
   },
   {
    "duration": 10,
    "start_time": "2022-07-17T15:44:54.293Z"
   },
   {
    "duration": 12,
    "start_time": "2022-07-17T15:44:54.993Z"
   },
   {
    "duration": 266,
    "start_time": "2022-07-17T15:44:55.378Z"
   },
   {
    "duration": 136,
    "start_time": "2022-07-17T15:44:55.855Z"
   },
   {
    "duration": 361,
    "start_time": "2022-07-17T15:44:56.791Z"
   },
   {
    "duration": 463,
    "start_time": "2022-07-17T15:44:57.177Z"
   },
   {
    "duration": 5,
    "start_time": "2022-07-17T15:44:58.663Z"
   },
   {
    "duration": 10,
    "start_time": "2022-07-17T15:45:12.476Z"
   },
   {
    "duration": 13,
    "start_time": "2022-07-17T15:45:16.599Z"
   },
   {
    "duration": 9,
    "start_time": "2022-07-17T15:45:23.882Z"
   },
   {
    "duration": 11,
    "start_time": "2022-07-17T15:45:38.319Z"
   },
   {
    "duration": 19,
    "start_time": "2022-07-17T15:45:39.984Z"
   },
   {
    "duration": 8,
    "start_time": "2022-07-17T15:45:43.578Z"
   },
   {
    "duration": 16,
    "start_time": "2022-07-17T15:46:00.419Z"
   },
   {
    "duration": 15,
    "start_time": "2022-07-17T15:46:02.690Z"
   },
   {
    "duration": 7,
    "start_time": "2022-07-17T15:46:08.511Z"
   },
   {
    "duration": 10,
    "start_time": "2022-07-17T15:46:25.482Z"
   },
   {
    "duration": 28,
    "start_time": "2022-07-17T15:46:54.643Z"
   },
   {
    "duration": 5,
    "start_time": "2022-07-17T15:46:57.975Z"
   },
   {
    "duration": 258,
    "start_time": "2022-07-17T15:47:01.077Z"
   },
   {
    "duration": 194,
    "start_time": "2022-07-17T15:47:08.401Z"
   },
   {
    "duration": 13,
    "start_time": "2022-07-17T15:47:10.377Z"
   },
   {
    "duration": 8,
    "start_time": "2022-07-17T15:47:13.677Z"
   },
   {
    "duration": 17,
    "start_time": "2022-07-17T15:47:16.676Z"
   },
   {
    "duration": 18,
    "start_time": "2022-07-17T15:47:24.047Z"
   },
   {
    "duration": 10,
    "start_time": "2022-07-17T15:48:39.978Z"
   },
   {
    "duration": 9,
    "start_time": "2022-07-17T15:48:52.191Z"
   },
   {
    "duration": 105,
    "start_time": "2022-07-17T15:49:44.977Z"
   },
   {
    "duration": 17,
    "start_time": "2022-07-17T15:49:53.789Z"
   },
   {
    "duration": 14,
    "start_time": "2022-07-17T15:49:56.173Z"
   },
   {
    "duration": 22,
    "start_time": "2022-07-17T15:50:49.385Z"
   },
   {
    "duration": 21,
    "start_time": "2022-07-17T15:51:33.602Z"
   },
   {
    "duration": 19,
    "start_time": "2022-07-17T15:51:42.775Z"
   },
   {
    "duration": 14,
    "start_time": "2022-07-17T15:52:36.486Z"
   },
   {
    "duration": 6,
    "start_time": "2022-07-17T15:53:14.165Z"
   },
   {
    "duration": 16,
    "start_time": "2022-07-17T15:53:16.618Z"
   },
   {
    "duration": 11,
    "start_time": "2022-07-17T15:54:23.282Z"
   },
   {
    "duration": 12,
    "start_time": "2022-07-17T15:55:26.020Z"
   },
   {
    "duration": 2,
    "start_time": "2022-07-17T15:56:08.073Z"
   },
   {
    "duration": 20,
    "start_time": "2022-07-17T15:56:16.655Z"
   },
   {
    "duration": 20,
    "start_time": "2022-07-17T15:56:23.717Z"
   },
   {
    "duration": 9,
    "start_time": "2022-07-17T15:56:25.446Z"
   },
   {
    "duration": 10,
    "start_time": "2022-07-17T15:56:37.302Z"
   },
   {
    "duration": 37,
    "start_time": "2022-07-17T15:56:39.159Z"
   },
   {
    "duration": 16,
    "start_time": "2022-07-17T15:56:40.872Z"
   },
   {
    "duration": 875,
    "start_time": "2022-07-17T15:57:15.368Z"
   },
   {
    "duration": 12,
    "start_time": "2022-07-17T15:58:07.699Z"
   },
   {
    "duration": 21,
    "start_time": "2022-07-17T15:58:25.365Z"
   },
   {
    "duration": 13,
    "start_time": "2022-07-17T15:58:38.936Z"
   },
   {
    "duration": 18,
    "start_time": "2022-07-17T15:58:47.523Z"
   },
   {
    "duration": 15,
    "start_time": "2022-07-17T15:58:58.895Z"
   },
   {
    "duration": 1171,
    "start_time": "2022-07-17T15:59:11.322Z"
   },
   {
    "duration": 70,
    "start_time": "2022-07-17T15:59:12.495Z"
   },
   {
    "duration": 20,
    "start_time": "2022-07-17T15:59:12.567Z"
   },
   {
    "duration": 21,
    "start_time": "2022-07-17T15:59:12.592Z"
   },
   {
    "duration": 10,
    "start_time": "2022-07-17T15:59:12.615Z"
   },
   {
    "duration": 19,
    "start_time": "2022-07-17T15:59:12.626Z"
   },
   {
    "duration": 4,
    "start_time": "2022-07-17T15:59:12.647Z"
   },
   {
    "duration": 51,
    "start_time": "2022-07-17T15:59:12.653Z"
   },
   {
    "duration": 130,
    "start_time": "2022-07-17T15:59:12.706Z"
   },
   {
    "duration": 9,
    "start_time": "2022-07-17T15:59:12.838Z"
   },
   {
    "duration": 23,
    "start_time": "2022-07-17T15:59:12.849Z"
   },
   {
    "duration": 261,
    "start_time": "2022-07-17T15:59:12.874Z"
   },
   {
    "duration": 10,
    "start_time": "2022-07-17T15:59:13.137Z"
   },
   {
    "duration": 170,
    "start_time": "2022-07-17T15:59:13.148Z"
   },
   {
    "duration": 11,
    "start_time": "2022-07-17T15:59:13.319Z"
   },
   {
    "duration": 6,
    "start_time": "2022-07-17T15:59:13.332Z"
   },
   {
    "duration": 35,
    "start_time": "2022-07-17T15:59:13.339Z"
   },
   {
    "duration": 29,
    "start_time": "2022-07-17T15:59:13.376Z"
   },
   {
    "duration": 194,
    "start_time": "2022-07-17T15:59:13.407Z"
   },
   {
    "duration": 8,
    "start_time": "2022-07-17T15:59:13.603Z"
   },
   {
    "duration": 10,
    "start_time": "2022-07-17T15:59:13.612Z"
   },
   {
    "duration": 13,
    "start_time": "2022-07-17T15:59:13.624Z"
   },
   {
    "duration": 307,
    "start_time": "2022-07-17T15:59:13.638Z"
   },
   {
    "duration": 153,
    "start_time": "2022-07-17T15:59:13.947Z"
   },
   {
    "duration": 401,
    "start_time": "2022-07-17T15:59:14.101Z"
   },
   {
    "duration": 540,
    "start_time": "2022-07-17T15:59:14.504Z"
   },
   {
    "duration": 3,
    "start_time": "2022-07-17T15:59:15.046Z"
   },
   {
    "duration": 23,
    "start_time": "2022-07-17T15:59:15.061Z"
   },
   {
    "duration": 16,
    "start_time": "2022-07-17T15:59:15.086Z"
   },
   {
    "duration": 12,
    "start_time": "2022-07-17T15:59:15.103Z"
   },
   {
    "duration": 19,
    "start_time": "2022-07-17T15:59:15.116Z"
   },
   {
    "duration": 4,
    "start_time": "2022-07-17T15:59:15.137Z"
   },
   {
    "duration": 286,
    "start_time": "2022-07-17T15:59:15.142Z"
   },
   {
    "duration": 194,
    "start_time": "2022-07-17T15:59:15.429Z"
   },
   {
    "duration": 11,
    "start_time": "2022-07-17T15:59:15.624Z"
   },
   {
    "duration": 12,
    "start_time": "2022-07-17T15:59:15.637Z"
   },
   {
    "duration": 26,
    "start_time": "2022-07-17T15:59:15.650Z"
   },
   {
    "duration": 27,
    "start_time": "2022-07-17T15:59:15.678Z"
   },
   {
    "duration": 6,
    "start_time": "2022-07-17T15:59:15.706Z"
   },
   {
    "duration": 15,
    "start_time": "2022-07-17T15:59:15.713Z"
   },
   {
    "duration": 9,
    "start_time": "2022-07-17T15:59:15.729Z"
   },
   {
    "duration": 143,
    "start_time": "2022-07-17T15:59:15.739Z"
   },
   {
    "duration": 0,
    "start_time": "2022-07-17T15:59:15.885Z"
   },
   {
    "duration": 14,
    "start_time": "2022-07-17T15:59:39.006Z"
   },
   {
    "duration": 11,
    "start_time": "2022-07-17T15:59:48.488Z"
   },
   {
    "duration": 17,
    "start_time": "2022-07-17T16:00:11.569Z"
   },
   {
    "duration": 16,
    "start_time": "2022-07-17T16:00:36.715Z"
   },
   {
    "duration": 8,
    "start_time": "2022-07-17T16:00:43.991Z"
   },
   {
    "duration": 1155,
    "start_time": "2022-07-17T16:00:52.088Z"
   },
   {
    "duration": 85,
    "start_time": "2022-07-17T16:00:53.245Z"
   },
   {
    "duration": 13,
    "start_time": "2022-07-17T16:00:53.332Z"
   },
   {
    "duration": 16,
    "start_time": "2022-07-17T16:00:53.348Z"
   },
   {
    "duration": 19,
    "start_time": "2022-07-17T16:00:53.365Z"
   },
   {
    "duration": 28,
    "start_time": "2022-07-17T16:00:53.386Z"
   },
   {
    "duration": 3,
    "start_time": "2022-07-17T16:00:53.416Z"
   },
   {
    "duration": 32,
    "start_time": "2022-07-17T16:00:53.421Z"
   },
   {
    "duration": 121,
    "start_time": "2022-07-17T16:00:53.454Z"
   },
   {
    "duration": 12,
    "start_time": "2022-07-17T16:00:53.580Z"
   },
   {
    "duration": 12,
    "start_time": "2022-07-17T16:00:53.593Z"
   },
   {
    "duration": 240,
    "start_time": "2022-07-17T16:00:53.607Z"
   },
   {
    "duration": 21,
    "start_time": "2022-07-17T16:00:53.848Z"
   },
   {
    "duration": 167,
    "start_time": "2022-07-17T16:00:53.870Z"
   },
   {
    "duration": 12,
    "start_time": "2022-07-17T16:00:54.039Z"
   },
   {
    "duration": 17,
    "start_time": "2022-07-17T16:00:54.052Z"
   },
   {
    "duration": 16,
    "start_time": "2022-07-17T16:00:54.070Z"
   },
   {
    "duration": 15,
    "start_time": "2022-07-17T16:00:54.088Z"
   },
   {
    "duration": 202,
    "start_time": "2022-07-17T16:00:54.105Z"
   },
   {
    "duration": 8,
    "start_time": "2022-07-17T16:00:54.308Z"
   },
   {
    "duration": 20,
    "start_time": "2022-07-17T16:00:54.318Z"
   },
   {
    "duration": 10,
    "start_time": "2022-07-17T16:00:54.340Z"
   },
   {
    "duration": 289,
    "start_time": "2022-07-17T16:00:54.351Z"
   },
   {
    "duration": 166,
    "start_time": "2022-07-17T16:00:54.642Z"
   },
   {
    "duration": 387,
    "start_time": "2022-07-17T16:00:54.809Z"
   },
   {
    "duration": 517,
    "start_time": "2022-07-17T16:00:55.198Z"
   },
   {
    "duration": 3,
    "start_time": "2022-07-17T16:00:55.717Z"
   },
   {
    "duration": 15,
    "start_time": "2022-07-17T16:00:55.723Z"
   },
   {
    "duration": 30,
    "start_time": "2022-07-17T16:00:55.739Z"
   },
   {
    "duration": 28,
    "start_time": "2022-07-17T16:00:55.771Z"
   },
   {
    "duration": 23,
    "start_time": "2022-07-17T16:00:55.800Z"
   },
   {
    "duration": 3,
    "start_time": "2022-07-17T16:00:55.825Z"
   },
   {
    "duration": 261,
    "start_time": "2022-07-17T16:00:55.829Z"
   },
   {
    "duration": 211,
    "start_time": "2022-07-17T16:00:56.092Z"
   },
   {
    "duration": 22,
    "start_time": "2022-07-17T16:00:56.304Z"
   },
   {
    "duration": 23,
    "start_time": "2022-07-17T16:00:56.329Z"
   },
   {
    "duration": 28,
    "start_time": "2022-07-17T16:00:56.354Z"
   },
   {
    "duration": 16,
    "start_time": "2022-07-17T16:00:56.384Z"
   },
   {
    "duration": 42,
    "start_time": "2022-07-17T16:00:56.402Z"
   },
   {
    "duration": 34,
    "start_time": "2022-07-17T16:00:56.446Z"
   },
   {
    "duration": 17,
    "start_time": "2022-07-17T16:00:56.484Z"
   },
   {
    "duration": 11,
    "start_time": "2022-07-17T16:00:56.503Z"
   },
   {
    "duration": 14,
    "start_time": "2022-07-17T16:00:56.516Z"
   },
   {
    "duration": 163,
    "start_time": "2022-07-17T16:00:56.532Z"
   },
   {
    "duration": 0,
    "start_time": "2022-07-17T16:00:56.702Z"
   },
   {
    "duration": 15,
    "start_time": "2022-07-17T16:01:26.580Z"
   },
   {
    "duration": 37,
    "start_time": "2022-07-17T16:01:38.584Z"
   },
   {
    "duration": 22,
    "start_time": "2022-07-17T16:02:34.310Z"
   },
   {
    "duration": 26,
    "start_time": "2022-07-17T16:02:37.462Z"
   },
   {
    "duration": 8,
    "start_time": "2022-07-17T16:03:23.457Z"
   },
   {
    "duration": 32,
    "start_time": "2022-07-17T16:03:27.100Z"
   },
   {
    "duration": 47,
    "start_time": "2022-07-17T16:04:57.360Z"
   },
   {
    "duration": 36,
    "start_time": "2022-07-17T16:07:24.072Z"
   },
   {
    "duration": 30,
    "start_time": "2022-07-17T16:08:15.693Z"
   },
   {
    "duration": 1042,
    "start_time": "2022-07-17T16:09:16.003Z"
   },
   {
    "duration": 53,
    "start_time": "2022-07-17T16:10:23.580Z"
   },
   {
    "duration": 951,
    "start_time": "2022-07-17T16:10:28.285Z"
   },
   {
    "duration": 1050,
    "start_time": "2022-07-17T16:10:41.788Z"
   },
   {
    "duration": 24,
    "start_time": "2022-07-17T16:13:17.457Z"
   },
   {
    "duration": 6,
    "start_time": "2022-07-17T16:13:29.002Z"
   },
   {
    "duration": 16,
    "start_time": "2022-07-17T16:13:46.595Z"
   },
   {
    "duration": 23,
    "start_time": "2022-07-17T16:14:40.753Z"
   },
   {
    "duration": 20,
    "start_time": "2022-07-17T16:16:17.286Z"
   },
   {
    "duration": 29,
    "start_time": "2022-07-17T16:17:06.194Z"
   },
   {
    "duration": 11,
    "start_time": "2022-07-17T16:17:13.205Z"
   },
   {
    "duration": 10,
    "start_time": "2022-07-17T16:17:22.911Z"
   },
   {
    "duration": 16,
    "start_time": "2022-07-17T16:20:19.383Z"
   },
   {
    "duration": 17,
    "start_time": "2022-07-17T16:21:08.913Z"
   },
   {
    "duration": 7,
    "start_time": "2022-07-17T16:21:10.724Z"
   },
   {
    "duration": 3,
    "start_time": "2022-07-17T16:21:13.532Z"
   },
   {
    "duration": 51,
    "start_time": "2022-07-17T16:21:25.598Z"
   },
   {
    "duration": 13,
    "start_time": "2022-07-17T16:21:46.477Z"
   },
   {
    "duration": 7,
    "start_time": "2022-07-17T16:21:54.453Z"
   },
   {
    "duration": 3,
    "start_time": "2022-07-17T16:21:57.223Z"
   },
   {
    "duration": 17,
    "start_time": "2022-07-17T16:21:58.699Z"
   },
   {
    "duration": 256,
    "start_time": "2022-07-17T16:33:46.502Z"
   },
   {
    "duration": 1226,
    "start_time": "2022-07-17T16:36:33.020Z"
   },
   {
    "duration": 80,
    "start_time": "2022-07-17T16:36:34.247Z"
   },
   {
    "duration": 11,
    "start_time": "2022-07-17T16:36:34.329Z"
   },
   {
    "duration": 15,
    "start_time": "2022-07-17T16:36:34.341Z"
   },
   {
    "duration": 16,
    "start_time": "2022-07-17T16:36:34.357Z"
   },
   {
    "duration": 46,
    "start_time": "2022-07-17T16:36:34.374Z"
   },
   {
    "duration": 4,
    "start_time": "2022-07-17T16:36:34.421Z"
   },
   {
    "duration": 31,
    "start_time": "2022-07-17T16:36:34.426Z"
   },
   {
    "duration": 133,
    "start_time": "2022-07-17T16:36:34.459Z"
   },
   {
    "duration": 10,
    "start_time": "2022-07-17T16:36:34.600Z"
   },
   {
    "duration": 13,
    "start_time": "2022-07-17T16:36:34.612Z"
   },
   {
    "duration": 288,
    "start_time": "2022-07-17T16:36:34.626Z"
   },
   {
    "duration": 10,
    "start_time": "2022-07-17T16:36:34.916Z"
   },
   {
    "duration": 162,
    "start_time": "2022-07-17T16:36:34.927Z"
   },
   {
    "duration": 14,
    "start_time": "2022-07-17T16:36:35.096Z"
   },
   {
    "duration": 6,
    "start_time": "2022-07-17T16:36:35.112Z"
   },
   {
    "duration": 8,
    "start_time": "2022-07-17T16:36:35.120Z"
   },
   {
    "duration": 10,
    "start_time": "2022-07-17T16:36:35.129Z"
   },
   {
    "duration": 211,
    "start_time": "2022-07-17T16:36:35.168Z"
   },
   {
    "duration": 19,
    "start_time": "2022-07-17T16:36:35.380Z"
   },
   {
    "duration": 16,
    "start_time": "2022-07-17T16:36:35.401Z"
   },
   {
    "duration": 12,
    "start_time": "2022-07-17T16:36:35.419Z"
   },
   {
    "duration": 298,
    "start_time": "2022-07-17T16:36:35.432Z"
   },
   {
    "duration": 168,
    "start_time": "2022-07-17T16:36:35.732Z"
   },
   {
    "duration": 418,
    "start_time": "2022-07-17T16:36:35.902Z"
   },
   {
    "duration": 612,
    "start_time": "2022-07-17T16:36:36.322Z"
   },
   {
    "duration": 3,
    "start_time": "2022-07-17T16:36:36.936Z"
   },
   {
    "duration": 19,
    "start_time": "2022-07-17T16:36:36.942Z"
   },
   {
    "duration": 47,
    "start_time": "2022-07-17T16:36:36.962Z"
   },
   {
    "duration": 14,
    "start_time": "2022-07-17T16:36:37.011Z"
   },
   {
    "duration": 19,
    "start_time": "2022-07-17T16:36:37.026Z"
   },
   {
    "duration": 4,
    "start_time": "2022-07-17T16:36:37.046Z"
   },
   {
    "duration": 271,
    "start_time": "2022-07-17T16:36:37.051Z"
   },
   {
    "duration": 195,
    "start_time": "2022-07-17T16:36:37.324Z"
   },
   {
    "duration": 11,
    "start_time": "2022-07-17T16:36:37.520Z"
   },
   {
    "duration": 9,
    "start_time": "2022-07-17T16:36:37.532Z"
   },
   {
    "duration": 15,
    "start_time": "2022-07-17T16:36:37.542Z"
   },
   {
    "duration": 30,
    "start_time": "2022-07-17T16:36:37.559Z"
   },
   {
    "duration": 20,
    "start_time": "2022-07-17T16:36:37.590Z"
   },
   {
    "duration": 5,
    "start_time": "2022-07-17T16:36:37.611Z"
   },
   {
    "duration": 18,
    "start_time": "2022-07-17T16:36:37.617Z"
   },
   {
    "duration": 116,
    "start_time": "2022-07-17T16:36:37.637Z"
   },
   {
    "duration": 12,
    "start_time": "2022-07-17T16:36:55.593Z"
   },
   {
    "duration": 9,
    "start_time": "2022-07-17T16:37:15.188Z"
   },
   {
    "duration": 1287,
    "start_time": "2022-07-17T16:37:23.445Z"
   },
   {
    "duration": 90,
    "start_time": "2022-07-17T16:37:24.733Z"
   },
   {
    "duration": 13,
    "start_time": "2022-07-17T16:37:24.824Z"
   },
   {
    "duration": 22,
    "start_time": "2022-07-17T16:37:24.838Z"
   },
   {
    "duration": 47,
    "start_time": "2022-07-17T16:37:24.865Z"
   },
   {
    "duration": 21,
    "start_time": "2022-07-17T16:37:24.913Z"
   },
   {
    "duration": 3,
    "start_time": "2022-07-17T16:37:24.936Z"
   },
   {
    "duration": 78,
    "start_time": "2022-07-17T16:37:24.941Z"
   },
   {
    "duration": 122,
    "start_time": "2022-07-17T16:37:25.020Z"
   },
   {
    "duration": 9,
    "start_time": "2022-07-17T16:37:25.144Z"
   },
   {
    "duration": 36,
    "start_time": "2022-07-17T16:37:25.155Z"
   },
   {
    "duration": 297,
    "start_time": "2022-07-17T16:37:25.193Z"
   },
   {
    "duration": 16,
    "start_time": "2022-07-17T16:37:25.492Z"
   },
   {
    "duration": 173,
    "start_time": "2022-07-17T16:37:25.509Z"
   },
   {
    "duration": 22,
    "start_time": "2022-07-17T16:37:25.683Z"
   },
   {
    "duration": 7,
    "start_time": "2022-07-17T16:37:25.706Z"
   },
   {
    "duration": 9,
    "start_time": "2022-07-17T16:37:25.715Z"
   },
   {
    "duration": 11,
    "start_time": "2022-07-17T16:37:25.725Z"
   },
   {
    "duration": 239,
    "start_time": "2022-07-17T16:37:25.737Z"
   },
   {
    "duration": 13,
    "start_time": "2022-07-17T16:37:25.977Z"
   },
   {
    "duration": 24,
    "start_time": "2022-07-17T16:37:25.991Z"
   },
   {
    "duration": 13,
    "start_time": "2022-07-17T16:37:26.016Z"
   },
   {
    "duration": 361,
    "start_time": "2022-07-17T16:37:26.030Z"
   },
   {
    "duration": 202,
    "start_time": "2022-07-17T16:37:26.394Z"
   },
   {
    "duration": 427,
    "start_time": "2022-07-17T16:37:26.599Z"
   },
   {
    "duration": 526,
    "start_time": "2022-07-17T16:37:27.028Z"
   },
   {
    "duration": 7,
    "start_time": "2022-07-17T16:37:27.560Z"
   },
   {
    "duration": 39,
    "start_time": "2022-07-17T16:37:27.571Z"
   },
   {
    "duration": 14,
    "start_time": "2022-07-17T16:37:27.611Z"
   },
   {
    "duration": 9,
    "start_time": "2022-07-17T16:37:27.627Z"
   },
   {
    "duration": 18,
    "start_time": "2022-07-17T16:37:27.638Z"
   },
   {
    "duration": 5,
    "start_time": "2022-07-17T16:37:27.657Z"
   },
   {
    "duration": 289,
    "start_time": "2022-07-17T16:37:27.668Z"
   },
   {
    "duration": 199,
    "start_time": "2022-07-17T16:37:27.959Z"
   },
   {
    "duration": 20,
    "start_time": "2022-07-17T16:37:28.165Z"
   },
   {
    "duration": 25,
    "start_time": "2022-07-17T16:37:28.189Z"
   },
   {
    "duration": 15,
    "start_time": "2022-07-17T16:37:28.216Z"
   },
   {
    "duration": 14,
    "start_time": "2022-07-17T16:37:28.233Z"
   },
   {
    "duration": 6,
    "start_time": "2022-07-17T16:37:28.248Z"
   },
   {
    "duration": 36,
    "start_time": "2022-07-17T16:37:28.256Z"
   },
   {
    "duration": 23,
    "start_time": "2022-07-17T16:37:28.293Z"
   },
   {
    "duration": 9,
    "start_time": "2022-07-17T16:37:28.317Z"
   },
   {
    "duration": 23,
    "start_time": "2022-07-17T16:38:11.257Z"
   },
   {
    "duration": 12,
    "start_time": "2022-07-17T16:38:25.321Z"
   },
   {
    "duration": 9,
    "start_time": "2022-07-17T16:39:00.241Z"
   },
   {
    "duration": 10,
    "start_time": "2022-07-17T16:39:06.585Z"
   },
   {
    "duration": 6,
    "start_time": "2022-07-17T16:39:08.389Z"
   },
   {
    "duration": 18,
    "start_time": "2022-07-17T16:39:10.201Z"
   },
   {
    "duration": 12,
    "start_time": "2022-07-17T16:39:17.992Z"
   },
   {
    "duration": 8,
    "start_time": "2022-07-17T16:45:16.986Z"
   },
   {
    "duration": 9,
    "start_time": "2022-07-17T16:45:48.105Z"
   },
   {
    "duration": 8,
    "start_time": "2022-07-17T16:45:55.400Z"
   },
   {
    "duration": 196,
    "start_time": "2022-07-17T16:53:51.021Z"
   },
   {
    "duration": 245,
    "start_time": "2022-07-17T16:54:17.481Z"
   },
   {
    "duration": 7,
    "start_time": "2022-07-17T16:54:37.757Z"
   },
   {
    "duration": 10,
    "start_time": "2022-07-17T16:54:39.941Z"
   },
   {
    "duration": 254,
    "start_time": "2022-07-17T16:54:46.303Z"
   },
   {
    "duration": 233,
    "start_time": "2022-07-17T16:55:09.937Z"
   },
   {
    "duration": 10,
    "start_time": "2022-07-17T16:56:41.888Z"
   },
   {
    "duration": 10,
    "start_time": "2022-07-17T16:56:43.804Z"
   },
   {
    "duration": 16,
    "start_time": "2022-07-17T16:56:46.153Z"
   },
   {
    "duration": 323,
    "start_time": "2022-07-17T16:57:00.879Z"
   },
   {
    "duration": 1369,
    "start_time": "2022-07-17T18:02:27.792Z"
   },
   {
    "duration": 244,
    "start_time": "2022-07-17T18:02:29.163Z"
   },
   {
    "duration": 13,
    "start_time": "2022-07-17T18:02:29.408Z"
   },
   {
    "duration": 23,
    "start_time": "2022-07-17T18:02:29.423Z"
   },
   {
    "duration": 8,
    "start_time": "2022-07-17T18:02:29.447Z"
   },
   {
    "duration": 20,
    "start_time": "2022-07-17T18:02:29.456Z"
   },
   {
    "duration": 3,
    "start_time": "2022-07-17T18:02:29.478Z"
   },
   {
    "duration": 36,
    "start_time": "2022-07-17T18:02:29.483Z"
   },
   {
    "duration": 118,
    "start_time": "2022-07-17T18:02:29.521Z"
   },
   {
    "duration": 9,
    "start_time": "2022-07-17T18:02:29.642Z"
   },
   {
    "duration": 54,
    "start_time": "2022-07-17T18:02:29.652Z"
   },
   {
    "duration": 301,
    "start_time": "2022-07-17T18:02:29.708Z"
   },
   {
    "duration": 10,
    "start_time": "2022-07-17T18:02:30.011Z"
   },
   {
    "duration": 154,
    "start_time": "2022-07-17T18:02:30.023Z"
   },
   {
    "duration": 22,
    "start_time": "2022-07-17T18:02:30.179Z"
   },
   {
    "duration": 7,
    "start_time": "2022-07-17T18:02:30.202Z"
   },
   {
    "duration": 10,
    "start_time": "2022-07-17T18:02:30.210Z"
   },
   {
    "duration": 11,
    "start_time": "2022-07-17T18:02:30.221Z"
   },
   {
    "duration": 15,
    "start_time": "2022-07-17T18:02:30.234Z"
   },
   {
    "duration": 222,
    "start_time": "2022-07-17T18:02:30.251Z"
   },
   {
    "duration": 7,
    "start_time": "2022-07-17T18:02:30.475Z"
   },
   {
    "duration": 32,
    "start_time": "2022-07-17T18:02:30.483Z"
   },
   {
    "duration": 55,
    "start_time": "2022-07-17T18:02:30.516Z"
   },
   {
    "duration": 320,
    "start_time": "2022-07-17T18:02:30.573Z"
   },
   {
    "duration": 146,
    "start_time": "2022-07-17T18:02:30.895Z"
   },
   {
    "duration": 361,
    "start_time": "2022-07-17T18:02:31.043Z"
   },
   {
    "duration": 446,
    "start_time": "2022-07-17T18:02:31.406Z"
   },
   {
    "duration": 3,
    "start_time": "2022-07-17T18:02:31.855Z"
   },
   {
    "duration": 41,
    "start_time": "2022-07-17T18:02:31.860Z"
   },
   {
    "duration": 66,
    "start_time": "2022-07-17T18:02:31.903Z"
   },
   {
    "duration": 18,
    "start_time": "2022-07-17T18:02:31.971Z"
   },
   {
    "duration": 34,
    "start_time": "2022-07-17T18:02:31.991Z"
   },
   {
    "duration": 53,
    "start_time": "2022-07-17T18:02:32.026Z"
   },
   {
    "duration": 236,
    "start_time": "2022-07-17T18:02:32.081Z"
   },
   {
    "duration": 178,
    "start_time": "2022-07-17T18:02:32.319Z"
   },
   {
    "duration": 12,
    "start_time": "2022-07-17T18:02:32.498Z"
   },
   {
    "duration": 10,
    "start_time": "2022-07-17T18:02:32.511Z"
   },
   {
    "duration": 20,
    "start_time": "2022-07-17T18:02:32.522Z"
   },
   {
    "duration": 16,
    "start_time": "2022-07-17T18:02:32.543Z"
   },
   {
    "duration": 6,
    "start_time": "2022-07-17T18:02:32.560Z"
   },
   {
    "duration": 7,
    "start_time": "2022-07-17T18:02:32.568Z"
   },
   {
    "duration": 39,
    "start_time": "2022-07-17T18:02:32.577Z"
   },
   {
    "duration": 10,
    "start_time": "2022-07-17T18:02:32.617Z"
   },
   {
    "duration": 17,
    "start_time": "2022-07-17T18:24:43.852Z"
   },
   {
    "duration": 18,
    "start_time": "2022-07-17T18:25:00.868Z"
   },
   {
    "duration": 14,
    "start_time": "2022-07-17T18:26:16.642Z"
   },
   {
    "duration": 21,
    "start_time": "2022-07-17T18:27:10.227Z"
   },
   {
    "duration": 1169,
    "start_time": "2022-07-18T09:03:52.659Z"
   },
   {
    "duration": 112,
    "start_time": "2022-07-18T09:03:55.543Z"
   },
   {
    "duration": 11,
    "start_time": "2022-07-18T09:03:57.180Z"
   },
   {
    "duration": 12,
    "start_time": "2022-07-18T09:03:58.086Z"
   },
   {
    "duration": 9,
    "start_time": "2022-07-18T09:03:58.962Z"
   },
   {
    "duration": 3,
    "start_time": "2022-07-18T09:04:06.199Z"
   },
   {
    "duration": 25,
    "start_time": "2022-07-18T09:04:07.109Z"
   },
   {
    "duration": 89,
    "start_time": "2022-07-18T09:04:08.932Z"
   },
   {
    "duration": 9,
    "start_time": "2022-07-18T09:04:10.718Z"
   },
   {
    "duration": 19,
    "start_time": "2022-07-18T09:04:12.569Z"
   },
   {
    "duration": 13,
    "start_time": "2022-07-18T09:05:58.089Z"
   },
   {
    "duration": 16,
    "start_time": "2022-07-18T09:06:02.176Z"
   },
   {
    "duration": 10,
    "start_time": "2022-07-18T09:06:10.214Z"
   },
   {
    "duration": 9,
    "start_time": "2022-07-18T09:06:57.654Z"
   },
   {
    "duration": 13,
    "start_time": "2022-07-18T09:07:09.619Z"
   },
   {
    "duration": 8,
    "start_time": "2022-07-18T09:07:44.092Z"
   },
   {
    "duration": 16,
    "start_time": "2022-07-18T09:08:38.963Z"
   },
   {
    "duration": 17,
    "start_time": "2022-07-18T09:08:41.129Z"
   },
   {
    "duration": 9,
    "start_time": "2022-07-18T09:08:43.099Z"
   },
   {
    "duration": 12,
    "start_time": "2022-07-18T09:08:46.293Z"
   },
   {
    "duration": 269,
    "start_time": "2022-07-18T09:13:33.489Z"
   },
   {
    "duration": 211,
    "start_time": "2022-07-18T09:14:55.843Z"
   },
   {
    "duration": 206,
    "start_time": "2022-07-18T09:17:01.468Z"
   },
   {
    "duration": 211,
    "start_time": "2022-07-18T09:24:30.544Z"
   },
   {
    "duration": 10,
    "start_time": "2022-07-18T09:26:14.529Z"
   },
   {
    "duration": 144,
    "start_time": "2022-07-18T09:26:17.843Z"
   },
   {
    "duration": 11,
    "start_time": "2022-07-18T09:26:26.337Z"
   },
   {
    "duration": 10,
    "start_time": "2022-07-18T09:26:35.296Z"
   },
   {
    "duration": 8,
    "start_time": "2022-07-18T09:26:38.483Z"
   },
   {
    "duration": 17,
    "start_time": "2022-07-18T09:26:41.406Z"
   },
   {
    "duration": 6,
    "start_time": "2022-07-18T09:26:43.888Z"
   },
   {
    "duration": 16,
    "start_time": "2022-07-18T09:44:37.574Z"
   },
   {
    "duration": 103,
    "start_time": "2022-07-18T09:57:40.232Z"
   },
   {
    "duration": 12,
    "start_time": "2022-07-18T09:57:44.417Z"
   },
   {
    "duration": 9,
    "start_time": "2022-07-18T09:58:13.478Z"
   },
   {
    "duration": 10,
    "start_time": "2022-07-18T09:58:24.087Z"
   },
   {
    "duration": 9,
    "start_time": "2022-07-18T09:58:38.876Z"
   },
   {
    "duration": 9,
    "start_time": "2022-07-18T09:58:47.873Z"
   },
   {
    "duration": 152,
    "start_time": "2022-07-18T09:59:59.439Z"
   },
   {
    "duration": 0,
    "start_time": "2022-07-18T10:00:37.804Z"
   },
   {
    "duration": 23527,
    "start_time": "2022-07-18T10:01:28.907Z"
   },
   {
    "duration": 4,
    "start_time": "2022-07-18T10:05:43.102Z"
   },
   {
    "duration": 9000,
    "start_time": "2022-07-18T10:05:44.792Z"
   },
   {
    "duration": 18,
    "start_time": "2022-07-18T10:08:22.870Z"
   },
   {
    "duration": 14,
    "start_time": "2022-07-18T10:08:45.409Z"
   },
   {
    "duration": 27,
    "start_time": "2022-07-18T10:10:05.103Z"
   },
   {
    "duration": 139,
    "start_time": "2022-07-18T10:10:24.806Z"
   },
   {
    "duration": 13,
    "start_time": "2022-07-18T10:10:42.684Z"
   },
   {
    "duration": 17,
    "start_time": "2022-07-18T10:17:53.975Z"
   },
   {
    "duration": 19,
    "start_time": "2022-07-18T10:18:36.958Z"
   },
   {
    "duration": 4,
    "start_time": "2022-07-18T10:18:51.576Z"
   },
   {
    "duration": 168,
    "start_time": "2022-07-18T10:18:53.220Z"
   },
   {
    "duration": 206,
    "start_time": "2022-07-18T10:19:10.070Z"
   },
   {
    "duration": 196,
    "start_time": "2022-07-18T10:19:16.157Z"
   },
   {
    "duration": 229,
    "start_time": "2022-07-18T10:19:40.023Z"
   },
   {
    "duration": 188,
    "start_time": "2022-07-18T10:28:09.283Z"
   },
   {
    "duration": 203,
    "start_time": "2022-07-18T10:28:15.290Z"
   },
   {
    "duration": 8,
    "start_time": "2022-07-18T10:38:09.870Z"
   },
   {
    "duration": 306,
    "start_time": "2022-07-18T10:43:56.133Z"
   },
   {
    "duration": 273,
    "start_time": "2022-07-18T10:48:05.367Z"
   },
   {
    "duration": 434,
    "start_time": "2022-07-18T10:48:08.030Z"
   },
   {
    "duration": 388,
    "start_time": "2022-07-18T10:49:48.755Z"
   },
   {
    "duration": 280,
    "start_time": "2022-07-18T10:54:42.069Z"
   },
   {
    "duration": 438,
    "start_time": "2022-07-18T10:55:04.502Z"
   },
   {
    "duration": 449,
    "start_time": "2022-07-18T10:55:14.773Z"
   },
   {
    "duration": 439,
    "start_time": "2022-07-18T10:55:25.487Z"
   },
   {
    "duration": 277,
    "start_time": "2022-07-18T10:55:56.244Z"
   },
   {
    "duration": 7,
    "start_time": "2022-07-18T10:58:00.800Z"
   },
   {
    "duration": 11,
    "start_time": "2022-07-18T10:58:02.313Z"
   },
   {
    "duration": 11,
    "start_time": "2022-07-18T10:58:03.685Z"
   },
   {
    "duration": 9,
    "start_time": "2022-07-18T10:58:06.658Z"
   },
   {
    "duration": 14,
    "start_time": "2022-07-18T10:58:26.623Z"
   },
   {
    "duration": 19,
    "start_time": "2022-07-18T10:58:36.771Z"
   },
   {
    "duration": 83,
    "start_time": "2022-07-18T10:59:24.880Z"
   },
   {
    "duration": 20,
    "start_time": "2022-07-18T10:59:30.421Z"
   },
   {
    "duration": 15,
    "start_time": "2022-07-18T10:59:38.174Z"
   },
   {
    "duration": 5,
    "start_time": "2022-07-18T10:59:45.226Z"
   },
   {
    "duration": 240,
    "start_time": "2022-07-18T11:00:23.398Z"
   },
   {
    "duration": 293,
    "start_time": "2022-07-18T11:00:34.970Z"
   },
   {
    "duration": 12,
    "start_time": "2022-07-18T11:00:36.913Z"
   },
   {
    "duration": 8,
    "start_time": "2022-07-18T11:00:39.136Z"
   },
   {
    "duration": 15,
    "start_time": "2022-07-18T11:00:41.518Z"
   },
   {
    "duration": 1481,
    "start_time": "2022-07-18T18:06:08.004Z"
   },
   {
    "duration": 118,
    "start_time": "2022-07-18T18:06:17.855Z"
   },
   {
    "duration": 14,
    "start_time": "2022-07-18T18:06:18.523Z"
   },
   {
    "duration": 20,
    "start_time": "2022-07-18T18:06:18.904Z"
   },
   {
    "duration": 8,
    "start_time": "2022-07-18T18:06:19.282Z"
   },
   {
    "duration": 4,
    "start_time": "2022-07-18T18:06:24.128Z"
   },
   {
    "duration": 32,
    "start_time": "2022-07-18T18:06:25.065Z"
   },
   {
    "duration": 112,
    "start_time": "2022-07-18T18:06:25.656Z"
   },
   {
    "duration": 13,
    "start_time": "2022-07-18T18:06:26.630Z"
   },
   {
    "duration": 24,
    "start_time": "2022-07-18T18:06:29.730Z"
   },
   {
    "duration": 20,
    "start_time": "2022-07-18T18:06:30.365Z"
   },
   {
    "duration": 11,
    "start_time": "2022-07-18T18:06:30.950Z"
   },
   {
    "duration": 14,
    "start_time": "2022-07-18T18:06:31.287Z"
   },
   {
    "duration": 259,
    "start_time": "2022-07-18T18:06:34.127Z"
   },
   {
    "duration": 14,
    "start_time": "2022-07-18T18:06:37.924Z"
   },
   {
    "duration": 174,
    "start_time": "2022-07-18T18:06:38.345Z"
   },
   {
    "duration": 14,
    "start_time": "2022-07-18T18:06:39.941Z"
   },
   {
    "duration": 8,
    "start_time": "2022-07-18T18:06:40.706Z"
   },
   {
    "duration": 10,
    "start_time": "2022-07-18T18:06:41.170Z"
   },
   {
    "duration": 14,
    "start_time": "2022-07-18T18:06:41.956Z"
   },
   {
    "duration": 7,
    "start_time": "2022-07-18T18:06:42.322Z"
   },
   {
    "duration": 16,
    "start_time": "2022-07-18T18:06:44.693Z"
   },
   {
    "duration": 3,
    "start_time": "2022-07-18T18:06:45.187Z"
   },
   {
    "duration": 241,
    "start_time": "2022-07-18T18:06:46.331Z"
   },
   {
    "duration": 8,
    "start_time": "2022-07-18T18:06:51.993Z"
   },
   {
    "duration": 382,
    "start_time": "2022-07-18T18:06:56.569Z"
   },
   {
    "duration": 147,
    "start_time": "2022-07-18T18:06:57.419Z"
   },
   {
    "duration": 394,
    "start_time": "2022-07-18T18:07:04.104Z"
   },
   {
    "duration": 507,
    "start_time": "2022-07-18T18:07:04.968Z"
   },
   {
    "duration": 3,
    "start_time": "2022-07-18T18:07:09.432Z"
   },
   {
    "duration": 12,
    "start_time": "2022-07-18T18:07:10.832Z"
   },
   {
    "duration": 13,
    "start_time": "2022-07-18T18:07:11.456Z"
   },
   {
    "duration": 9,
    "start_time": "2022-07-18T18:07:13.250Z"
   },
   {
    "duration": 23,
    "start_time": "2022-07-18T18:07:16.755Z"
   },
   {
    "duration": 4,
    "start_time": "2022-07-18T18:07:19.265Z"
   },
   {
    "duration": 273,
    "start_time": "2022-07-18T18:07:20.217Z"
   },
   {
    "duration": 285,
    "start_time": "2022-07-18T18:07:22.879Z"
   },
   {
    "duration": 14,
    "start_time": "2022-07-18T18:07:24.470Z"
   },
   {
    "duration": 9,
    "start_time": "2022-07-18T18:07:26.473Z"
   },
   {
    "duration": 18,
    "start_time": "2022-07-18T18:07:28.794Z"
   },
   {
    "duration": 19,
    "start_time": "2022-07-18T18:07:33.108Z"
   },
   {
    "duration": 7,
    "start_time": "2022-07-18T18:07:35.143Z"
   },
   {
    "duration": 3,
    "start_time": "2022-07-18T18:07:38.398Z"
   },
   {
    "duration": 24,
    "start_time": "2022-07-18T18:07:42.505Z"
   },
   {
    "duration": 12,
    "start_time": "2022-07-18T18:36:00.414Z"
   },
   {
    "duration": 17,
    "start_time": "2022-07-18T18:36:06.916Z"
   },
   {
    "duration": 10,
    "start_time": "2022-07-18T18:36:14.074Z"
   },
   {
    "duration": 25,
    "start_time": "2022-07-18T18:36:40.898Z"
   },
   {
    "duration": 18,
    "start_time": "2022-07-18T18:37:13.763Z"
   },
   {
    "duration": 18,
    "start_time": "2022-07-18T18:37:42.280Z"
   },
   {
    "duration": 18,
    "start_time": "2022-07-18T18:37:53.478Z"
   },
   {
    "duration": 10,
    "start_time": "2022-07-18T18:38:15.285Z"
   },
   {
    "duration": 9,
    "start_time": "2022-07-18T18:38:23.268Z"
   },
   {
    "duration": 217,
    "start_time": "2022-07-18T18:47:34.281Z"
   },
   {
    "duration": 114,
    "start_time": "2022-07-18T18:47:39.831Z"
   },
   {
    "duration": 230,
    "start_time": "2022-07-18T18:47:46.231Z"
   },
   {
    "duration": 232,
    "start_time": "2022-07-18T18:48:03.564Z"
   },
   {
    "duration": 212,
    "start_time": "2022-07-18T18:48:09.453Z"
   },
   {
    "duration": 219,
    "start_time": "2022-07-18T18:48:17.899Z"
   },
   {
    "duration": 10,
    "start_time": "2022-07-18T18:48:24.258Z"
   },
   {
    "duration": 1300,
    "start_time": "2022-07-19T10:54:54.902Z"
   },
   {
    "duration": 76,
    "start_time": "2022-07-19T10:54:56.204Z"
   },
   {
    "duration": 13,
    "start_time": "2022-07-19T10:54:56.281Z"
   },
   {
    "duration": 14,
    "start_time": "2022-07-19T10:54:56.296Z"
   },
   {
    "duration": 22,
    "start_time": "2022-07-19T10:54:56.311Z"
   },
   {
    "duration": 10,
    "start_time": "2022-07-19T10:54:56.335Z"
   },
   {
    "duration": 34,
    "start_time": "2022-07-19T10:54:56.346Z"
   },
   {
    "duration": 118,
    "start_time": "2022-07-19T10:54:56.382Z"
   },
   {
    "duration": 10,
    "start_time": "2022-07-19T10:54:56.502Z"
   },
   {
    "duration": 26,
    "start_time": "2022-07-19T10:54:56.524Z"
   },
   {
    "duration": 20,
    "start_time": "2022-07-19T10:54:56.552Z"
   },
   {
    "duration": 10,
    "start_time": "2022-07-19T10:54:56.574Z"
   },
   {
    "duration": 45,
    "start_time": "2022-07-19T10:54:56.586Z"
   },
   {
    "duration": 241,
    "start_time": "2022-07-19T10:54:56.633Z"
   },
   {
    "duration": 11,
    "start_time": "2022-07-19T10:54:56.876Z"
   },
   {
    "duration": 197,
    "start_time": "2022-07-19T10:54:56.888Z"
   },
   {
    "duration": 13,
    "start_time": "2022-07-19T10:54:57.086Z"
   },
   {
    "duration": 24,
    "start_time": "2022-07-19T10:54:57.100Z"
   },
   {
    "duration": 11,
    "start_time": "2022-07-19T10:54:57.126Z"
   },
   {
    "duration": 29,
    "start_time": "2022-07-19T10:54:57.139Z"
   },
   {
    "duration": 14,
    "start_time": "2022-07-19T10:54:57.169Z"
   },
   {
    "duration": 16,
    "start_time": "2022-07-19T10:54:57.184Z"
   },
   {
    "duration": 3,
    "start_time": "2022-07-19T10:54:57.202Z"
   },
   {
    "duration": 216,
    "start_time": "2022-07-19T10:54:57.206Z"
   },
   {
    "duration": 9,
    "start_time": "2022-07-19T10:54:57.424Z"
   },
   {
    "duration": 350,
    "start_time": "2022-07-19T10:54:57.435Z"
   },
   {
    "duration": 156,
    "start_time": "2022-07-19T10:54:57.786Z"
   },
   {
    "duration": 398,
    "start_time": "2022-07-19T10:54:57.946Z"
   },
   {
    "duration": 504,
    "start_time": "2022-07-19T10:54:58.346Z"
   },
   {
    "duration": 3,
    "start_time": "2022-07-19T10:54:58.852Z"
   },
   {
    "duration": 14,
    "start_time": "2022-07-19T10:54:58.857Z"
   },
   {
    "duration": 18,
    "start_time": "2022-07-19T10:54:58.873Z"
   },
   {
    "duration": 10,
    "start_time": "2022-07-19T10:54:58.893Z"
   },
   {
    "duration": 36,
    "start_time": "2022-07-19T10:54:58.904Z"
   },
   {
    "duration": 5,
    "start_time": "2022-07-19T10:54:58.941Z"
   },
   {
    "duration": 279,
    "start_time": "2022-07-19T10:54:58.947Z"
   },
   {
    "duration": 215,
    "start_time": "2022-07-19T10:54:59.228Z"
   },
   {
    "duration": 12,
    "start_time": "2022-07-19T10:54:59.445Z"
   },
   {
    "duration": 16,
    "start_time": "2022-07-19T10:54:59.459Z"
   },
   {
    "duration": 21,
    "start_time": "2022-07-19T10:54:59.477Z"
   },
   {
    "duration": 26,
    "start_time": "2022-07-19T10:54:59.500Z"
   },
   {
    "duration": 10,
    "start_time": "2022-07-19T10:54:59.529Z"
   },
   {
    "duration": 10,
    "start_time": "2022-07-19T10:54:59.540Z"
   },
   {
    "duration": 25,
    "start_time": "2022-07-19T10:54:59.552Z"
   },
   {
    "duration": 10,
    "start_time": "2022-07-19T10:54:59.579Z"
   },
   {
    "duration": 38,
    "start_time": "2022-07-19T10:54:59.591Z"
   },
   {
    "duration": 1368,
    "start_time": "2022-07-19T13:03:05.295Z"
   },
   {
    "duration": 109,
    "start_time": "2022-07-19T13:03:08.016Z"
   },
   {
    "duration": 13,
    "start_time": "2022-07-19T13:03:09.088Z"
   },
   {
    "duration": 14,
    "start_time": "2022-07-19T13:03:09.820Z"
   },
   {
    "duration": 7,
    "start_time": "2022-07-19T13:03:10.992Z"
   },
   {
    "duration": 4,
    "start_time": "2022-07-19T13:03:15.027Z"
   },
   {
    "duration": 28,
    "start_time": "2022-07-19T13:03:15.822Z"
   },
   {
    "duration": 102,
    "start_time": "2022-07-19T13:03:16.792Z"
   },
   {
    "duration": 10,
    "start_time": "2022-07-19T13:03:19.720Z"
   },
   {
    "duration": 105,
    "start_time": "2022-07-19T13:03:44.855Z"
   },
   {
    "duration": 25,
    "start_time": "2022-07-19T13:04:36.029Z"
   },
   {
    "duration": 18,
    "start_time": "2022-07-19T13:04:46.106Z"
   },
   {
    "duration": 4,
    "start_time": "2022-07-19T13:06:16.250Z"
   },
   {
    "duration": 16,
    "start_time": "2022-07-19T13:07:52.943Z"
   },
   {
    "duration": 20,
    "start_time": "2022-07-19T13:08:08.332Z"
   },
   {
    "duration": 10,
    "start_time": "2022-07-19T13:08:09.955Z"
   },
   {
    "duration": 18,
    "start_time": "2022-07-19T13:08:12.139Z"
   },
   {
    "duration": 242,
    "start_time": "2022-07-19T13:08:17.992Z"
   },
   {
    "duration": 11,
    "start_time": "2022-07-19T13:08:25.719Z"
   },
   {
    "duration": 138,
    "start_time": "2022-07-19T13:08:26.934Z"
   },
   {
    "duration": 11,
    "start_time": "2022-07-19T13:08:30.357Z"
   },
   {
    "duration": 7,
    "start_time": "2022-07-19T13:08:35.444Z"
   },
   {
    "duration": 9,
    "start_time": "2022-07-19T13:08:36.517Z"
   },
   {
    "duration": 12,
    "start_time": "2022-07-19T13:08:38.049Z"
   },
   {
    "duration": 7,
    "start_time": "2022-07-19T13:08:38.883Z"
   },
   {
    "duration": 14,
    "start_time": "2022-07-19T13:08:42.245Z"
   },
   {
    "duration": 2,
    "start_time": "2022-07-19T13:08:43.211Z"
   },
   {
    "duration": 200,
    "start_time": "2022-07-19T13:08:44.849Z"
   },
   {
    "duration": 8,
    "start_time": "2022-07-19T13:08:48.144Z"
   },
   {
    "duration": 309,
    "start_time": "2022-07-19T13:08:53.722Z"
   },
   {
    "duration": 131,
    "start_time": "2022-07-19T13:08:54.824Z"
   },
   {
    "duration": 343,
    "start_time": "2022-07-19T13:09:36.505Z"
   },
   {
    "duration": 296,
    "start_time": "2022-07-19T13:09:44.825Z"
   },
   {
    "duration": 75,
    "start_time": "2022-07-19T13:12:46.555Z"
   },
   {
    "duration": 217,
    "start_time": "2022-07-19T13:12:50.947Z"
   },
   {
    "duration": 1071,
    "start_time": "2022-07-19T13:16:08.690Z"
   },
   {
    "duration": 64,
    "start_time": "2022-07-19T13:16:10.718Z"
   },
   {
    "duration": 11,
    "start_time": "2022-07-19T13:16:11.065Z"
   },
   {
    "duration": 13,
    "start_time": "2022-07-19T13:16:11.250Z"
   },
   {
    "duration": 7,
    "start_time": "2022-07-19T13:16:11.423Z"
   },
   {
    "duration": 3,
    "start_time": "2022-07-19T13:16:12.531Z"
   },
   {
    "duration": 31,
    "start_time": "2022-07-19T13:16:12.714Z"
   },
   {
    "duration": 87,
    "start_time": "2022-07-19T13:16:12.908Z"
   },
   {
    "duration": 9,
    "start_time": "2022-07-19T13:16:13.119Z"
   },
   {
    "duration": 18,
    "start_time": "2022-07-19T13:16:13.681Z"
   },
   {
    "duration": 4,
    "start_time": "2022-07-19T13:16:13.891Z"
   },
   {
    "duration": 15,
    "start_time": "2022-07-19T13:16:14.304Z"
   },
   {
    "duration": 17,
    "start_time": "2022-07-19T13:16:14.848Z"
   },
   {
    "duration": 10,
    "start_time": "2022-07-19T13:16:15.045Z"
   },
   {
    "duration": 12,
    "start_time": "2022-07-19T13:16:15.520Z"
   },
   {
    "duration": 227,
    "start_time": "2022-07-19T13:16:16.828Z"
   },
   {
    "duration": 10,
    "start_time": "2022-07-19T13:16:18.434Z"
   },
   {
    "duration": 145,
    "start_time": "2022-07-19T13:16:18.628Z"
   },
   {
    "duration": 12,
    "start_time": "2022-07-19T13:16:20.409Z"
   },
   {
    "duration": 8,
    "start_time": "2022-07-19T13:16:21.662Z"
   },
   {
    "duration": 10,
    "start_time": "2022-07-19T13:16:22.023Z"
   },
   {
    "duration": 13,
    "start_time": "2022-07-19T13:16:22.705Z"
   },
   {
    "duration": 6,
    "start_time": "2022-07-19T13:16:22.950Z"
   },
   {
    "duration": 14,
    "start_time": "2022-07-19T13:16:26.347Z"
   },
   {
    "duration": 2,
    "start_time": "2022-07-19T13:16:27.320Z"
   },
   {
    "duration": 199,
    "start_time": "2022-07-19T13:16:28.250Z"
   },
   {
    "duration": 7,
    "start_time": "2022-07-19T13:16:30.851Z"
   },
   {
    "duration": 281,
    "start_time": "2022-07-19T13:16:36.180Z"
   },
   {
    "duration": 140,
    "start_time": "2022-07-19T13:16:38.579Z"
   },
   {
    "duration": 106,
    "start_time": "2022-07-19T13:19:48.313Z"
   },
   {
    "duration": 11,
    "start_time": "2022-07-19T13:20:08.566Z"
   },
   {
    "duration": 379,
    "start_time": "2022-07-19T13:20:39.528Z"
   },
   {
    "duration": 14,
    "start_time": "2022-07-19T13:22:29.490Z"
   },
   {
    "duration": 22,
    "start_time": "2022-07-19T13:22:41.202Z"
   },
   {
    "duration": 224,
    "start_time": "2022-07-19T13:22:58.502Z"
   },
   {
    "duration": 105,
    "start_time": "2022-07-19T13:30:30.779Z"
   },
   {
    "duration": 14,
    "start_time": "2022-07-19T13:31:21.014Z"
   },
   {
    "duration": 12,
    "start_time": "2022-07-19T13:31:35.291Z"
   },
   {
    "duration": 12,
    "start_time": "2022-07-19T13:32:02.166Z"
   },
   {
    "duration": 1158,
    "start_time": "2022-07-19T13:32:10.900Z"
   },
   {
    "duration": 66,
    "start_time": "2022-07-19T13:32:12.059Z"
   },
   {
    "duration": 11,
    "start_time": "2022-07-19T13:32:12.127Z"
   },
   {
    "duration": 12,
    "start_time": "2022-07-19T13:32:12.140Z"
   },
   {
    "duration": 8,
    "start_time": "2022-07-19T13:32:12.153Z"
   },
   {
    "duration": 6,
    "start_time": "2022-07-19T13:32:12.162Z"
   },
   {
    "duration": 26,
    "start_time": "2022-07-19T13:32:12.170Z"
   },
   {
    "duration": 100,
    "start_time": "2022-07-19T13:32:12.198Z"
   },
   {
    "duration": 9,
    "start_time": "2022-07-19T13:32:12.300Z"
   },
   {
    "duration": 20,
    "start_time": "2022-07-19T13:32:12.311Z"
   },
   {
    "duration": 21,
    "start_time": "2022-07-19T13:32:12.333Z"
   },
   {
    "duration": 19,
    "start_time": "2022-07-19T13:32:12.355Z"
   },
   {
    "duration": 17,
    "start_time": "2022-07-19T13:32:12.375Z"
   },
   {
    "duration": 10,
    "start_time": "2022-07-19T13:32:12.393Z"
   },
   {
    "duration": 17,
    "start_time": "2022-07-19T13:32:12.404Z"
   },
   {
    "duration": 230,
    "start_time": "2022-07-19T13:32:12.422Z"
   },
   {
    "duration": 9,
    "start_time": "2022-07-19T13:32:12.654Z"
   },
   {
    "duration": 149,
    "start_time": "2022-07-19T13:32:12.664Z"
   },
   {
    "duration": 11,
    "start_time": "2022-07-19T13:32:12.814Z"
   },
   {
    "duration": 6,
    "start_time": "2022-07-19T13:32:12.826Z"
   },
   {
    "duration": 23,
    "start_time": "2022-07-19T13:32:12.834Z"
   },
   {
    "duration": 10,
    "start_time": "2022-07-19T13:32:12.859Z"
   },
   {
    "duration": 5,
    "start_time": "2022-07-19T13:32:12.870Z"
   },
   {
    "duration": 13,
    "start_time": "2022-07-19T13:32:12.876Z"
   },
   {
    "duration": 3,
    "start_time": "2022-07-19T13:32:12.891Z"
   },
   {
    "duration": 209,
    "start_time": "2022-07-19T13:32:12.896Z"
   },
   {
    "duration": 8,
    "start_time": "2022-07-19T13:32:13.106Z"
   },
   {
    "duration": 288,
    "start_time": "2022-07-19T13:32:13.116Z"
   },
   {
    "duration": 129,
    "start_time": "2022-07-19T13:32:13.407Z"
   },
   {
    "duration": 347,
    "start_time": "2022-07-19T13:32:13.538Z"
   },
   {
    "duration": 124295,
    "start_time": "2022-07-19T13:32:13.887Z"
   },
   {
    "duration": 0,
    "start_time": "2022-07-19T13:34:18.185Z"
   },
   {
    "duration": 0,
    "start_time": "2022-07-19T13:34:18.186Z"
   },
   {
    "duration": 0,
    "start_time": "2022-07-19T13:34:18.188Z"
   },
   {
    "duration": 0,
    "start_time": "2022-07-19T13:34:18.190Z"
   },
   {
    "duration": 0,
    "start_time": "2022-07-19T13:34:18.191Z"
   },
   {
    "duration": 0,
    "start_time": "2022-07-19T13:34:18.193Z"
   },
   {
    "duration": 0,
    "start_time": "2022-07-19T13:34:18.194Z"
   },
   {
    "duration": 0,
    "start_time": "2022-07-19T13:34:18.196Z"
   },
   {
    "duration": 0,
    "start_time": "2022-07-19T13:34:18.197Z"
   },
   {
    "duration": 0,
    "start_time": "2022-07-19T13:34:18.198Z"
   },
   {
    "duration": 0,
    "start_time": "2022-07-19T13:34:18.200Z"
   },
   {
    "duration": 0,
    "start_time": "2022-07-19T13:34:18.201Z"
   },
   {
    "duration": 0,
    "start_time": "2022-07-19T13:34:18.202Z"
   },
   {
    "duration": 0,
    "start_time": "2022-07-19T13:34:18.203Z"
   },
   {
    "duration": 0,
    "start_time": "2022-07-19T13:34:18.205Z"
   },
   {
    "duration": 0,
    "start_time": "2022-07-19T13:34:18.207Z"
   },
   {
    "duration": 0,
    "start_time": "2022-07-19T13:34:18.208Z"
   },
   {
    "duration": 0,
    "start_time": "2022-07-19T13:34:18.212Z"
   },
   {
    "duration": 304,
    "start_time": "2022-07-19T13:34:35.986Z"
   },
   {
    "duration": 247,
    "start_time": "2022-07-19T13:34:51.661Z"
   },
   {
    "duration": 193,
    "start_time": "2022-07-19T13:35:00.849Z"
   },
   {
    "duration": 264,
    "start_time": "2022-07-19T13:35:13.107Z"
   },
   {
    "duration": 294,
    "start_time": "2022-07-19T13:35:25.129Z"
   },
   {
    "duration": 284,
    "start_time": "2022-07-19T13:35:36.878Z"
   },
   {
    "duration": 275,
    "start_time": "2022-07-19T13:35:50.391Z"
   },
   {
    "duration": 179,
    "start_time": "2022-07-19T13:36:31.979Z"
   },
   {
    "duration": 1191,
    "start_time": "2022-07-19T13:37:10.853Z"
   },
   {
    "duration": 62,
    "start_time": "2022-07-19T13:37:12.046Z"
   },
   {
    "duration": 12,
    "start_time": "2022-07-19T13:37:12.109Z"
   },
   {
    "duration": 18,
    "start_time": "2022-07-19T13:37:12.123Z"
   },
   {
    "duration": 13,
    "start_time": "2022-07-19T13:37:12.181Z"
   },
   {
    "duration": 4,
    "start_time": "2022-07-19T13:37:13.016Z"
   },
   {
    "duration": 27,
    "start_time": "2022-07-19T13:37:13.500Z"
   },
   {
    "duration": 95,
    "start_time": "2022-07-19T13:37:13.709Z"
   },
   {
    "duration": 10,
    "start_time": "2022-07-19T13:37:13.910Z"
   },
   {
    "duration": 19,
    "start_time": "2022-07-19T13:37:14.207Z"
   },
   {
    "duration": 6,
    "start_time": "2022-07-19T13:37:14.419Z"
   },
   {
    "duration": 18,
    "start_time": "2022-07-19T13:37:14.751Z"
   },
   {
    "duration": 18,
    "start_time": "2022-07-19T13:37:15.649Z"
   },
   {
    "duration": 10,
    "start_time": "2022-07-19T13:37:15.864Z"
   },
   {
    "duration": 15,
    "start_time": "2022-07-19T13:37:16.075Z"
   },
   {
    "duration": 231,
    "start_time": "2022-07-19T13:37:16.941Z"
   },
   {
    "duration": 12,
    "start_time": "2022-07-19T13:37:18.264Z"
   },
   {
    "duration": 176,
    "start_time": "2022-07-19T13:37:18.478Z"
   },
   {
    "duration": 17,
    "start_time": "2022-07-19T13:37:19.853Z"
   },
   {
    "duration": 10,
    "start_time": "2022-07-19T13:37:20.203Z"
   },
   {
    "duration": 12,
    "start_time": "2022-07-19T13:37:21.949Z"
   },
   {
    "duration": 13,
    "start_time": "2022-07-19T13:37:23.090Z"
   },
   {
    "duration": 6,
    "start_time": "2022-07-19T13:37:23.625Z"
   },
   {
    "duration": 15,
    "start_time": "2022-07-19T13:37:28.994Z"
   },
   {
    "duration": 3,
    "start_time": "2022-07-19T13:37:29.555Z"
   },
   {
    "duration": 198,
    "start_time": "2022-07-19T13:37:30.664Z"
   },
   {
    "duration": 10,
    "start_time": "2022-07-19T13:37:34.842Z"
   },
   {
    "duration": 311,
    "start_time": "2022-07-19T13:37:39.279Z"
   },
   {
    "duration": 128,
    "start_time": "2022-07-19T13:37:42.660Z"
   },
   {
    "duration": 365,
    "start_time": "2022-07-19T13:38:28.193Z"
   },
   {
    "duration": 941,
    "start_time": "2022-07-19T13:38:47.741Z"
   },
   {
    "duration": 801,
    "start_time": "2022-07-19T13:39:06.470Z"
   },
   {
    "duration": 1143,
    "start_time": "2022-07-19T13:39:22.420Z"
   },
   {
    "duration": 1077,
    "start_time": "2022-07-19T13:39:28.499Z"
   },
   {
    "duration": 1117,
    "start_time": "2022-07-19T13:39:39.361Z"
   },
   {
    "duration": 275,
    "start_time": "2022-07-19T13:48:31.060Z"
   },
   {
    "duration": 19,
    "start_time": "2022-07-19T13:50:23.820Z"
   },
   {
    "duration": 16,
    "start_time": "2022-07-19T13:50:40.405Z"
   },
   {
    "duration": 17,
    "start_time": "2022-07-19T13:50:43.683Z"
   },
   {
    "duration": 17,
    "start_time": "2022-07-19T13:50:49.407Z"
   },
   {
    "duration": 172,
    "start_time": "2022-07-19T13:52:04.968Z"
   },
   {
    "duration": 182,
    "start_time": "2022-07-19T13:52:16.547Z"
   },
   {
    "duration": 373,
    "start_time": "2022-07-19T13:53:16.461Z"
   },
   {
    "duration": 299,
    "start_time": "2022-07-19T13:53:23.171Z"
   },
   {
    "duration": 4,
    "start_time": "2022-07-19T13:53:44.504Z"
   },
   {
    "duration": 298,
    "start_time": "2022-07-19T13:55:33.019Z"
   },
   {
    "duration": 3,
    "start_time": "2022-07-19T13:55:37.968Z"
   },
   {
    "duration": 13,
    "start_time": "2022-07-19T13:55:47.946Z"
   },
   {
    "duration": 13,
    "start_time": "2022-07-19T13:56:16.459Z"
   },
   {
    "duration": 286,
    "start_time": "2022-07-19T14:01:27.704Z"
   },
   {
    "duration": 1119,
    "start_time": "2022-07-19T14:02:07.775Z"
   },
   {
    "duration": 803,
    "start_time": "2022-07-19T14:02:33.136Z"
   },
   {
    "duration": 371,
    "start_time": "2022-07-19T14:02:43.140Z"
   },
   {
    "duration": 14,
    "start_time": "2022-07-19T14:02:51.690Z"
   },
   {
    "duration": 284,
    "start_time": "2022-07-19T14:03:01.531Z"
   },
   {
    "duration": 815,
    "start_time": "2022-07-19T14:03:26.569Z"
   },
   {
    "duration": 172,
    "start_time": "2022-07-19T14:03:32.175Z"
   },
   {
    "duration": 810,
    "start_time": "2022-07-19T14:03:41.535Z"
   },
   {
    "duration": 811,
    "start_time": "2022-07-19T14:03:51.124Z"
   },
   {
    "duration": 136,
    "start_time": "2022-07-19T14:04:19.445Z"
   },
   {
    "duration": 127,
    "start_time": "2022-07-19T14:04:29.357Z"
   },
   {
    "duration": 146,
    "start_time": "2022-07-19T14:04:40.389Z"
   },
   {
    "duration": 5,
    "start_time": "2022-07-19T14:05:13.405Z"
   },
   {
    "duration": 149,
    "start_time": "2022-07-19T14:05:31.036Z"
   },
   {
    "duration": 13,
    "start_time": "2022-07-19T14:10:35.562Z"
   },
   {
    "duration": 4,
    "start_time": "2022-07-19T14:11:27.388Z"
   },
   {
    "duration": 14,
    "start_time": "2022-07-19T14:11:35.784Z"
   },
   {
    "duration": 13,
    "start_time": "2022-07-19T14:11:46.192Z"
   },
   {
    "duration": 13,
    "start_time": "2022-07-19T14:12:02.855Z"
   },
   {
    "duration": 451,
    "start_time": "2022-07-19T14:12:49.821Z"
   },
   {
    "duration": 273,
    "start_time": "2022-07-19T14:12:59.173Z"
   },
   {
    "duration": 1990,
    "start_time": "2022-07-20T08:53:01.251Z"
   },
   {
    "duration": 422,
    "start_time": "2022-07-20T08:53:05.108Z"
   },
   {
    "duration": 18,
    "start_time": "2022-07-20T08:53:05.653Z"
   },
   {
    "duration": 18,
    "start_time": "2022-07-20T08:53:05.948Z"
   },
   {
    "duration": 14,
    "start_time": "2022-07-20T08:53:06.259Z"
   },
   {
    "duration": 7,
    "start_time": "2022-07-20T08:53:08.142Z"
   },
   {
    "duration": 53,
    "start_time": "2022-07-20T08:53:08.407Z"
   },
   {
    "duration": 182,
    "start_time": "2022-07-20T08:53:08.707Z"
   },
   {
    "duration": 16,
    "start_time": "2022-07-20T08:53:08.946Z"
   },
   {
    "duration": 21,
    "start_time": "2022-07-20T08:53:09.475Z"
   },
   {
    "duration": 6,
    "start_time": "2022-07-20T08:53:09.901Z"
   },
   {
    "duration": 37,
    "start_time": "2022-07-20T08:53:10.997Z"
   },
   {
    "duration": 29,
    "start_time": "2022-07-20T08:53:12.935Z"
   },
   {
    "duration": 16,
    "start_time": "2022-07-20T08:53:13.235Z"
   },
   {
    "duration": 19,
    "start_time": "2022-07-20T08:53:13.595Z"
   },
   {
    "duration": 337,
    "start_time": "2022-07-20T08:53:17.551Z"
   },
   {
    "duration": 15,
    "start_time": "2022-07-20T08:53:23.954Z"
   },
   {
    "duration": 251,
    "start_time": "2022-07-20T08:53:24.294Z"
   },
   {
    "duration": 22,
    "start_time": "2022-07-20T08:53:26.182Z"
   },
   {
    "duration": 9,
    "start_time": "2022-07-20T08:53:26.673Z"
   },
   {
    "duration": 15,
    "start_time": "2022-07-20T08:53:29.733Z"
   },
   {
    "duration": 18,
    "start_time": "2022-07-20T08:53:31.884Z"
   },
   {
    "duration": 11,
    "start_time": "2022-07-20T08:53:32.977Z"
   },
   {
    "duration": 29,
    "start_time": "2022-07-20T08:53:37.675Z"
   },
   {
    "duration": 9,
    "start_time": "2022-07-20T08:53:38.801Z"
   },
   {
    "duration": 325,
    "start_time": "2022-07-20T08:53:40.162Z"
   },
   {
    "duration": 11,
    "start_time": "2022-07-20T08:53:44.264Z"
   },
   {
    "duration": 372,
    "start_time": "2022-07-20T08:53:50.598Z"
   },
   {
    "duration": 243,
    "start_time": "2022-07-20T08:53:51.803Z"
   },
   {
    "duration": 545,
    "start_time": "2022-07-20T08:54:06.295Z"
   },
   {
    "duration": 367,
    "start_time": "2022-07-20T08:54:36.839Z"
   },
   {
    "duration": 14,
    "start_time": "2022-07-20T08:54:54.909Z"
   },
   {
    "duration": 429,
    "start_time": "2022-07-20T08:55:11.548Z"
   },
   {
    "duration": 351,
    "start_time": "2022-07-20T08:55:40.340Z"
   },
   {
    "duration": 377,
    "start_time": "2022-07-20T08:55:51.188Z"
   },
   {
    "duration": 505,
    "start_time": "2022-07-20T08:55:56.272Z"
   },
   {
    "duration": 818,
    "start_time": "2022-07-20T08:57:16.436Z"
   },
   {
    "duration": 515,
    "start_time": "2022-07-20T08:57:56.157Z"
   },
   {
    "duration": 8,
    "start_time": "2022-07-20T08:58:49.931Z"
   },
   {
    "duration": 13,
    "start_time": "2022-07-20T08:58:56.518Z"
   },
   {
    "duration": 431,
    "start_time": "2022-07-20T08:59:31.055Z"
   },
   {
    "duration": 9,
    "start_time": "2022-07-20T08:59:52.377Z"
   },
   {
    "duration": 304,
    "start_time": "2022-07-20T08:59:59.200Z"
   },
   {
    "duration": 333,
    "start_time": "2022-07-20T09:00:07.306Z"
   },
   {
    "duration": 15,
    "start_time": "2022-07-20T09:00:09.922Z"
   },
   {
    "duration": 346,
    "start_time": "2022-07-20T09:00:11.654Z"
   },
   {
    "duration": 519,
    "start_time": "2022-07-20T09:00:21.644Z"
   },
   {
    "duration": 11,
    "start_time": "2022-07-20T09:00:52.160Z"
   },
   {
    "duration": 8,
    "start_time": "2022-07-20T09:01:16.428Z"
   },
   {
    "duration": 10,
    "start_time": "2022-07-20T09:01:31.605Z"
   },
   {
    "duration": 440,
    "start_time": "2022-07-20T09:02:59.863Z"
   },
   {
    "duration": 488,
    "start_time": "2022-07-20T09:04:40.031Z"
   },
   {
    "duration": 12,
    "start_time": "2022-07-20T09:07:34.080Z"
   },
   {
    "duration": 12,
    "start_time": "2022-07-20T09:07:49.399Z"
   },
   {
    "duration": 9,
    "start_time": "2022-07-20T09:10:31.825Z"
   },
   {
    "duration": 10,
    "start_time": "2022-07-20T09:10:46.925Z"
   },
   {
    "duration": 9,
    "start_time": "2022-07-20T09:10:56.309Z"
   },
   {
    "duration": 130,
    "start_time": "2022-07-20T09:11:23.361Z"
   },
   {
    "duration": 54,
    "start_time": "2022-07-20T09:11:50.436Z"
   },
   {
    "duration": 53,
    "start_time": "2022-07-20T09:11:55.157Z"
   },
   {
    "duration": 18,
    "start_time": "2022-07-20T09:12:54.565Z"
   },
   {
    "duration": 18,
    "start_time": "2022-07-20T09:13:13.781Z"
   },
   {
    "duration": 10,
    "start_time": "2022-07-20T09:13:26.483Z"
   },
   {
    "duration": 18,
    "start_time": "2022-07-20T09:13:47.243Z"
   },
   {
    "duration": 14,
    "start_time": "2022-07-20T09:13:56.581Z"
   },
   {
    "duration": 11,
    "start_time": "2022-07-20T09:15:39.151Z"
   },
   {
    "duration": 162,
    "start_time": "2022-07-20T09:16:01.220Z"
   },
   {
    "duration": 15,
    "start_time": "2022-07-20T09:16:16.358Z"
   },
   {
    "duration": 241,
    "start_time": "2022-07-20T09:18:54.436Z"
   },
   {
    "duration": 255,
    "start_time": "2022-07-20T09:20:30.216Z"
   },
   {
    "duration": 17,
    "start_time": "2022-07-20T09:20:52.420Z"
   },
   {
    "duration": 264,
    "start_time": "2022-07-20T09:20:58.770Z"
   },
   {
    "duration": 15,
    "start_time": "2022-07-20T09:21:16.137Z"
   },
   {
    "duration": 305,
    "start_time": "2022-07-20T09:21:19.130Z"
   },
   {
    "duration": 14,
    "start_time": "2022-07-20T09:21:55.135Z"
   },
   {
    "duration": 8,
    "start_time": "2022-07-20T09:22:03.672Z"
   },
   {
    "duration": 332,
    "start_time": "2022-07-20T09:22:25.065Z"
   },
   {
    "duration": 13,
    "start_time": "2022-07-20T09:22:39.240Z"
   },
   {
    "duration": 472,
    "start_time": "2022-07-20T09:22:41.572Z"
   },
   {
    "duration": 12,
    "start_time": "2022-07-20T09:24:41.486Z"
   },
   {
    "duration": 329,
    "start_time": "2022-07-20T09:24:43.450Z"
   },
   {
    "duration": 458,
    "start_time": "2022-07-20T09:24:57.858Z"
   },
   {
    "duration": 5,
    "start_time": "2022-07-20T09:29:20.969Z"
   },
   {
    "duration": 4,
    "start_time": "2022-07-20T09:29:23.231Z"
   },
   {
    "duration": 13,
    "start_time": "2022-07-20T09:29:27.665Z"
   },
   {
    "duration": 22,
    "start_time": "2022-07-20T09:29:28.517Z"
   },
   {
    "duration": 13,
    "start_time": "2022-07-20T09:29:30.179Z"
   },
   {
    "duration": 26,
    "start_time": "2022-07-20T09:29:33.955Z"
   },
   {
    "duration": 5,
    "start_time": "2022-07-20T09:29:36.068Z"
   },
   {
    "duration": 288,
    "start_time": "2022-07-20T09:29:36.734Z"
   },
   {
    "duration": 208,
    "start_time": "2022-07-20T09:29:39.426Z"
   },
   {
    "duration": 19,
    "start_time": "2022-07-20T09:29:41.167Z"
   },
   {
    "duration": 11,
    "start_time": "2022-07-20T09:29:42.882Z"
   },
   {
    "duration": 17,
    "start_time": "2022-07-20T09:29:47.265Z"
   },
   {
    "duration": 28,
    "start_time": "2022-07-20T09:29:51.543Z"
   },
   {
    "duration": 9,
    "start_time": "2022-07-20T09:29:52.500Z"
   },
   {
    "duration": 4,
    "start_time": "2022-07-20T09:29:53.475Z"
   },
   {
    "duration": 25,
    "start_time": "2022-07-20T09:29:55.751Z"
   },
   {
    "duration": 14,
    "start_time": "2022-07-20T09:29:58.145Z"
   },
   {
    "duration": 12,
    "start_time": "2022-07-20T09:30:02.895Z"
   },
   {
    "duration": 1405,
    "start_time": "2022-07-20T09:53:56.058Z"
   },
   {
    "duration": 91,
    "start_time": "2022-07-20T09:53:57.466Z"
   },
   {
    "duration": 20,
    "start_time": "2022-07-20T09:53:57.559Z"
   },
   {
    "duration": 48,
    "start_time": "2022-07-20T09:53:57.582Z"
   },
   {
    "duration": 41,
    "start_time": "2022-07-20T09:53:57.633Z"
   },
   {
    "duration": 13,
    "start_time": "2022-07-20T09:53:57.677Z"
   },
   {
    "duration": 97,
    "start_time": "2022-07-20T09:53:57.693Z"
   },
   {
    "duration": 221,
    "start_time": "2022-07-20T09:53:57.792Z"
   },
   {
    "duration": 19,
    "start_time": "2022-07-20T09:53:58.015Z"
   },
   {
    "duration": 45,
    "start_time": "2022-07-20T09:53:58.039Z"
   },
   {
    "duration": 7,
    "start_time": "2022-07-20T09:53:58.086Z"
   },
   {
    "duration": 78,
    "start_time": "2022-07-20T09:53:58.095Z"
   },
   {
    "duration": 38,
    "start_time": "2022-07-20T09:53:58.176Z"
   },
   {
    "duration": 17,
    "start_time": "2022-07-20T09:53:58.217Z"
   },
   {
    "duration": 30,
    "start_time": "2022-07-20T09:53:58.236Z"
   },
   {
    "duration": 306,
    "start_time": "2022-07-20T09:53:58.268Z"
   },
   {
    "duration": 13,
    "start_time": "2022-07-20T09:53:58.576Z"
   },
   {
    "duration": 244,
    "start_time": "2022-07-20T09:53:58.591Z"
   },
   {
    "duration": 20,
    "start_time": "2022-07-20T09:53:58.843Z"
   },
   {
    "duration": 17,
    "start_time": "2022-07-20T09:53:58.865Z"
   },
   {
    "duration": 20,
    "start_time": "2022-07-20T09:53:58.885Z"
   },
   {
    "duration": 55,
    "start_time": "2022-07-20T09:53:58.907Z"
   },
   {
    "duration": 16,
    "start_time": "2022-07-20T09:53:58.965Z"
   },
   {
    "duration": 37,
    "start_time": "2022-07-20T09:53:58.982Z"
   },
   {
    "duration": 23,
    "start_time": "2022-07-20T09:53:59.020Z"
   },
   {
    "duration": 293,
    "start_time": "2022-07-20T09:53:59.046Z"
   },
   {
    "duration": 10,
    "start_time": "2022-07-20T09:53:59.341Z"
   },
   {
    "duration": 389,
    "start_time": "2022-07-20T09:53:59.356Z"
   },
   {
    "duration": 187,
    "start_time": "2022-07-20T09:53:59.747Z"
   },
   {
    "duration": 11,
    "start_time": "2022-07-20T09:53:59.941Z"
   },
   {
    "duration": 525,
    "start_time": "2022-07-20T09:53:59.954Z"
   },
   {
    "duration": 4,
    "start_time": "2022-07-20T09:54:00.481Z"
   },
   {
    "duration": 82,
    "start_time": "2022-07-20T09:54:00.487Z"
   },
   {
    "duration": 99,
    "start_time": "2022-07-20T09:54:00.571Z"
   },
   {
    "duration": 28,
    "start_time": "2022-07-20T09:54:00.672Z"
   },
   {
    "duration": 70,
    "start_time": "2022-07-20T09:54:00.702Z"
   },
   {
    "duration": 7,
    "start_time": "2022-07-20T09:54:00.775Z"
   },
   {
    "duration": 397,
    "start_time": "2022-07-20T09:54:00.784Z"
   },
   {
    "duration": 293,
    "start_time": "2022-07-20T09:54:01.183Z"
   },
   {
    "duration": 19,
    "start_time": "2022-07-20T09:54:01.480Z"
   },
   {
    "duration": 57,
    "start_time": "2022-07-20T09:54:01.502Z"
   },
   {
    "duration": 79,
    "start_time": "2022-07-20T09:54:01.561Z"
   },
   {
    "duration": 107,
    "start_time": "2022-07-20T09:54:01.643Z"
   },
   {
    "duration": 32,
    "start_time": "2022-07-20T09:54:01.754Z"
   },
   {
    "duration": 118,
    "start_time": "2022-07-20T09:54:01.788Z"
   },
   {
    "duration": 161,
    "start_time": "2022-07-20T09:54:01.908Z"
   },
   {
    "duration": 30,
    "start_time": "2022-07-20T09:54:02.071Z"
   },
   {
    "duration": 63,
    "start_time": "2022-07-20T09:54:02.103Z"
   },
   {
    "duration": 1380,
    "start_time": "2022-07-20T11:27:46.139Z"
   },
   {
    "duration": 72,
    "start_time": "2022-07-20T11:27:47.520Z"
   },
   {
    "duration": 11,
    "start_time": "2022-07-20T11:27:47.594Z"
   },
   {
    "duration": 16,
    "start_time": "2022-07-20T11:27:47.608Z"
   },
   {
    "duration": 8,
    "start_time": "2022-07-20T11:27:47.626Z"
   },
   {
    "duration": 8,
    "start_time": "2022-07-20T11:27:47.636Z"
   },
   {
    "duration": 42,
    "start_time": "2022-07-20T11:27:47.645Z"
   },
   {
    "duration": 129,
    "start_time": "2022-07-20T11:27:47.689Z"
   },
   {
    "duration": 9,
    "start_time": "2022-07-20T11:27:47.820Z"
   },
   {
    "duration": 37,
    "start_time": "2022-07-20T11:27:47.832Z"
   },
   {
    "duration": 5,
    "start_time": "2022-07-20T11:27:47.877Z"
   },
   {
    "duration": 23,
    "start_time": "2022-07-20T11:27:47.884Z"
   },
   {
    "duration": 17,
    "start_time": "2022-07-20T11:27:47.909Z"
   },
   {
    "duration": 10,
    "start_time": "2022-07-20T11:27:47.927Z"
   },
   {
    "duration": 41,
    "start_time": "2022-07-20T11:27:47.939Z"
   },
   {
    "duration": 255,
    "start_time": "2022-07-20T11:27:47.983Z"
   },
   {
    "duration": 10,
    "start_time": "2022-07-20T11:27:48.240Z"
   },
   {
    "duration": 171,
    "start_time": "2022-07-20T11:27:48.261Z"
   },
   {
    "duration": 13,
    "start_time": "2022-07-20T11:27:48.434Z"
   },
   {
    "duration": 16,
    "start_time": "2022-07-20T11:27:48.460Z"
   },
   {
    "duration": 14,
    "start_time": "2022-07-20T11:27:48.478Z"
   },
   {
    "duration": 11,
    "start_time": "2022-07-20T11:27:48.494Z"
   },
   {
    "duration": 7,
    "start_time": "2022-07-20T11:27:48.507Z"
   },
   {
    "duration": 16,
    "start_time": "2022-07-20T11:27:48.516Z"
   },
   {
    "duration": 3,
    "start_time": "2022-07-20T11:27:48.533Z"
   },
   {
    "duration": 275,
    "start_time": "2022-07-20T11:27:48.537Z"
   },
   {
    "duration": 9,
    "start_time": "2022-07-20T11:27:48.815Z"
   },
   {
    "duration": 345,
    "start_time": "2022-07-20T11:27:48.828Z"
   },
   {
    "duration": 155,
    "start_time": "2022-07-20T11:27:49.175Z"
   },
   {
    "duration": 8,
    "start_time": "2022-07-20T11:27:49.332Z"
   },
   {
    "duration": 400,
    "start_time": "2022-07-20T11:27:49.342Z"
   },
   {
    "duration": 4,
    "start_time": "2022-07-20T11:27:49.743Z"
   },
   {
    "duration": 43,
    "start_time": "2022-07-20T11:27:49.748Z"
   },
   {
    "duration": 25,
    "start_time": "2022-07-20T11:27:49.793Z"
   },
   {
    "duration": 17,
    "start_time": "2022-07-20T11:27:49.820Z"
   },
   {
    "duration": 38,
    "start_time": "2022-07-20T11:27:49.839Z"
   },
   {
    "duration": 6,
    "start_time": "2022-07-20T11:27:49.879Z"
   },
   {
    "duration": 261,
    "start_time": "2022-07-20T11:27:49.887Z"
   },
   {
    "duration": 189,
    "start_time": "2022-07-20T11:27:50.149Z"
   },
   {
    "duration": 13,
    "start_time": "2022-07-20T11:27:50.339Z"
   },
   {
    "duration": 19,
    "start_time": "2022-07-20T11:27:50.354Z"
   },
   {
    "duration": 50,
    "start_time": "2022-07-20T11:27:50.375Z"
   },
   {
    "duration": 25,
    "start_time": "2022-07-20T11:27:50.427Z"
   },
   {
    "duration": 25,
    "start_time": "2022-07-20T11:27:50.454Z"
   },
   {
    "duration": 13,
    "start_time": "2022-07-20T11:27:50.481Z"
   },
   {
    "duration": 38,
    "start_time": "2022-07-20T11:27:50.496Z"
   },
   {
    "duration": 15,
    "start_time": "2022-07-20T11:27:50.536Z"
   },
   {
    "duration": 27,
    "start_time": "2022-07-20T11:27:50.553Z"
   }
  ],
  "kernelspec": {
   "display_name": "Python 3",
   "language": "python",
   "name": "python3"
  },
  "language_info": {
   "codemirror_mode": {
    "name": "ipython",
    "version": 3
   },
   "file_extension": ".py",
   "mimetype": "text/x-python",
   "name": "python",
   "nbconvert_exporter": "python",
   "pygments_lexer": "ipython3",
   "version": "3.7.3"
  },
  "toc": {
   "base_numbering": 1,
   "nav_menu": {},
   "number_sections": true,
   "sideBar": true,
   "skip_h1_title": true,
   "title_cell": "Table of Contents",
   "title_sidebar": "Contents",
   "toc_cell": false,
   "toc_position": {
    "height": "calc(100% - 180px)",
    "left": "10px",
    "top": "150px",
    "width": "353px"
   },
   "toc_section_display": true,
   "toc_window_display": true
  }
 },
 "nbformat": 4,
 "nbformat_minor": 2
}
